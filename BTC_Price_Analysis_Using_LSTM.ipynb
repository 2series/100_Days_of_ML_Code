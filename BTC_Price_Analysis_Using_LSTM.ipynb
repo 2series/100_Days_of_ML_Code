{
  "nbformat": 4,
  "nbformat_minor": 0,
  "metadata": {
    "colab": {
      "name": "BTC Price Analysis Using LSTM.ipynb",
      "version": "0.3.2",
      "provenance": [],
      "collapsed_sections": [],
      "include_colab_link": true
    },
    "kernelspec": {
      "name": "python3",
      "display_name": "Python 3"
    },
    "accelerator": "TPU"
  },
  "cells": [
    {
      "cell_type": "markdown",
      "metadata": {
        "id": "view-in-github",
        "colab_type": "text"
      },
      "source": [
        "<a href=\"https://colab.research.google.com/github/2series/100_Days_of_ML_Code/blob/master/BTC_Price_Analysis_Using_LSTM.ipynb\" target=\"_parent\"><img src=\"https://colab.research.google.com/assets/colab-badge.svg\" alt=\"Open In Colab\"/></a>"
      ]
    },
    {
      "metadata": {
        "id": "ywxe3gm4z4WF",
        "colab_type": "code",
        "colab": {
          "base_uri": "https://localhost:8080/",
          "height": 34
        },
        "outputId": "80ff8e13-a15a-47c5-cc6b-3016e282c079"
      },
      "cell_type": "code",
      "source": [
        "import numpy as np\n",
        "import pandas as pd\n",
        "import matplotlib.pyplot as plt\n",
        "import math\n",
        "\n",
        "from sklearn.preprocessing import MinMaxScaler\n",
        "from sklearn.metrics import mean_squared_error\n",
        "\n",
        "from keras.models import Sequential\n",
        "from keras.layers import Dense\n",
        "from keras.layers import LSTM"
      ],
      "execution_count": 3,
      "outputs": [
        {
          "output_type": "stream",
          "text": [
            "Using TensorFlow backend.\n"
          ],
          "name": "stderr"
        }
      ]
    },
    {
      "metadata": {
        "id": "jpmkpZ640MKz",
        "colab_type": "code",
        "colab": {
          "resources": {
            "http://localhost:8080/nbextensions/google.colab/files.js": {
              "data": "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",
              "ok": true,
              "headers": [
                [
                  "content-type",
                  "application/javascript"
                ]
              ],
              "status": 200,
              "status_text": ""
            }
          },
          "base_uri": "https://localhost:8080/",
          "height": 70
        },
        "outputId": "76daba72-2f66-4434-8821-c0fc1c6ccb42"
      },
      "cell_type": "code",
      "source": [
        "from google.colab import files\n",
        "files.upload()"
      ],
      "execution_count": 5,
      "outputs": [
        {
          "output_type": "display_data",
          "data": {
            "text/html": [
              "\n",
              "     <input type=\"file\" id=\"files-059bbe73-c4cf-4142-8fd7-543c32884b8e\" name=\"files[]\" multiple disabled />\n",
              "     <output id=\"result-059bbe73-c4cf-4142-8fd7-543c32884b8e\">\n",
              "      Upload widget is only available when the cell has been executed in the\n",
              "      current browser session. Please rerun this cell to enable.\n",
              "      </output>\n",
              "      <script src=\"/nbextensions/google.colab/files.js\"></script> "
            ],
            "text/plain": [
              "<IPython.core.display.HTML object>"
            ]
          },
          "metadata": {
            "tags": []
          }
        },
        {
          "output_type": "stream",
          "text": [
            "Saving bitcoin_ticker.csv to bitcoin_ticker.csv\n"
          ],
          "name": "stdout"
        }
      ]
    },
    {
      "metadata": {
        "id": "ncOzR31u0L9n",
        "colab_type": "code",
        "colab": {}
      },
      "cell_type": "code",
      "source": [
        "df = pd.read_csv('bitcoin_ticker.csv')"
      ],
      "execution_count": 0,
      "outputs": []
    },
    {
      "metadata": {
        "id": "qevJwr360L3c",
        "colab_type": "code",
        "colab": {
          "base_uri": "https://localhost:8080/",
          "height": 301
        },
        "outputId": "484200e2-14dc-4378-c572-688f9a3eb212"
      },
      "cell_type": "code",
      "source": [
        "df.head()"
      ],
      "execution_count": 43,
      "outputs": [
        {
          "output_type": "execute_result",
          "data": {
            "text/html": [
              "<div>\n",
              "<style scoped>\n",
              "    .dataframe tbody tr th:only-of-type {\n",
              "        vertical-align: middle;\n",
              "    }\n",
              "\n",
              "    .dataframe tbody tr th {\n",
              "        vertical-align: top;\n",
              "    }\n",
              "\n",
              "    .dataframe thead th {\n",
              "        text-align: right;\n",
              "    }\n",
              "</style>\n",
              "<table border=\"1\" class=\"dataframe\">\n",
              "  <thead>\n",
              "    <tr style=\"text-align: right;\">\n",
              "      <th></th>\n",
              "      <th>date_id</th>\n",
              "      <th>datetime_id</th>\n",
              "      <th>market</th>\n",
              "      <th>rpt_key</th>\n",
              "      <th>last</th>\n",
              "      <th>diff_24h</th>\n",
              "      <th>diff_per_24h</th>\n",
              "      <th>bid</th>\n",
              "      <th>ask</th>\n",
              "      <th>low</th>\n",
              "      <th>high</th>\n",
              "      <th>volume</th>\n",
              "      <th>created_at</th>\n",
              "      <th>updated_at</th>\n",
              "    </tr>\n",
              "  </thead>\n",
              "  <tbody>\n",
              "    <tr>\n",
              "      <th>0</th>\n",
              "      <td>2017-05-31</td>\n",
              "      <td>2017-06-01 00:00:00</td>\n",
              "      <td>bitstamp</td>\n",
              "      <td>btc_eur</td>\n",
              "      <td>1996.72</td>\n",
              "      <td>2029.99</td>\n",
              "      <td>-1.638924</td>\n",
              "      <td>2005.50</td>\n",
              "      <td>2005.56</td>\n",
              "      <td>1950.00</td>\n",
              "      <td>2063.73</td>\n",
              "      <td>2314.500750</td>\n",
              "      <td>2017-05-31 14:59:36</td>\n",
              "      <td>2017-05-31 14:59:36</td>\n",
              "    </tr>\n",
              "    <tr>\n",
              "      <th>1</th>\n",
              "      <td>2017-05-31</td>\n",
              "      <td>2017-06-01 00:00:00</td>\n",
              "      <td>bitflyer</td>\n",
              "      <td>btc_jpy</td>\n",
              "      <td>267098.00</td>\n",
              "      <td>269649.00</td>\n",
              "      <td>-0.946045</td>\n",
              "      <td>267124.00</td>\n",
              "      <td>267267.00</td>\n",
              "      <td>267124.00</td>\n",
              "      <td>267267.00</td>\n",
              "      <td>70922.880112</td>\n",
              "      <td>2017-05-31 14:59:36</td>\n",
              "      <td>2017-05-31 14:59:36</td>\n",
              "    </tr>\n",
              "    <tr>\n",
              "      <th>2</th>\n",
              "      <td>2017-05-31</td>\n",
              "      <td>2017-06-01 00:00:00</td>\n",
              "      <td>korbit</td>\n",
              "      <td>btc_krw</td>\n",
              "      <td>3003500.00</td>\n",
              "      <td>3140000.00</td>\n",
              "      <td>-4.347134</td>\n",
              "      <td>3003500.00</td>\n",
              "      <td>3004000.00</td>\n",
              "      <td>3002000.00</td>\n",
              "      <td>3209500.00</td>\n",
              "      <td>6109.752872</td>\n",
              "      <td>2017-05-31 14:59:36</td>\n",
              "      <td>2017-05-31 14:59:36</td>\n",
              "    </tr>\n",
              "    <tr>\n",
              "      <th>3</th>\n",
              "      <td>2017-05-31</td>\n",
              "      <td>2017-06-01 00:00:00</td>\n",
              "      <td>bitstamp</td>\n",
              "      <td>btc_usd</td>\n",
              "      <td>2237.40</td>\n",
              "      <td>2239.37</td>\n",
              "      <td>-0.087971</td>\n",
              "      <td>2233.09</td>\n",
              "      <td>2237.40</td>\n",
              "      <td>2154.28</td>\n",
              "      <td>2293.46</td>\n",
              "      <td>13681.282017</td>\n",
              "      <td>2017-05-31 14:59:36</td>\n",
              "      <td>2017-05-31 14:59:36</td>\n",
              "    </tr>\n",
              "    <tr>\n",
              "      <th>4</th>\n",
              "      <td>2017-05-31</td>\n",
              "      <td>2017-06-01 00:00:00</td>\n",
              "      <td>okcoin</td>\n",
              "      <td>btc_usd</td>\n",
              "      <td>2318.82</td>\n",
              "      <td>2228.70</td>\n",
              "      <td>4.043613</td>\n",
              "      <td>2319.40</td>\n",
              "      <td>2319.99</td>\n",
              "      <td>2129.78</td>\n",
              "      <td>2318.82</td>\n",
              "      <td>4241.641516</td>\n",
              "      <td>2017-05-31 14:59:36</td>\n",
              "      <td>2017-05-31 14:59:36</td>\n",
              "    </tr>\n",
              "  </tbody>\n",
              "</table>\n",
              "</div>"
            ],
            "text/plain": [
              "      date_id          datetime_id    market  rpt_key        last    diff_24h  \\\n",
              "0  2017-05-31  2017-06-01 00:00:00  bitstamp  btc_eur     1996.72     2029.99   \n",
              "1  2017-05-31  2017-06-01 00:00:00  bitflyer  btc_jpy   267098.00   269649.00   \n",
              "2  2017-05-31  2017-06-01 00:00:00    korbit  btc_krw  3003500.00  3140000.00   \n",
              "3  2017-05-31  2017-06-01 00:00:00  bitstamp  btc_usd     2237.40     2239.37   \n",
              "4  2017-05-31  2017-06-01 00:00:00    okcoin  btc_usd     2318.82     2228.70   \n",
              "\n",
              "   diff_per_24h         bid         ask         low        high        volume  \\\n",
              "0     -1.638924     2005.50     2005.56     1950.00     2063.73   2314.500750   \n",
              "1     -0.946045   267124.00   267267.00   267124.00   267267.00  70922.880112   \n",
              "2     -4.347134  3003500.00  3004000.00  3002000.00  3209500.00   6109.752872   \n",
              "3     -0.087971     2233.09     2237.40     2154.28     2293.46  13681.282017   \n",
              "4      4.043613     2319.40     2319.99     2129.78     2318.82   4241.641516   \n",
              "\n",
              "            created_at           updated_at  \n",
              "0  2017-05-31 14:59:36  2017-05-31 14:59:36  \n",
              "1  2017-05-31 14:59:36  2017-05-31 14:59:36  \n",
              "2  2017-05-31 14:59:36  2017-05-31 14:59:36  \n",
              "3  2017-05-31 14:59:36  2017-05-31 14:59:36  \n",
              "4  2017-05-31 14:59:36  2017-05-31 14:59:36  "
            ]
          },
          "metadata": {
            "tags": []
          },
          "execution_count": 43
        }
      ]
    },
    {
      "metadata": {
        "id": "DTvlGgZV0LqH",
        "colab_type": "code",
        "colab": {
          "base_uri": "https://localhost:8080/",
          "height": 283
        },
        "outputId": "34ca52b7-15a2-40d0-a3f9-f8e83a221754"
      },
      "cell_type": "code",
      "source": [
        "df.dtypes"
      ],
      "execution_count": 44,
      "outputs": [
        {
          "output_type": "execute_result",
          "data": {
            "text/plain": [
              "date_id          object\n",
              "datetime_id      object\n",
              "market           object\n",
              "rpt_key          object\n",
              "last            float64\n",
              "diff_24h        float64\n",
              "diff_per_24h    float64\n",
              "bid             float64\n",
              "ask             float64\n",
              "low             float64\n",
              "high            float64\n",
              "volume          float64\n",
              "created_at       object\n",
              "updated_at       object\n",
              "dtype: object"
            ]
          },
          "metadata": {
            "tags": []
          },
          "execution_count": 44
        }
      ]
    },
    {
      "metadata": {
        "id": "q1ycdkcL0LV2",
        "colab_type": "code",
        "colab": {
          "base_uri": "https://localhost:8080/",
          "height": 34
        },
        "outputId": "765f0c5b-afc9-4f67-d408-b965d7fc0ac3"
      },
      "cell_type": "code",
      "source": [
        "df.shape"
      ],
      "execution_count": 45,
      "outputs": [
        {
          "output_type": "execute_result",
          "data": {
            "text/plain": [
              "(627190, 14)"
            ]
          },
          "metadata": {
            "tags": []
          },
          "execution_count": 45
        }
      ]
    },
    {
      "metadata": {
        "id": "rIdTfOmJipvA",
        "colab_type": "text"
      },
      "cell_type": "markdown",
      "source": [
        "#Feature  Extraction"
      ]
    },
    {
      "metadata": {
        "id": "fJP5ZS380K_W",
        "colab_type": "code",
        "colab": {
          "base_uri": "https://localhost:8080/",
          "height": 194
        },
        "outputId": "bad0f615-00ce-4945-ba2c-7d44b2b099a0"
      },
      "cell_type": "code",
      "source": [
        "df['rpt_key'].value_counts()"
      ],
      "execution_count": 46,
      "outputs": [
        {
          "output_type": "execute_result",
          "data": {
            "text/plain": [
              "btc_usd       125438\n",
              "eth_btc        62719\n",
              "ltc_usd        62719\n",
              "btc_eur        62719\n",
              "btc_krw        62719\n",
              "etc_krw        62719\n",
              "btc_jpy        62719\n",
              "eth_krw        62719\n",
              "fx_btc_jpy     62719\n",
              "Name: rpt_key, dtype: int64"
            ]
          },
          "metadata": {
            "tags": []
          },
          "execution_count": 46
        }
      ]
    },
    {
      "metadata": {
        "id": "TBr9I6DI0K4S",
        "colab_type": "code",
        "colab": {}
      },
      "cell_type": "code",
      "source": [
        "df = df.loc[(df['rpt_key'] == 'btc_usd')]"
      ],
      "execution_count": 0,
      "outputs": []
    },
    {
      "metadata": {
        "id": "f6bsArnB0Kyg",
        "colab_type": "code",
        "colab": {
          "base_uri": "https://localhost:8080/",
          "height": 281
        },
        "outputId": "dca7cc6e-637c-4a3d-aa06-500bfeb840a1"
      },
      "cell_type": "code",
      "source": [
        "df.head()"
      ],
      "execution_count": 48,
      "outputs": [
        {
          "output_type": "execute_result",
          "data": {
            "text/html": [
              "<div>\n",
              "<style scoped>\n",
              "    .dataframe tbody tr th:only-of-type {\n",
              "        vertical-align: middle;\n",
              "    }\n",
              "\n",
              "    .dataframe tbody tr th {\n",
              "        vertical-align: top;\n",
              "    }\n",
              "\n",
              "    .dataframe thead th {\n",
              "        text-align: right;\n",
              "    }\n",
              "</style>\n",
              "<table border=\"1\" class=\"dataframe\">\n",
              "  <thead>\n",
              "    <tr style=\"text-align: right;\">\n",
              "      <th></th>\n",
              "      <th>date_id</th>\n",
              "      <th>datetime_id</th>\n",
              "      <th>market</th>\n",
              "      <th>rpt_key</th>\n",
              "      <th>last</th>\n",
              "      <th>diff_24h</th>\n",
              "      <th>diff_per_24h</th>\n",
              "      <th>bid</th>\n",
              "      <th>ask</th>\n",
              "      <th>low</th>\n",
              "      <th>high</th>\n",
              "      <th>volume</th>\n",
              "      <th>created_at</th>\n",
              "      <th>updated_at</th>\n",
              "    </tr>\n",
              "  </thead>\n",
              "  <tbody>\n",
              "    <tr>\n",
              "      <th>3</th>\n",
              "      <td>2017-05-31</td>\n",
              "      <td>2017-06-01 00:00:00</td>\n",
              "      <td>bitstamp</td>\n",
              "      <td>btc_usd</td>\n",
              "      <td>2237.40</td>\n",
              "      <td>2239.37</td>\n",
              "      <td>-0.087971</td>\n",
              "      <td>2233.09</td>\n",
              "      <td>2237.40</td>\n",
              "      <td>2154.28</td>\n",
              "      <td>2293.46</td>\n",
              "      <td>13681.282017</td>\n",
              "      <td>2017-05-31 14:59:36</td>\n",
              "      <td>2017-05-31 14:59:36</td>\n",
              "    </tr>\n",
              "    <tr>\n",
              "      <th>4</th>\n",
              "      <td>2017-05-31</td>\n",
              "      <td>2017-06-01 00:00:00</td>\n",
              "      <td>okcoin</td>\n",
              "      <td>btc_usd</td>\n",
              "      <td>2318.82</td>\n",
              "      <td>2228.70</td>\n",
              "      <td>4.043613</td>\n",
              "      <td>2319.40</td>\n",
              "      <td>2319.99</td>\n",
              "      <td>2129.78</td>\n",
              "      <td>2318.82</td>\n",
              "      <td>4241.641516</td>\n",
              "      <td>2017-05-31 14:59:36</td>\n",
              "      <td>2017-05-31 14:59:36</td>\n",
              "    </tr>\n",
              "    <tr>\n",
              "      <th>15</th>\n",
              "      <td>2017-06-01</td>\n",
              "      <td>2017-06-01 00:01:00</td>\n",
              "      <td>bitstamp</td>\n",
              "      <td>btc_usd</td>\n",
              "      <td>2248.39</td>\n",
              "      <td>2242.44</td>\n",
              "      <td>0.265336</td>\n",
              "      <td>2247.77</td>\n",
              "      <td>2248.38</td>\n",
              "      <td>2154.28</td>\n",
              "      <td>2293.46</td>\n",
              "      <td>13701.698603</td>\n",
              "      <td>2017-05-31 15:00:36</td>\n",
              "      <td>2017-05-31 15:00:36</td>\n",
              "    </tr>\n",
              "    <tr>\n",
              "      <th>16</th>\n",
              "      <td>2017-06-01</td>\n",
              "      <td>2017-06-01 00:01:00</td>\n",
              "      <td>okcoin</td>\n",
              "      <td>btc_usd</td>\n",
              "      <td>2320.42</td>\n",
              "      <td>2228.40</td>\n",
              "      <td>4.129420</td>\n",
              "      <td>2320.99</td>\n",
              "      <td>2321.49</td>\n",
              "      <td>2129.78</td>\n",
              "      <td>2322.00</td>\n",
              "      <td>4260.261516</td>\n",
              "      <td>2017-05-31 15:00:36</td>\n",
              "      <td>2017-05-31 15:00:36</td>\n",
              "    </tr>\n",
              "    <tr>\n",
              "      <th>23</th>\n",
              "      <td>2017-06-01</td>\n",
              "      <td>2017-06-01 00:02:00</td>\n",
              "      <td>bitstamp</td>\n",
              "      <td>btc_usd</td>\n",
              "      <td>2248.35</td>\n",
              "      <td>2238.58</td>\n",
              "      <td>0.436437</td>\n",
              "      <td>2248.35</td>\n",
              "      <td>2248.69</td>\n",
              "      <td>2154.28</td>\n",
              "      <td>2293.46</td>\n",
              "      <td>13742.110913</td>\n",
              "      <td>2017-05-31 15:01:36</td>\n",
              "      <td>2017-05-31 15:01:36</td>\n",
              "    </tr>\n",
              "  </tbody>\n",
              "</table>\n",
              "</div>"
            ],
            "text/plain": [
              "       date_id          datetime_id    market  rpt_key     last  diff_24h  \\\n",
              "3   2017-05-31  2017-06-01 00:00:00  bitstamp  btc_usd  2237.40   2239.37   \n",
              "4   2017-05-31  2017-06-01 00:00:00    okcoin  btc_usd  2318.82   2228.70   \n",
              "15  2017-06-01  2017-06-01 00:01:00  bitstamp  btc_usd  2248.39   2242.44   \n",
              "16  2017-06-01  2017-06-01 00:01:00    okcoin  btc_usd  2320.42   2228.40   \n",
              "23  2017-06-01  2017-06-01 00:02:00  bitstamp  btc_usd  2248.35   2238.58   \n",
              "\n",
              "    diff_per_24h      bid      ask      low     high        volume  \\\n",
              "3      -0.087971  2233.09  2237.40  2154.28  2293.46  13681.282017   \n",
              "4       4.043613  2319.40  2319.99  2129.78  2318.82   4241.641516   \n",
              "15      0.265336  2247.77  2248.38  2154.28  2293.46  13701.698603   \n",
              "16      4.129420  2320.99  2321.49  2129.78  2322.00   4260.261516   \n",
              "23      0.436437  2248.35  2248.69  2154.28  2293.46  13742.110913   \n",
              "\n",
              "             created_at           updated_at  \n",
              "3   2017-05-31 14:59:36  2017-05-31 14:59:36  \n",
              "4   2017-05-31 14:59:36  2017-05-31 14:59:36  \n",
              "15  2017-05-31 15:00:36  2017-05-31 15:00:36  \n",
              "16  2017-05-31 15:00:36  2017-05-31 15:00:36  \n",
              "23  2017-05-31 15:01:36  2017-05-31 15:01:36  "
            ]
          },
          "metadata": {
            "tags": []
          },
          "execution_count": 48
        }
      ]
    },
    {
      "metadata": {
        "id": "YTljgXgw6rDp",
        "colab_type": "text"
      },
      "cell_type": "markdown",
      "source": [
        "# Convert datetime_id to data type and filter dates greater than 2017-06-28 00:00:00"
      ]
    },
    {
      "metadata": {
        "id": "DGeNPUFr0KsI",
        "colab_type": "code",
        "colab": {}
      },
      "cell_type": "code",
      "source": [
        "df = df.reset_index(drop=True)\n",
        "df['datetime'] = pd.to_datetime(df['datetime_id'])\n",
        "df = df.loc[df['datetime'] > pd.to_datetime('2017-06-28 00:00:00')]"
      ],
      "execution_count": 0,
      "outputs": []
    },
    {
      "metadata": {
        "id": "vUb38jat6aZ8",
        "colab_type": "code",
        "colab": {}
      },
      "cell_type": "code",
      "source": [
        "df = df[['datetime', 'last', 'diff_24h', 'diff_per_24h', 'bid', 'ask', 'low', 'high', 'volume']]"
      ],
      "execution_count": 0,
      "outputs": []
    },
    {
      "metadata": {
        "id": "z7Y1qipa6aNe",
        "colab_type": "code",
        "colab": {
          "base_uri": "https://localhost:8080/",
          "height": 197
        },
        "outputId": "d2688b13-7d6d-4701-cea0-86d0bcec7fac"
      },
      "cell_type": "code",
      "source": [
        "df.head()"
      ],
      "execution_count": 51,
      "outputs": [
        {
          "output_type": "execute_result",
          "data": {
            "text/html": [
              "<div>\n",
              "<style scoped>\n",
              "    .dataframe tbody tr th:only-of-type {\n",
              "        vertical-align: middle;\n",
              "    }\n",
              "\n",
              "    .dataframe tbody tr th {\n",
              "        vertical-align: top;\n",
              "    }\n",
              "\n",
              "    .dataframe thead th {\n",
              "        text-align: right;\n",
              "    }\n",
              "</style>\n",
              "<table border=\"1\" class=\"dataframe\">\n",
              "  <thead>\n",
              "    <tr style=\"text-align: right;\">\n",
              "      <th></th>\n",
              "      <th>datetime</th>\n",
              "      <th>last</th>\n",
              "      <th>diff_24h</th>\n",
              "      <th>diff_per_24h</th>\n",
              "      <th>bid</th>\n",
              "      <th>ask</th>\n",
              "      <th>low</th>\n",
              "      <th>high</th>\n",
              "      <th>volume</th>\n",
              "    </tr>\n",
              "  </thead>\n",
              "  <tbody>\n",
              "    <tr>\n",
              "      <th>77762</th>\n",
              "      <td>2017-06-28 00:01:00</td>\n",
              "      <td>2344.00</td>\n",
              "      <td>2491.98</td>\n",
              "      <td>-5.938250</td>\n",
              "      <td>2335.01</td>\n",
              "      <td>2343.89</td>\n",
              "      <td>2307.0</td>\n",
              "      <td>2473.19</td>\n",
              "      <td>20719.583592</td>\n",
              "    </tr>\n",
              "    <tr>\n",
              "      <th>77763</th>\n",
              "      <td>2017-06-28 00:01:00</td>\n",
              "      <td>2499.39</td>\n",
              "      <td>2682.25</td>\n",
              "      <td>-6.817411</td>\n",
              "      <td>2495.00</td>\n",
              "      <td>2499.33</td>\n",
              "      <td>2444.0</td>\n",
              "      <td>2780.62</td>\n",
              "      <td>2265.557866</td>\n",
              "    </tr>\n",
              "    <tr>\n",
              "      <th>77764</th>\n",
              "      <td>2017-06-28 00:02:00</td>\n",
              "      <td>2337.18</td>\n",
              "      <td>2491.98</td>\n",
              "      <td>-6.211928</td>\n",
              "      <td>2337.18</td>\n",
              "      <td>2340.00</td>\n",
              "      <td>2307.0</td>\n",
              "      <td>2473.19</td>\n",
              "      <td>20732.082581</td>\n",
              "    </tr>\n",
              "    <tr>\n",
              "      <th>77765</th>\n",
              "      <td>2017-06-28 00:02:00</td>\n",
              "      <td>2492.76</td>\n",
              "      <td>2682.25</td>\n",
              "      <td>-7.064591</td>\n",
              "      <td>2492.76</td>\n",
              "      <td>2495.00</td>\n",
              "      <td>2444.0</td>\n",
              "      <td>2780.62</td>\n",
              "      <td>2262.618866</td>\n",
              "    </tr>\n",
              "    <tr>\n",
              "      <th>77766</th>\n",
              "      <td>2017-06-28 00:03:00</td>\n",
              "      <td>2335.02</td>\n",
              "      <td>2491.98</td>\n",
              "      <td>-6.298606</td>\n",
              "      <td>2335.01</td>\n",
              "      <td>2335.02</td>\n",
              "      <td>2307.0</td>\n",
              "      <td>2473.19</td>\n",
              "      <td>20665.357191</td>\n",
              "    </tr>\n",
              "  </tbody>\n",
              "</table>\n",
              "</div>"
            ],
            "text/plain": [
              "                 datetime     last  diff_24h  diff_per_24h      bid      ask  \\\n",
              "77762 2017-06-28 00:01:00  2344.00   2491.98     -5.938250  2335.01  2343.89   \n",
              "77763 2017-06-28 00:01:00  2499.39   2682.25     -6.817411  2495.00  2499.33   \n",
              "77764 2017-06-28 00:02:00  2337.18   2491.98     -6.211928  2337.18  2340.00   \n",
              "77765 2017-06-28 00:02:00  2492.76   2682.25     -7.064591  2492.76  2495.00   \n",
              "77766 2017-06-28 00:03:00  2335.02   2491.98     -6.298606  2335.01  2335.02   \n",
              "\n",
              "          low     high        volume  \n",
              "77762  2307.0  2473.19  20719.583592  \n",
              "77763  2444.0  2780.62   2265.557866  \n",
              "77764  2307.0  2473.19  20732.082581  \n",
              "77765  2444.0  2780.62   2262.618866  \n",
              "77766  2307.0  2473.19  20665.357191  "
            ]
          },
          "metadata": {
            "tags": []
          },
          "execution_count": 51
        }
      ]
    },
    {
      "metadata": {
        "id": "K7NCvCkW7fsD",
        "colab_type": "text"
      },
      "cell_type": "markdown",
      "source": [
        "# We require only the 'last value' column, thus subset that and convert it to numpy array"
      ]
    },
    {
      "metadata": {
        "id": "BBEjUF1e6Z_S",
        "colab_type": "code",
        "colab": {}
      },
      "cell_type": "code",
      "source": [
        "df = df[['last']]"
      ],
      "execution_count": 0,
      "outputs": []
    },
    {
      "metadata": {
        "id": "3jB_jiqN6Z2l",
        "colab_type": "code",
        "colab": {}
      },
      "cell_type": "code",
      "source": [
        "dataset = df.values\n",
        "dataset = dataset.astype('float32')"
      ],
      "execution_count": 0,
      "outputs": []
    },
    {
      "metadata": {
        "id": "EaOwO1vl6Ztk",
        "colab_type": "code",
        "colab": {
          "base_uri": "https://localhost:8080/",
          "height": 141
        },
        "outputId": "3d44ca4d-cc2a-4daf-9749-17e17f3ff891"
      },
      "cell_type": "code",
      "source": [
        "dataset"
      ],
      "execution_count": 57,
      "outputs": [
        {
          "output_type": "execute_result",
          "data": {
            "text/plain": [
              "array([[2344.  ],\n",
              "       [2499.39],\n",
              "       [2337.18],\n",
              "       ...,\n",
              "       [2394.03],\n",
              "       [2320.47],\n",
              "       [2394.03]], dtype=float32)"
            ]
          },
          "metadata": {
            "tags": []
          },
          "execution_count": 57
        }
      ]
    },
    {
      "metadata": {
        "id": "no8YDsV9E4L4",
        "colab_type": "text"
      },
      "cell_type": "markdown",
      "source": [
        "Neural networks are sensitive to input data, especiallly when using activation functions. Hence, we rescale our data to the range of 0-to-1, using MinMaxScaler\n",
        "\n"
      ]
    },
    {
      "metadata": {
        "id": "Xvp9FvnE6Zjx",
        "colab_type": "code",
        "colab": {}
      },
      "cell_type": "code",
      "source": [
        "scaler = MinMaxScaler(feature_range=(0, 1))\n",
        "dataset = scaler.fit_transform(dataset)"
      ],
      "execution_count": 0,
      "outputs": []
    },
    {
      "metadata": {
        "id": "SAcs3bhD6ZaM",
        "colab_type": "code",
        "colab": {
          "base_uri": "https://localhost:8080/",
          "height": 141
        },
        "outputId": "b49fb104-befd-4b88-a28c-620b74358e2e"
      },
      "cell_type": "code",
      "source": [
        "dataset"
      ],
      "execution_count": 59,
      "outputs": [
        {
          "output_type": "execute_result",
          "data": {
            "text/plain": [
              "array([[0.1997695 ],\n",
              "       [0.49828053],\n",
              "       [0.18666792],\n",
              "       ...,\n",
              "       [0.29587936],\n",
              "       [0.15456724],\n",
              "       [0.29587936]], dtype=float32)"
            ]
          },
          "metadata": {
            "tags": []
          },
          "execution_count": 59
        }
      ]
    },
    {
      "metadata": {
        "id": "nlTDUKw5FYb9",
        "colab_type": "text"
      },
      "cell_type": "markdown",
      "source": [
        "# Splitting of data"
      ]
    },
    {
      "metadata": {
        "id": "8Opx045w0Klb",
        "colab_type": "code",
        "colab": {
          "base_uri": "https://localhost:8080/",
          "height": 34
        },
        "outputId": "f3e30230-5d13-44d3-c27b-abda690bc95c"
      },
      "cell_type": "code",
      "source": [
        "train = int(len(dataset) * 0.69)\n",
        "test = len(dataset) - train\n",
        "train, test = dataset[0:train, :], dataset[train:len(dataset), :]\n",
        "print(len(train), len(test))"
      ],
      "execution_count": 138,
      "outputs": [
        {
          "output_type": "stream",
          "text": [
            "32896 14780\n"
          ],
          "name": "stdout"
        }
      ]
    },
    {
      "metadata": {
        "id": "FcSY-abVFipV",
        "colab_type": "text"
      },
      "cell_type": "markdown",
      "source": [
        "Now let us define the function called create_dataset, which take two inputs,\n",
        "\n",
        "*   Dataset - numpy array that we want to convert into a dataset\n",
        "*   Look_back - number of previous time steps to use as input variables to predict the next time period"
      ]
    },
    {
      "metadata": {
        "id": "XG2L8ASG0Kfa",
        "colab_type": "code",
        "colab": {}
      },
      "cell_type": "code",
      "source": [
        "# Convert an array of values into a dataset matrix\n",
        "\n",
        "def create_dataset(dataset, look_back=1):\n",
        "  dataX, dataY = [], []\n",
        "  for i in range(len(dataset)-look_back-1):\n",
        "    a = dataset[i:(i+look_back), 0]\n",
        "    dataX.append(a)\n",
        "    dataY.append(dataset[i + look_back, 0])\n",
        "  return np.array(dataX), np.array(dataY)"
      ],
      "execution_count": 0,
      "outputs": []
    },
    {
      "metadata": {
        "id": "GereXzWB0KXn",
        "colab_type": "code",
        "colab": {}
      },
      "cell_type": "code",
      "source": [
        "look_back = 10\n",
        "trainX, trainY = create_dataset(train, look_back=look_back)\n",
        "testX, testY = create_dataset(test, look_back=look_back)"
      ],
      "execution_count": 0,
      "outputs": []
    },
    {
      "metadata": {
        "id": "YaF73Y_W0KPS",
        "colab_type": "code",
        "colab": {
          "base_uri": "https://localhost:8080/",
          "height": 247
        },
        "outputId": "c44e8979-99dc-41df-c5b7-910bdb4b4408"
      },
      "cell_type": "code",
      "source": [
        "trainX"
      ],
      "execution_count": 141,
      "outputs": [
        {
          "output_type": "execute_result",
          "data": {
            "text/plain": [
              "array([[0.1997695 , 0.49828053, 0.18666792, ..., 0.4975314 , 0.19973087,\n",
              "        0.4860053 ],\n",
              "       [0.49828053, 0.18666792, 0.4855442 , ..., 0.19973087, 0.4860053 ,\n",
              "        0.18442059],\n",
              "       [0.18666792, 0.4855442 , 0.18251848, ..., 0.4860053 , 0.18442059,\n",
              "        0.48598576],\n",
              "       ...,\n",
              "       [0.59613895, 0.8365383 , 0.6023631 , ..., 0.81961393, 0.6017289 ,\n",
              "        0.81961393],\n",
              "       [0.8365383 , 0.6023631 , 0.83350277, ..., 0.6017289 , 0.81961393,\n",
              "        0.5976372 ],\n",
              "       [0.6023631 , 0.83350277, 0.60199785, ..., 0.81961393, 0.5976372 ,\n",
              "        0.81961393]], dtype=float32)"
            ]
          },
          "metadata": {
            "tags": []
          },
          "execution_count": 141
        }
      ]
    },
    {
      "metadata": {
        "id": "kYj2BNff0KDj",
        "colab_type": "code",
        "colab": {
          "base_uri": "https://localhost:8080/",
          "height": 52
        },
        "outputId": "576e9812-0732-412c-80fd-3b8555343657"
      },
      "cell_type": "code",
      "source": [
        "trainY"
      ],
      "execution_count": 142,
      "outputs": [
        {
          "output_type": "execute_result",
          "data": {
            "text/plain": [
              "array([0.18442059, 0.48598576, 0.19208527, ..., 0.5976372 , 0.81961393,\n",
              "       0.5976372 ], dtype=float32)"
            ]
          },
          "metadata": {
            "tags": []
          },
          "execution_count": 142
        }
      ]
    },
    {
      "metadata": {
        "id": "nRNdDAyNGF0O",
        "colab_type": "code",
        "colab": {}
      },
      "cell_type": "code",
      "source": [
        "# Reshape input to be [samples, time steps, features\n",
        "\n",
        "trainX = np.reshape(trainX, (trainX.shape[0], 1, trainX.shape[1]))\n",
        "testX = np.reshape(testX, (testX.shape[0], 1, testX.shape[1]))"
      ],
      "execution_count": 0,
      "outputs": []
    },
    {
      "metadata": {
        "id": "2GAhHkmtGqzi",
        "colab_type": "text"
      },
      "cell_type": "markdown",
      "source": [
        "#Building our Model: You're always trying to minimize the error (RMSE )when building the model"
      ]
    },
    {
      "metadata": {
        "id": "AmGT74SZGFnX",
        "colab_type": "code",
        "colab": {
          "base_uri": "https://localhost:8080/",
          "height": 3590
        },
        "outputId": "da50aea0-7624-43ae-f2d6-8104946ad4fd"
      },
      "cell_type": "code",
      "source": [
        "model = Sequential()\n",
        "model.add(LSTM(4, input_shape=(1, look_back)))\n",
        "model.add(Dense(1))\n",
        "model.compile(loss='mean_squared_error', optimizer='adam')\n",
        "model.fit(trainX, trainY, epochs=100, batch_size=256, verbose=2)"
      ],
      "execution_count": 144,
      "outputs": [
        {
          "output_type": "stream",
          "text": [
            "Epoch 1/100\n",
            " - 2s - loss: 0.0596\n",
            "Epoch 2/100\n",
            " - 0s - loss: 0.0026\n",
            "Epoch 3/100\n",
            " - 0s - loss: 0.0010\n",
            "Epoch 4/100\n",
            " - 0s - loss: 3.6556e-04\n",
            "Epoch 5/100\n",
            " - 0s - loss: 2.1128e-04\n",
            "Epoch 6/100\n",
            " - 0s - loss: 1.6644e-04\n",
            "Epoch 7/100\n",
            " - 0s - loss: 1.4248e-04\n",
            "Epoch 8/100\n",
            " - 0s - loss: 1.2903e-04\n",
            "Epoch 9/100\n",
            " - 0s - loss: 1.2185e-04\n",
            "Epoch 10/100\n",
            " - 0s - loss: 1.1838e-04\n",
            "Epoch 11/100\n",
            " - 0s - loss: 1.1684e-04\n",
            "Epoch 12/100\n",
            " - 0s - loss: 1.1597e-04\n",
            "Epoch 13/100\n",
            " - 0s - loss: 1.1552e-04\n",
            "Epoch 14/100\n",
            " - 0s - loss: 1.1525e-04\n",
            "Epoch 15/100\n",
            " - 0s - loss: 1.1499e-04\n",
            "Epoch 16/100\n",
            " - 0s - loss: 1.1487e-04\n",
            "Epoch 17/100\n",
            " - 0s - loss: 1.1456e-04\n",
            "Epoch 18/100\n",
            " - 0s - loss: 1.1405e-04\n",
            "Epoch 19/100\n",
            " - 0s - loss: 1.1381e-04\n",
            "Epoch 20/100\n",
            " - 0s - loss: 1.1352e-04\n",
            "Epoch 21/100\n",
            " - 0s - loss: 1.1324e-04\n",
            "Epoch 22/100\n",
            " - 0s - loss: 1.1286e-04\n",
            "Epoch 23/100\n",
            " - 0s - loss: 1.1257e-04\n",
            "Epoch 24/100\n",
            " - 0s - loss: 1.1221e-04\n",
            "Epoch 25/100\n",
            " - 0s - loss: 1.1179e-04\n",
            "Epoch 26/100\n",
            " - 0s - loss: 1.1160e-04\n",
            "Epoch 27/100\n",
            " - 0s - loss: 1.1128e-04\n",
            "Epoch 28/100\n",
            " - 0s - loss: 1.1066e-04\n",
            "Epoch 29/100\n",
            " - 0s - loss: 1.1063e-04\n",
            "Epoch 30/100\n",
            " - 0s - loss: 1.1000e-04\n",
            "Epoch 31/100\n",
            " - 0s - loss: 1.0969e-04\n",
            "Epoch 32/100\n",
            " - 0s - loss: 1.0955e-04\n",
            "Epoch 33/100\n",
            " - 0s - loss: 1.0874e-04\n",
            "Epoch 34/100\n",
            " - 0s - loss: 1.0844e-04\n",
            "Epoch 35/100\n",
            " - 0s - loss: 1.0798e-04\n",
            "Epoch 36/100\n",
            " - 0s - loss: 1.0753e-04\n",
            "Epoch 37/100\n",
            " - 0s - loss: 1.0753e-04\n",
            "Epoch 38/100\n",
            " - 0s - loss: 1.0662e-04\n",
            "Epoch 39/100\n",
            " - 0s - loss: 1.0626e-04\n",
            "Epoch 40/100\n",
            " - 0s - loss: 1.0652e-04\n",
            "Epoch 41/100\n",
            " - 0s - loss: 1.0543e-04\n",
            "Epoch 42/100\n",
            " - 0s - loss: 1.0488e-04\n",
            "Epoch 43/100\n",
            " - 0s - loss: 1.0500e-04\n",
            "Epoch 44/100\n",
            " - 0s - loss: 1.0404e-04\n",
            "Epoch 45/100\n",
            " - 0s - loss: 1.0354e-04\n",
            "Epoch 46/100\n",
            " - 0s - loss: 1.0284e-04\n",
            "Epoch 47/100\n",
            " - 0s - loss: 1.0254e-04\n",
            "Epoch 48/100\n",
            " - 0s - loss: 1.0165e-04\n",
            "Epoch 49/100\n",
            " - 0s - loss: 1.0147e-04\n",
            "Epoch 50/100\n",
            " - 0s - loss: 1.0100e-04\n",
            "Epoch 51/100\n",
            " - 0s - loss: 1.0019e-04\n",
            "Epoch 52/100\n",
            " - 0s - loss: 9.9889e-05\n",
            "Epoch 53/100\n",
            " - 0s - loss: 9.9422e-05\n",
            "Epoch 54/100\n",
            " - 0s - loss: 9.9294e-05\n",
            "Epoch 55/100\n",
            " - 0s - loss: 9.8645e-05\n",
            "Epoch 56/100\n",
            " - 0s - loss: 9.8054e-05\n",
            "Epoch 57/100\n",
            " - 0s - loss: 9.8463e-05\n",
            "Epoch 58/100\n",
            " - 0s - loss: 9.7120e-05\n",
            "Epoch 59/100\n",
            " - 0s - loss: 9.6693e-05\n",
            "Epoch 60/100\n",
            " - 0s - loss: 9.7186e-05\n",
            "Epoch 61/100\n",
            " - 0s - loss: 9.5722e-05\n",
            "Epoch 62/100\n",
            " - 0s - loss: 9.5179e-05\n",
            "Epoch 63/100\n",
            " - 0s - loss: 9.3947e-05\n",
            "Epoch 64/100\n",
            " - 0s - loss: 9.4339e-05\n",
            "Epoch 65/100\n",
            " - 0s - loss: 9.3898e-05\n",
            "Epoch 66/100\n",
            " - 0s - loss: 9.2635e-05\n",
            "Epoch 67/100\n",
            " - 0s - loss: 9.2472e-05\n",
            "Epoch 68/100\n",
            " - 0s - loss: 9.1676e-05\n",
            "Epoch 69/100\n",
            " - 0s - loss: 9.2749e-05\n",
            "Epoch 70/100\n",
            " - 0s - loss: 9.1296e-05\n",
            "Epoch 71/100\n",
            " - 0s - loss: 9.1620e-05\n",
            "Epoch 72/100\n",
            " - 0s - loss: 9.1022e-05\n",
            "Epoch 73/100\n",
            " - 0s - loss: 9.0585e-05\n",
            "Epoch 74/100\n",
            " - 0s - loss: 8.9678e-05\n",
            "Epoch 75/100\n",
            " - 0s - loss: 8.8984e-05\n",
            "Epoch 76/100\n",
            " - 0s - loss: 8.8542e-05\n",
            "Epoch 77/100\n",
            " - 0s - loss: 8.9497e-05\n",
            "Epoch 78/100\n",
            " - 0s - loss: 9.0065e-05\n",
            "Epoch 79/100\n",
            " - 0s - loss: 8.7895e-05\n",
            "Epoch 80/100\n",
            " - 0s - loss: 8.8308e-05\n",
            "Epoch 81/100\n",
            " - 0s - loss: 8.7598e-05\n",
            "Epoch 82/100\n",
            " - 0s - loss: 8.8152e-05\n",
            "Epoch 83/100\n",
            " - 0s - loss: 8.6200e-05\n",
            "Epoch 84/100\n",
            " - 0s - loss: 8.7147e-05\n",
            "Epoch 85/100\n",
            " - 0s - loss: 8.7185e-05\n",
            "Epoch 86/100\n",
            " - 0s - loss: 8.7903e-05\n",
            "Epoch 87/100\n",
            " - 0s - loss: 8.7035e-05\n",
            "Epoch 88/100\n",
            " - 0s - loss: 8.5888e-05\n",
            "Epoch 89/100\n",
            " - 0s - loss: 8.5933e-05\n",
            "Epoch 90/100\n",
            " - 0s - loss: 8.5741e-05\n",
            "Epoch 91/100\n",
            " - 0s - loss: 8.5413e-05\n",
            "Epoch 92/100\n",
            " - 0s - loss: 8.4528e-05\n",
            "Epoch 93/100\n",
            " - 0s - loss: 8.4894e-05\n",
            "Epoch 94/100\n",
            " - 0s - loss: 8.4392e-05\n",
            "Epoch 95/100\n",
            " - 0s - loss: 8.4014e-05\n",
            "Epoch 96/100\n",
            " - 0s - loss: 8.4676e-05\n",
            "Epoch 97/100\n",
            " - 0s - loss: 8.4027e-05\n",
            "Epoch 98/100\n",
            " - 0s - loss: 8.3491e-05\n",
            "Epoch 99/100\n",
            " - 0s - loss: 8.3717e-05\n",
            "Epoch 100/100\n",
            " - 0s - loss: 8.2931e-05\n"
          ],
          "name": "stdout"
        },
        {
          "output_type": "execute_result",
          "data": {
            "text/plain": [
              "<keras.callbacks.History at 0x7f7d3321f940>"
            ]
          },
          "metadata": {
            "tags": []
          },
          "execution_count": 144
        }
      ]
    },
    {
      "metadata": {
        "id": "xVj7psobGFiu",
        "colab_type": "code",
        "colab": {}
      },
      "cell_type": "code",
      "source": [
        "trainPredict = model.predict(trainX)\n",
        "testPredict = model.predict(testX)"
      ],
      "execution_count": 0,
      "outputs": []
    },
    {
      "metadata": {
        "id": "7DzWV_eBG8hp",
        "colab_type": "text"
      },
      "cell_type": "markdown",
      "source": [
        "We invert predictions before calculating error to, so reports can be generated in same units as our original df"
      ]
    },
    {
      "metadata": {
        "id": "XdNTXGVsGFce",
        "colab_type": "code",
        "colab": {}
      },
      "cell_type": "code",
      "source": [
        "trainPredict = scaler.inverse_transform(trainPredict)\n",
        "trainY = scaler.inverse_transform([trainY])\n",
        "testPredict = scaler.inverse_transform(testPredict)\n",
        "testY = scaler.inverse_transform([testY])"
      ],
      "execution_count": 0,
      "outputs": []
    },
    {
      "metadata": {
        "id": "-5eVtmzJGFUk",
        "colab_type": "code",
        "colab": {
          "base_uri": "https://localhost:8080/",
          "height": 52
        },
        "outputId": "df5de6fc-854b-45bf-c697-82da48817320"
      },
      "cell_type": "code",
      "source": [
        "trainScore = math.sqrt(mean_squared_error(trainY[0], trainPredict[:, 0]))\n",
        "print('Train Score: %.2f RMSE' % (trainScore))\n",
        "testScore = math.sqrt(mean_squared_error(testY[0], testPredict[:, 0]))\n",
        "print('Test Score: %.2f RMSE' % (testScore))"
      ],
      "execution_count": 147,
      "outputs": [
        {
          "output_type": "stream",
          "text": [
            "Train Score: 4.84 RMSE\n",
            "Test Score: 6.49 RMSE\n"
          ],
          "name": "stdout"
        }
      ]
    },
    {
      "metadata": {
        "id": "Z7VS4kab3yv4",
        "colab_type": "text"
      },
      "cell_type": "markdown",
      "source": [
        "# **RMSE of test > RMSE of train, means OVER FITTING OF THE DATA.**\n",
        "\n",
        "# The RMSE in our training and  testing sets should be very similar if I've built a good model. \n",
        "\n",
        "# The RMSE for the test set is higher than that of the training set, meaning I've created a model that tests well in sample, but has little predictive value when tested out of sample"
      ]
    },
    {
      "metadata": {
        "id": "YJEWtpHMGFIl",
        "colab_type": "code",
        "colab": {}
      },
      "cell_type": "code",
      "source": [
        "# Shift train predictions for plotting\n",
        "\n",
        "trainPredictPlot = np.empty_like(dataset)\n",
        "trainPredictPlot[:, :] = np.nan\n",
        "trainPredictPlot[look_back:len(trainPredict) + look_back, :] = trainPredict"
      ],
      "execution_count": 0,
      "outputs": []
    },
    {
      "metadata": {
        "id": "XHzSzgNGHF4U",
        "colab_type": "code",
        "colab": {}
      },
      "cell_type": "code",
      "source": [
        "# Shift test predictions for plotting\n",
        "\n",
        "testPredictPlot = np.empty_like(dataset)\n",
        "testPredictPlot[:, :] = np.nan\n",
        "testPredictPlot[len(trainPredict) + (look_back * 2) + 1:len(dataset) - 1, :] = testPredict"
      ],
      "execution_count": 0,
      "outputs": []
    },
    {
      "metadata": {
        "id": "0b8KPMgrHFwB",
        "colab_type": "code",
        "colab": {
          "base_uri": "https://localhost:8080/",
          "height": 346
        },
        "outputId": "584e5f5c-efda-4de6-b6df-8e68b1c4732b"
      },
      "cell_type": "code",
      "source": [
        "plt.plot(df['last'], label='Actual')\n",
        "plt.plot(pd.DataFrame(trainPredictPlot, columns=[\"close\"], index=df.index).close, label='Training')\n",
        "plt.plot(pd.DataFrame(testPredictPlot, columns=[\"close\"], index=df.index).close, label='Testing')\n",
        "plt.legend(loc='best')\n",
        "plt.show()"
      ],
      "execution_count": 150,
      "outputs": [
        {
          "output_type": "display_data",
          "data": {
            "image/png": "[encoded data removed]",
            "text/plain": [
              "<matplotlib.figure.Figure at 0x7f7d327f46d8>"
            ]
          },
          "metadata": {
            "tags": []
          }
        }
      ]
    },
    {
      "metadata": {
        "id": "pUltp0-zHFnt",
        "colab_type": "code",
        "colab": {}
      },
      "cell_type": "code",
      "source": [
        ""
      ],
      "execution_count": 0,
      "outputs": []
    },
    {
      "metadata": {
        "id": "GhPUNMBuHFc8",
        "colab_type": "code",
        "colab": {}
      },
      "cell_type": "code",
      "source": [
        ""
      ],
      "execution_count": 0,
      "outputs": []
    }
  ]
}