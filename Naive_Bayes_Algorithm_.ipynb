{
  "nbformat": 4,
  "nbformat_minor": 0,
  "metadata": {
    "colab": {
      "name": "Naive Bayes Algorithm .ipynb",
      "version": "0.3.2",
      "provenance": [],
      "collapsed_sections": [],
      "include_colab_link": true
    },
    "kernelspec": {
      "name": "python3",
      "display_name": "Python 3"
    },
    "accelerator": "GPU"
  },
  "cells": [
    {
      "cell_type": "markdown",
      "metadata": {
        "id": "view-in-github",
        "colab_type": "text"
      },
      "source": [
        "<a href=\"https://colab.research.google.com/github/2series/100_Days_of_ML_Code/blob/master/Naive_Bayes_Algorithm_.ipynb\" target=\"_parent\"><img src=\"https://colab.research.google.com/assets/colab-badge.svg\" alt=\"Open In Colab\"/></a>"
      ]
    },
    {
      "metadata": {
        "id": "4m9-8xGpWJuO",
        "colab_type": "text"
      },
      "cell_type": "markdown",
      "source": [
        "# Machine Learning using Supervised Learning"
      ]
    },
    {
      "metadata": {
        "id": "rlvKyVPOWlpm",
        "colab_type": "text"
      },
      "cell_type": "markdown",
      "source": [
        "**In this project, I looked at one of the supervised machine learning algorithm “Naive Bayes” mainly used for classification**"
      ]
    },
    {
      "metadata": {
        "id": "2Inmh5DKQ_hI",
        "colab_type": "text"
      },
      "cell_type": "markdown",
      "source": [
        "# What is Naive Bayes algorithm?\n",
        "It is a classification technique based on Bayes’ Theorem with an assumption of independence among predictors. In simple terms, a Naive Bayes classifier assumes that the presence of a particular feature in a class is unrelated to the presence of any other feature. For example, a fruit may be considered to be an apple if it is red, round, and about 3 inches in diameter. Even if these features depend on each other or upon the existence of the other features, all of these properties independently contribute to the probability that this fruit is an apple and that is why it is known as ‘Naive’."
      ]
    },
    {
      "metadata": {
        "id": "SDwPqiUnQ_at",
        "colab_type": "text"
      },
      "cell_type": "markdown",
      "source": [
        "Naive Bayes model is easy to build and particularly useful for very large data sets. Along with simplicity, Naive Bayes is known to outperform even highly sophisticated classification methods."
      ]
    },
    {
      "metadata": {
        "id": "H4VbZ2xlQ_Sn",
        "colab_type": "text"
      },
      "cell_type": "markdown",
      "source": [
        "# Use Cases\n",
        "\n",
        "*   **Real time Prediction**: Naive Bayes is an eager learning classifier and it is sure fast. Thus, it could be used for making predictions in real time.\n",
        "\n",
        "*   **Multi class Prediction**: This algorithm is also well known for multi class prediction feature. Here we can predict the probability of multiple classes of target variable.\n",
        "\n",
        "*   **Text classification/ Spam Filtering/ Sentiment Analysis**: Naive Bayes classifiers mostly used in text classification (due to better result in multi class problems and independence rule) have higher success rate as compared to other algorithms. As a result, it is widely used in Spam filtering (identify spam e-mail) and Sentiment Analysis (in social media analysis, to identify positive and negative customer sentiments)\n",
        "\n",
        "*   **Recommendation System**: Naive Bayes Classifier and Collaborative Filtering together builds a Recommendation System that uses machine learning and data mining techniques to filter unseen information and predict whether a user would like a given resource or not\n",
        "\n"
      ]
    },
    {
      "metadata": {
        "id": "g9Qums_lQ_It",
        "colab_type": "text"
      },
      "cell_type": "markdown",
      "source": [
        "** Scikit learn library has 3 types of Naive Bayes**\n",
        "\n",
        "*   **Gaussian:** It is used in classification and it assumes that features follow a normal distribution.\n",
        "\n",
        "*   **Multinomial:** It is used for discrete counts. For example, let’s say,  we have a text classification problem. Here we can consider bernoulli trials which is one step further and instead of “word occurring in the document”, we have “count how often word occurs in the document”, you can think of it as “number of times outcome number x_i is observed over the n trials”.\n",
        "\n",
        "*   **Bernoulli: **The binomial model is useful if your feature vectors are binary (i.e. zeros and ones). One application would be text classification with ‘bag of words’ model where the 1s & 0s are “word occurs in the document” and “word does not occur in the document” respectively. Another would be Mulit-Armed Bandit Problem"
      ]
    },
    {
      "metadata": {
        "id": "qYztCrYVVqjO",
        "colab_type": "text"
      },
      "cell_type": "markdown",
      "source": [
        "# Based on your data set, you can choose any of above discussed model. Below is the example of Gaussian model"
      ]
    },
    {
      "metadata": {
        "id": "4yUIMr6fPoWk",
        "colab_type": "code",
        "colab": {}
      },
      "cell_type": "code",
      "source": [
        "# Import Library of Gaussian Naive Bayes model\n",
        "\n",
        "from sklearn.naive_bayes import GaussianNB\n",
        "import numpy as np"
      ],
      "execution_count": 0,
      "outputs": []
    },
    {
      "metadata": {
        "id": "Svhp5GV6P1ua",
        "colab_type": "code",
        "colab": {}
      },
      "cell_type": "code",
      "source": [
        "# Assigning predictor and target variables\n",
        "\n",
        "x = np.array([[-3,7],[1,5], [1,2], [-2,0], [2,3], [-4,0], [-1,1], [1,1], [-2,2], [2,7], [-4,1], [-2,7]])\n",
        "y = np.array([3, 3, 3, 3, 4, 3, 3, 4, 3, 4, 4, 4])"
      ],
      "execution_count": 0,
      "outputs": []
    },
    {
      "metadata": {
        "id": "XL2f_2x1P1jF",
        "colab_type": "code",
        "colab": {
          "base_uri": "https://localhost:8080/",
          "height": 34
        },
        "outputId": "bcbba4e3-028f-4ab7-9553-fdf206cdd2f8"
      },
      "cell_type": "code",
      "source": [
        "# Create a Gaussian Classifier\n",
        "model = GaussianNB()\n",
        "\n",
        "# Train the model using the training sets \n",
        "model.fit(x, y)\n",
        "\n",
        "# Predict output \n",
        "predicted= model.predict([[1,2],[3,4]])\n",
        "print(predicted)"
      ],
      "execution_count": 15,
      "outputs": [
        {
          "output_type": "stream",
          "text": [
            "[3 4]\n"
          ],
          "name": "stdout"
        }
      ]
    }
  ]
}