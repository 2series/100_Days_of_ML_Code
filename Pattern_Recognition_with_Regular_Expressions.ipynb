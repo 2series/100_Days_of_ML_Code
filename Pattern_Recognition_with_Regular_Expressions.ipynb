{
  "nbformat": 4,
  "nbformat_minor": 0,
  "metadata": {
    "colab": {
      "name": "Pattern Recognition with Regular Expressions.ipynb",
      "version": "0.3.2",
      "provenance": [],
      "collapsed_sections": []
    },
    "kernelspec": {
      "name": "python3",
      "display_name": "Python 3"
    },
    "accelerator": "GPU"
  },
  "cells": [
    {
      "metadata": {
        "id": "5AcQRXWiudPE",
        "colab_type": "text"
      },
      "cell_type": "markdown",
      "source": [
        "# Finding Patterns of text Without Regular Expressions"
      ]
    },
    {
      "metadata": {
        "id": "vc2yod4OrJKN",
        "colab_type": "code",
        "colab": {
          "base_uri": "https://localhost:8080/",
          "height": 85
        },
        "outputId": "ee31b2e7-5a9d-4a81-920f-bc58a84770e5"
      },
      "cell_type": "code",
      "source": [
        "def isPhoneNumber(text):\n",
        "  \n",
        "  if len(text) != 12:\n",
        "    return False\n",
        "  for i in range(0, 3):\n",
        "    if not text[i].isdecimal():\n",
        "      return False\n",
        "\n",
        "  if text[3] != '-':\n",
        "    return False\n",
        "  for i in range(4, 7):\n",
        "    if not text[i].isdecimal():\n",
        "      return False\n",
        "           \n",
        "  if text[7] != '-':\n",
        "    return False\n",
        "  for i in range(8, 12):\n",
        "    if not text[i].isdecimal():\n",
        "      return False\n",
        "            \n",
        "    return True\n",
        "\n",
        "print('415-555-4242 is a phone number:')\n",
        "print(isPhoneNumber('415-555-4242'))\n",
        "print('Moshi moshi is a phone number:')\n",
        "print(isPhoneNumber('Moshi moshi'))"
      ],
      "execution_count": 5,
      "outputs": [
        {
          "output_type": "stream",
          "text": [
            "415-555-4242 is a phone number:\n",
            "True\n",
            "Moshi moshi is a phone number:\n",
            "False\n"
          ],
          "name": "stdout"
        }
      ]
    },
    {
      "metadata": {
        "id": "_h_4V__hsk3H",
        "colab_type": "code",
        "colab": {
          "base_uri": "https://localhost:8080/",
          "height": 68
        },
        "outputId": "12eaaf9a-b6a3-4da1-d92a-6ec44741a02a"
      },
      "cell_type": "code",
      "source": [
        "message = 'Call me at 415-555-1011 tomorrow. 415-555-9999 is my office.'\n",
        "for i in range(len(message)):\n",
        "  chunk = message[i:i+12]\n",
        "  if isPhoneNumber(chunk):  \n",
        "     print('Phone number found: ' + chunk)\n",
        "print('Done')"
      ],
      "execution_count": 8,
      "outputs": [
        {
          "output_type": "stream",
          "text": [
            "Phone number found: 415-555-1011\n",
            "Phone number found: 415-555-9999\n",
            "Done\n"
          ],
          "name": "stdout"
        }
      ]
    },
    {
      "metadata": {
        "id": "WU93gu1guf0C",
        "colab_type": "text"
      },
      "cell_type": "markdown",
      "source": [
        "# Finding patterns of text WITH Regular Expressions"
      ]
    },
    {
      "metadata": {
        "id": "eSfnM9eDwfnZ",
        "colab_type": "text"
      },
      "cell_type": "markdown",
      "source": [
        "**Creating Regex Objects**"
      ]
    },
    {
      "metadata": {
        "id": "EJOMXmZjsdVJ",
        "colab_type": "code",
        "colab": {}
      },
      "cell_type": "code",
      "source": [
        "import re"
      ],
      "execution_count": 0,
      "outputs": []
    },
    {
      "metadata": {
        "id": "GcNfcsxJu1Tn",
        "colab_type": "code",
        "colab": {}
      },
      "cell_type": "code",
      "source": [
        "phoneNumRegex = re.compile(r'\\d\\d\\d-\\d\\d\\d-\\d\\d\\d\\d')"
      ],
      "execution_count": 0,
      "outputs": []
    },
    {
      "metadata": {
        "id": "cKwb263rwF0v",
        "colab_type": "text"
      },
      "cell_type": "markdown",
      "source": [
        "Now the phoneNumRegex variable contains a Regex object."
      ]
    },
    {
      "metadata": {
        "id": "HzCWOx6bwl_e",
        "colab_type": "text"
      },
      "cell_type": "markdown",
      "source": [
        "**Matching Regex Objects**"
      ]
    },
    {
      "metadata": {
        "id": "NWIQvdt0wqNn",
        "colab_type": "code",
        "colab": {
          "base_uri": "https://localhost:8080/",
          "height": 34
        },
        "outputId": "09e34e05-838c-4ce6-f6c6-e59ece60acab"
      },
      "cell_type": "code",
      "source": [
        "phoneNumRegex = re.compile(r'\\d\\d\\d-\\d\\d\\d-\\d\\d\\d\\d')\n",
        "mo = phoneNumRegex.search('My number is 415-555-4242.')\n",
        "print('Phone number found: ' + mo.group())"
      ],
      "execution_count": 11,
      "outputs": [
        {
          "output_type": "stream",
          "text": [
            "Phone number found: 415-555-4242\n"
          ],
          "name": "stdout"
        }
      ]
    },
    {
      "metadata": {
        "id": "8KaMbWzoxg0A",
        "colab_type": "text"
      },
      "cell_type": "markdown",
      "source": [
        "**Review of Regular Expression Matching**\n",
        "\n",
        "While there are several steps to using regular expressions in Python, each step is fairly simple.\n",
        "\n",
        "1. Import the regex module with *import re.*\n",
        "\n",
        "2. Create a Regex object with the *re.compile()* function. (Remember to use a raw string.)\n",
        "\n",
        "3. Pass the string you want to search into the Regex object’s *search()* method. This returns a Match *object*.\n",
        "\n",
        "4. Call the Match object’s *group() *method to return a string of the actual matched text."
      ]
    },
    {
      "metadata": {
        "id": "pfXIUKlDu16D",
        "colab_type": "code",
        "colab": {}
      },
      "cell_type": "code",
      "source": [
        ""
      ],
      "execution_count": 0,
      "outputs": []
    }
  ]
}