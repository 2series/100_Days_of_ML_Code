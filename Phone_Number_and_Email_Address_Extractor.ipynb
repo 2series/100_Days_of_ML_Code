{
  "nbformat": 4,
  "nbformat_minor": 0,
  "metadata": {
    "colab": {
      "name": "Phone Number and Email Address Extractor.ipynb",
      "version": "0.3.2",
      "provenance": [],
      "collapsed_sections": [],
      "include_colab_link": true
    },
    "kernelspec": {
      "name": "python3",
      "display_name": "Python 3"
    }
  },
  "cells": [
    {
      "cell_type": "markdown",
      "metadata": {
        "id": "view-in-github",
        "colab_type": "text"
      },
      "source": [
        "<a href=\"https://colab.research.google.com/github/2series/100_Days_of_ML_Code/blob/master/Phone_Number_and_Email_Address_Extractor.ipynb\" target=\"_parent\"><img src=\"https://colab.research.google.com/assets/colab-badge.svg\" alt=\"Open In Colab\"/></a>"
      ]
    },
    {
      "metadata": {
        "id": "gyoUGORf2X3w",
        "colab_type": "code",
        "colab": {
          "base_uri": "https://localhost:8080/",
          "height": 34
        },
        "outputId": "f1acddfe-eaa0-40d2-e2cc-0b5c86f45882"
      },
      "cell_type": "code",
      "source": [
        "!pip install pyperclip"
      ],
      "execution_count": 1,
      "outputs": [
        {
          "output_type": "stream",
          "text": [
            "Requirement already satisfied: pyperclip in /usr/local/lib/python3.6/dist-packages (1.7.0)\n"
          ],
          "name": "stdout"
        }
      ]
    },
    {
      "metadata": {
        "id": "eptyrd3a3ftH",
        "colab_type": "text"
      },
      "cell_type": "markdown",
      "source": [
        "# Step 1: Create a Regex for Phone Numbers"
      ]
    },
    {
      "metadata": {
        "id": "oe456Z6j1doq",
        "colab_type": "code",
        "colab": {}
      },
      "cell_type": "code",
      "source": [
        "import pyperclip, re\n",
        "\n",
        "phoneRegex = re.compile(r'''(\n",
        "    (\\d{3}|\\(\\d{3}\\))?                       # area code\n",
        "    (\\s|-|\\.)?                               # separator\n",
        "    (\\d{3})                                  # first 3 digits\n",
        "    (\\s|-|\\.)                                # separator\n",
        "    (\\d{4})                                  # last 4 digits\n",
        "    (\\s*(ext|x|ext.)\\s*(\\d{2,5}))?           # extension\n",
        "    )''', re.VERBOSE)"
      ],
      "execution_count": 0,
      "outputs": []
    },
    {
      "metadata": {
        "id": "oxUOuEj13ptD",
        "colab_type": "text"
      },
      "cell_type": "markdown",
      "source": [
        "# Step 2: Create a Regex for Email Addresses"
      ]
    },
    {
      "metadata": {
        "id": "rmt3JZXO2dLB",
        "colab_type": "code",
        "colab": {}
      },
      "cell_type": "code",
      "source": [
        "emailRegex = re.compile(r'''(\n",
        "[a-zA-Z0-9._%+-]+                            # username\n",
        "@                                            # @ symbol\n",
        "[a-zA-Z0-9.-]+                               # domain name\n",
        "(\\.[a-zA-Z]{2,4})                            # dot-something\n",
        "  )''', re.VERBOSE)"
      ],
      "execution_count": 0,
      "outputs": []
    },
    {
      "metadata": {
        "id": "z3rPZl-t4StV",
        "colab_type": "text"
      },
      "cell_type": "markdown",
      "source": [
        "# Step 3: Find All Matches in the Clipboard Text"
      ]
    },
    {
      "metadata": {
        "id": "E4k0903B4WcA",
        "colab_type": "code",
        "colab": {
          "base_uri": "https://localhost:8080/",
          "height": 130
        },
        "outputId": "f8ea2dd1-68a9-4c2a-db2a-da95ee6dd3f5"
      },
      "cell_type": "code",
      "source": [
        "# Copy the input from the clipboard and use it to search\n",
        "text = str(pyperclip.paste()\n",
        "matches = []\n",
        "for groups in phoneRegex.findall(text):\n",
        "    phoneNum = '-'.join([groups[1], groups[3], groups[5]])\n",
        "    if groups[8] != '':\n",
        "        phoneNum += ' x' + groups[8]\n",
        "    matches.append(phoneNum)\n",
        "for groups in emailRegex.findall(text):\n",
        "    matches.append(groups[0])"
      ],
      "execution_count": 4,
      "outputs": [
        {
          "output_type": "error",
          "ename": "SyntaxError",
          "evalue": "ignored",
          "traceback": [
            "\u001b[0;36m  File \u001b[0;32m\"<ipython-input-4-798d5b66c7d5>\"\u001b[0;36m, line \u001b[0;32m2\u001b[0m\n\u001b[0;31m    matches = []\u001b[0m\n\u001b[0m          ^\u001b[0m\n\u001b[0;31mSyntaxError\u001b[0m\u001b[0;31m:\u001b[0m invalid syntax\n"
          ]
        }
      ]
    },
    {
      "metadata": {
        "id": "l1JkQXn4428F",
        "colab_type": "text"
      },
      "cell_type": "markdown",
      "source": [
        "# Step 4: Join the Matches into a String for the Clipboard"
      ]
    },
    {
      "metadata": {
        "id": "4Fu0bQyL4410",
        "colab_type": "code",
        "colab": {}
      },
      "cell_type": "code",
      "source": [
        "# Paste input back to clipboard\n",
        "if len(matches) > 0:\n",
        "    pyperclip.copy('\\n'.join(matches))\n",
        "    print('All copied to Clipboard : ')\n",
        "    print('\\n'.join(matches))\n",
        "else:\n",
        "    print('No phone numbers or emails was found! ')"
      ],
      "execution_count": 0,
      "outputs": []
    }
  ]
}