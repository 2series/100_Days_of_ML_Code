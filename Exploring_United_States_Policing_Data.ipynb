{
  "nbformat": 4,
  "nbformat_minor": 0,
  "metadata": {
    "colab": {
      "name": "Exploring United States Policing Data.ipynb",
      "version": "0.3.2",
      "provenance": [],
      "collapsed_sections": [],
      "include_colab_link": true
    },
    "kernelspec": {
      "name": "python3",
      "display_name": "Python 3"
    },
    "accelerator": "GPU"
  },
  "cells": [
    {
      "cell_type": "markdown",
      "metadata": {
        "id": "view-in-github",
        "colab_type": "text"
      },
      "source": [
        "<a href=\"https://colab.research.google.com/github/2series/100_Days_of_ML_Code/blob/master/Exploring_United_States_Policing_Data.ipynb\" target=\"_parent\"><img src=\"https://colab.research.google.com/assets/colab-badge.svg\" alt=\"Open In Colab\"/></a>"
      ]
    },
    {
      "metadata": {
        "id": "xRcYFQQRobv_",
        "colab_type": "code",
        "colab": {}
      },
      "cell_type": "code",
      "source": [
        "# Import dependencies\n",
        "# We're also setting a shared variable \"figsize\" that we'll used later in our data visualisation logic\n",
        "import pandas as pd\n",
        "import numpy as np\n",
        "import matplotlib.pyplot as plt\n",
        "%matplotlib inline\n",
        "\n",
        "figsize = (16, 8)"
      ],
      "execution_count": 0,
      "outputs": []
    },
    {
      "metadata": {
        "id": "SQXhHY2RlzqW",
        "colab_type": "code",
        "colab": {
          "resources": {
            "http://localhost:8080/nbextensions/google.colab/files.js": {
              "data": "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",
              "ok": true,
              "headers": [
                [
                  "content-type",
                  "application/javascript"
                ]
              ],
              "status": 200,
              "status_text": ""
            }
          },
          "base_uri": "https://localhost:8080/",
          "height": 107
        },
        "outputId": "d7061d5a-480d-4557-b4d9-cae8abe28730"
      },
      "cell_type": "code",
      "source": [
        "# Upload data (zipfile)\n",
        "from google.colab import files\n",
        "files.upload()"
      ],
      "execution_count": 12,
      "outputs": [
        {
          "output_type": "display_data",
          "data": {
            "text/html": [
              "\n",
              "     <input type=\"file\" id=\"files-2cee76b5-af62-431f-afc4-3cbf690a039b\" name=\"files[]\" multiple disabled />\n",
              "     <output id=\"result-2cee76b5-af62-431f-afc4-3cbf690a039b\">\n",
              "      Upload widget is only available when the cell has been executed in the\n",
              "      current browser session. Please rerun this cell to enable.\n",
              "      </output>\n",
              "      <script src=\"/nbextensions/google.colab/files.js\"></script> "
            ],
            "text/plain": [
              "<IPython.core.display.HTML object>"
            ]
          },
          "metadata": {
            "tags": []
          }
        },
        {
          "output_type": "stream",
          "text": [
            "Saving VT-clean.csv.gz to VT-clean.csv.gz\n"
          ],
          "name": "stdout"
        }
      ]
    },
    {
      "metadata": {
        "id": "Pae1spAjnZUc",
        "colab_type": "code",
        "colab": {}
      },
      "cell_type": "code",
      "source": [
        "# Read data\n",
        "df_vt = pd.read_csv('VT-clean.csv.gz', compression='gzip', low_memory=False)"
      ],
      "execution_count": 0,
      "outputs": []
    },
    {
      "metadata": {
        "id": "NlzrJVN7rj2u",
        "colab_type": "code",
        "colab": {}
      },
      "cell_type": "code",
      "source": [
        "# Copy of data, so if changes are made we would not lose the original datasets\n",
        "df_vt_original=df_vt.copy()"
      ],
      "execution_count": 0,
      "outputs": []
    },
    {
      "metadata": {
        "id": "sn-4vGtlpDRv",
        "colab_type": "code",
        "colab": {
          "base_uri": "https://localhost:8080/",
          "height": 413
        },
        "outputId": "09069e0e-8550-4110-eeaa-97b2a9b3a047"
      },
      "cell_type": "code",
      "source": [
        "# Preview data\n",
        "df_vt.head()"
      ],
      "execution_count": 15,
      "outputs": [
        {
          "output_type": "execute_result",
          "data": {
            "text/html": [
              "<div>\n",
              "<style scoped>\n",
              "    .dataframe tbody tr th:only-of-type {\n",
              "        vertical-align: middle;\n",
              "    }\n",
              "\n",
              "    .dataframe tbody tr th {\n",
              "        vertical-align: top;\n",
              "    }\n",
              "\n",
              "    .dataframe thead th {\n",
              "        text-align: right;\n",
              "    }\n",
              "</style>\n",
              "<table border=\"1\" class=\"dataframe\">\n",
              "  <thead>\n",
              "    <tr style=\"text-align: right;\">\n",
              "      <th></th>\n",
              "      <th>id</th>\n",
              "      <th>state</th>\n",
              "      <th>stop_date</th>\n",
              "      <th>stop_time</th>\n",
              "      <th>location_raw</th>\n",
              "      <th>county_name</th>\n",
              "      <th>county_fips</th>\n",
              "      <th>fine_grained_location</th>\n",
              "      <th>police_department</th>\n",
              "      <th>driver_gender</th>\n",
              "      <th>...</th>\n",
              "      <th>driver_race</th>\n",
              "      <th>violation_raw</th>\n",
              "      <th>violation</th>\n",
              "      <th>search_conducted</th>\n",
              "      <th>search_type_raw</th>\n",
              "      <th>search_type</th>\n",
              "      <th>contraband_found</th>\n",
              "      <th>stop_outcome</th>\n",
              "      <th>is_arrested</th>\n",
              "      <th>officer_id</th>\n",
              "    </tr>\n",
              "  </thead>\n",
              "  <tbody>\n",
              "    <tr>\n",
              "      <th>0</th>\n",
              "      <td>VT-2010-00001</td>\n",
              "      <td>VT</td>\n",
              "      <td>2010-07-01</td>\n",
              "      <td>00:10</td>\n",
              "      <td>East Montpelier</td>\n",
              "      <td>Washington County</td>\n",
              "      <td>50023.0</td>\n",
              "      <td>COUNTY RD</td>\n",
              "      <td>MIDDLESEX VSP</td>\n",
              "      <td>M</td>\n",
              "      <td>...</td>\n",
              "      <td>White</td>\n",
              "      <td>Moving Violation</td>\n",
              "      <td>Moving violation</td>\n",
              "      <td>False</td>\n",
              "      <td>No Search Conducted</td>\n",
              "      <td>NaN</td>\n",
              "      <td>False</td>\n",
              "      <td>Citation</td>\n",
              "      <td>False</td>\n",
              "      <td>-1.562157e+09</td>\n",
              "    </tr>\n",
              "    <tr>\n",
              "      <th>1</th>\n",
              "      <td>VT-2010-00002</td>\n",
              "      <td>VT</td>\n",
              "      <td>2010-07-01</td>\n",
              "      <td>00:10</td>\n",
              "      <td>NaN</td>\n",
              "      <td>NaN</td>\n",
              "      <td>NaN</td>\n",
              "      <td>COUNTY RD; Fitch Road</td>\n",
              "      <td>MIDDLESEX VSP</td>\n",
              "      <td>F</td>\n",
              "      <td>...</td>\n",
              "      <td>White</td>\n",
              "      <td>Externally Generated Stop</td>\n",
              "      <td>Other</td>\n",
              "      <td>False</td>\n",
              "      <td>No Search Conducted</td>\n",
              "      <td>NaN</td>\n",
              "      <td>False</td>\n",
              "      <td>Arrest for Violation</td>\n",
              "      <td>True</td>\n",
              "      <td>-1.562157e+09</td>\n",
              "    </tr>\n",
              "    <tr>\n",
              "      <th>2</th>\n",
              "      <td>VT-2010-00003</td>\n",
              "      <td>VT</td>\n",
              "      <td>2010-07-01</td>\n",
              "      <td>00:10</td>\n",
              "      <td>NaN</td>\n",
              "      <td>NaN</td>\n",
              "      <td>NaN</td>\n",
              "      <td>COUNTY RD; Fitch Road</td>\n",
              "      <td>MIDDLESEX VSP</td>\n",
              "      <td>F</td>\n",
              "      <td>...</td>\n",
              "      <td>White</td>\n",
              "      <td>Externally Generated Stop</td>\n",
              "      <td>Other</td>\n",
              "      <td>False</td>\n",
              "      <td>No Search Conducted</td>\n",
              "      <td>NaN</td>\n",
              "      <td>False</td>\n",
              "      <td>Arrest for Violation</td>\n",
              "      <td>True</td>\n",
              "      <td>-1.562157e+09</td>\n",
              "    </tr>\n",
              "    <tr>\n",
              "      <th>3</th>\n",
              "      <td>VT-2010-00004</td>\n",
              "      <td>VT</td>\n",
              "      <td>2010-07-01</td>\n",
              "      <td>00:11</td>\n",
              "      <td>Whiting</td>\n",
              "      <td>Addison County</td>\n",
              "      <td>50001.0</td>\n",
              "      <td>N MAIN ST</td>\n",
              "      <td>NEW HAVEN VSP</td>\n",
              "      <td>F</td>\n",
              "      <td>...</td>\n",
              "      <td>White</td>\n",
              "      <td>Moving Violation</td>\n",
              "      <td>Moving violation</td>\n",
              "      <td>False</td>\n",
              "      <td>No Search Conducted</td>\n",
              "      <td>NaN</td>\n",
              "      <td>False</td>\n",
              "      <td>Arrest for Violation</td>\n",
              "      <td>True</td>\n",
              "      <td>-3.126844e+08</td>\n",
              "    </tr>\n",
              "    <tr>\n",
              "      <th>4</th>\n",
              "      <td>VT-2010-00005</td>\n",
              "      <td>VT</td>\n",
              "      <td>2010-07-01</td>\n",
              "      <td>00:35</td>\n",
              "      <td>Hardwick</td>\n",
              "      <td>Caledonia County</td>\n",
              "      <td>50005.0</td>\n",
              "      <td>i91 nb mm 62</td>\n",
              "      <td>ROYALTON VSP</td>\n",
              "      <td>M</td>\n",
              "      <td>...</td>\n",
              "      <td>White</td>\n",
              "      <td>Moving Violation</td>\n",
              "      <td>Moving violation</td>\n",
              "      <td>False</td>\n",
              "      <td>No Search Conducted</td>\n",
              "      <td>NaN</td>\n",
              "      <td>False</td>\n",
              "      <td>Written Warning</td>\n",
              "      <td>False</td>\n",
              "      <td>9.225661e+08</td>\n",
              "    </tr>\n",
              "  </tbody>\n",
              "</table>\n",
              "<p>5 rows × 23 columns</p>\n",
              "</div>"
            ],
            "text/plain": [
              "              id state   stop_date stop_time     location_raw  \\\n",
              "0  VT-2010-00001    VT  2010-07-01     00:10  East Montpelier   \n",
              "1  VT-2010-00002    VT  2010-07-01     00:10              NaN   \n",
              "2  VT-2010-00003    VT  2010-07-01     00:10              NaN   \n",
              "3  VT-2010-00004    VT  2010-07-01     00:11          Whiting   \n",
              "4  VT-2010-00005    VT  2010-07-01     00:35         Hardwick   \n",
              "\n",
              "         county_name  county_fips  fine_grained_location police_department  \\\n",
              "0  Washington County      50023.0              COUNTY RD     MIDDLESEX VSP   \n",
              "1                NaN          NaN  COUNTY RD; Fitch Road     MIDDLESEX VSP   \n",
              "2                NaN          NaN  COUNTY RD; Fitch Road     MIDDLESEX VSP   \n",
              "3     Addison County      50001.0              N MAIN ST     NEW HAVEN VSP   \n",
              "4   Caledonia County      50005.0           i91 nb mm 62      ROYALTON VSP   \n",
              "\n",
              "  driver_gender      ...       driver_race              violation_raw  \\\n",
              "0             M      ...             White           Moving Violation   \n",
              "1             F      ...             White  Externally Generated Stop   \n",
              "2             F      ...             White  Externally Generated Stop   \n",
              "3             F      ...             White           Moving Violation   \n",
              "4             M      ...             White           Moving Violation   \n",
              "\n",
              "          violation search_conducted      search_type_raw search_type  \\\n",
              "0  Moving violation            False  No Search Conducted         NaN   \n",
              "1             Other            False  No Search Conducted         NaN   \n",
              "2             Other            False  No Search Conducted         NaN   \n",
              "3  Moving violation            False  No Search Conducted         NaN   \n",
              "4  Moving violation            False  No Search Conducted         NaN   \n",
              "\n",
              "   contraband_found          stop_outcome is_arrested    officer_id  \n",
              "0             False              Citation       False -1.562157e+09  \n",
              "1             False  Arrest for Violation        True -1.562157e+09  \n",
              "2             False  Arrest for Violation        True -1.562157e+09  \n",
              "3             False  Arrest for Violation        True -3.126844e+08  \n",
              "4             False       Written Warning       False  9.225661e+08  \n",
              "\n",
              "[5 rows x 23 columns]"
            ]
          },
          "metadata": {
            "tags": []
          },
          "execution_count": 15
        }
      ]
    },
    {
      "metadata": {
        "id": "aD4oHqkmqyar",
        "colab_type": "code",
        "colab": {
          "base_uri": "https://localhost:8080/",
          "height": 141
        },
        "outputId": "bfee3688-255f-4afa-c95f-01133eb75032"
      },
      "cell_type": "code",
      "source": [
        "# Preview structure of the data i.e. features and data types\n",
        "df_vt.columns"
      ],
      "execution_count": 16,
      "outputs": [
        {
          "output_type": "execute_result",
          "data": {
            "text/plain": [
              "Index(['id', 'state', 'stop_date', 'stop_time', 'location_raw', 'county_name',\n",
              "       'county_fips', 'fine_grained_location', 'police_department',\n",
              "       'driver_gender', 'driver_age_raw', 'driver_age', 'driver_race_raw',\n",
              "       'driver_race', 'violation_raw', 'violation', 'search_conducted',\n",
              "       'search_type_raw', 'search_type', 'contraband_found', 'stop_outcome',\n",
              "       'is_arrested', 'officer_id'],\n",
              "      dtype='object')"
            ]
          },
          "metadata": {
            "tags": []
          },
          "execution_count": 16
        }
      ]
    },
    {
      "metadata": {
        "id": "MH_dy9kDt6ms",
        "colab_type": "code",
        "colab": {
          "base_uri": "https://localhost:8080/",
          "height": 443
        },
        "outputId": "2a43220c-ad75-4c38-8d15-edca14913586"
      },
      "cell_type": "code",
      "source": [
        "# Print data types for each variable\n",
        "df_vt.dtypes"
      ],
      "execution_count": 17,
      "outputs": [
        {
          "output_type": "execute_result",
          "data": {
            "text/plain": [
              "id                        object\n",
              "state                     object\n",
              "stop_date                 object\n",
              "stop_time                 object\n",
              "location_raw              object\n",
              "county_name               object\n",
              "county_fips              float64\n",
              "fine_grained_location     object\n",
              "police_department         object\n",
              "driver_gender             object\n",
              "driver_age_raw           float64\n",
              "driver_age               float64\n",
              "driver_race_raw           object\n",
              "driver_race               object\n",
              "violation_raw             object\n",
              "violation                 object\n",
              "search_conducted            bool\n",
              "search_type_raw           object\n",
              "search_type               object\n",
              "contraband_found          object\n",
              "stop_outcome              object\n",
              "is_arrested                 bool\n",
              "officer_id               float64\n",
              "dtype: object"
            ]
          },
          "metadata": {
            "tags": []
          },
          "execution_count": 17
        }
      ]
    },
    {
      "metadata": {
        "id": "zqko0qDauYZx",
        "colab_type": "code",
        "colab": {
          "base_uri": "https://localhost:8080/",
          "height": 34
        },
        "outputId": "2552bc28-ff6e-4839-a650-b9e5f22dcee4"
      },
      "cell_type": "code",
      "source": [
        "# Shape of dataset\n",
        "df_vt.shape"
      ],
      "execution_count": 18,
      "outputs": [
        {
          "output_type": "execute_result",
          "data": {
            "text/plain": [
              "(283285, 23)"
            ]
          },
          "metadata": {
            "tags": []
          },
          "execution_count": 18
        }
      ]
    },
    {
      "metadata": {
        "id": "WAW5qBg7vbif",
        "colab_type": "text"
      },
      "cell_type": "markdown",
      "source": [
        "**Drop missing values**"
      ]
    },
    {
      "metadata": {
        "id": "6Zplq1Sguz8I",
        "colab_type": "code",
        "colab": {
          "base_uri": "https://localhost:8080/",
          "height": 443
        },
        "outputId": "4d169c34-30c3-443e-a4aa-b6acb6cf0aef"
      },
      "cell_type": "code",
      "source": [
        "# Count each column to determine how consistently populated the data is\n",
        "df_vt.count()"
      ],
      "execution_count": 19,
      "outputs": [
        {
          "output_type": "execute_result",
          "data": {
            "text/plain": [
              "id                       283285\n",
              "state                    283285\n",
              "stop_date                283285\n",
              "stop_time                283285\n",
              "location_raw             282591\n",
              "county_name              282580\n",
              "county_fips              282580\n",
              "fine_grained_location    282938\n",
              "police_department        283285\n",
              "driver_gender            281573\n",
              "driver_age_raw           282114\n",
              "driver_age               281999\n",
              "driver_race_raw          279301\n",
              "driver_race              278468\n",
              "violation_raw            281107\n",
              "violation                281107\n",
              "search_conducted         283285\n",
              "search_type_raw          281045\n",
              "search_type                3419\n",
              "contraband_found         283251\n",
              "stop_outcome             280960\n",
              "is_arrested              283285\n",
              "officer_id               283273\n",
              "dtype: int64"
            ]
          },
          "metadata": {
            "tags": []
          },
          "execution_count": 19
        }
      ]
    },
    {
      "metadata": {
        "id": "70Nra7-XwFj1",
        "colab_type": "text"
      },
      "cell_type": "markdown",
      "source": [
        "We can see that most columns have similar numbers of values besides search_type, which is not present for most of the rows, likely because most stops do not result in a search.\n",
        "\n",
        "For our analysis, it will be best to have the exact same number of values for each field. We'll go ahead now and make sure that every single cell has a value."
      ]
    },
    {
      "metadata": {
        "id": "JwvtpaBmwQ-3",
        "colab_type": "code",
        "colab": {
          "base_uri": "https://localhost:8080/",
          "height": 443
        },
        "outputId": "fbd0165b-bcd4-44b2-9679-fb8724d933e6"
      },
      "cell_type": "code",
      "source": [
        "# Fill missing search type values with placeholder\n",
        "df_vt['search_type'].fillna('N/A', inplace=True)\n",
        "\n",
        "# Drop rows with missing values\n",
        "df_vt.dropna(inplace=True)\n",
        "\n",
        "df_vt.count()"
      ],
      "execution_count": 20,
      "outputs": [
        {
          "output_type": "execute_result",
          "data": {
            "text/plain": [
              "id                       273181\n",
              "state                    273181\n",
              "stop_date                273181\n",
              "stop_time                273181\n",
              "location_raw             273181\n",
              "county_name              273181\n",
              "county_fips              273181\n",
              "fine_grained_location    273181\n",
              "police_department        273181\n",
              "driver_gender            273181\n",
              "driver_age_raw           273181\n",
              "driver_age               273181\n",
              "driver_race_raw          273181\n",
              "driver_race              273181\n",
              "violation_raw            273181\n",
              "violation                273181\n",
              "search_conducted         273181\n",
              "search_type_raw          273181\n",
              "search_type              273181\n",
              "contraband_found         273181\n",
              "stop_outcome             273181\n",
              "is_arrested              273181\n",
              "officer_id               273181\n",
              "dtype: int64"
            ]
          },
          "metadata": {
            "tags": []
          },
          "execution_count": 20
        }
      ]
    },
    {
      "metadata": {
        "id": "zM5kylcox6QC",
        "colab_type": "text"
      },
      "cell_type": "markdown",
      "source": [
        "When we count the values again, we see that each column has the exact same number of entries."
      ]
    },
    {
      "metadata": {
        "id": "NfB2JOkL0a6J",
        "colab_type": "text"
      },
      "cell_type": "markdown",
      "source": [
        "**Stops By County**\n",
        "\n",
        "Let's get a list of all counties in the data set, along with how many traffic stops happened in each."
      ]
    },
    {
      "metadata": {
        "id": "Vog6bNHzx_xL",
        "colab_type": "code",
        "colab": {
          "base_uri": "https://localhost:8080/",
          "height": 283
        },
        "outputId": "8f124ff1-5d11-4d0a-e882-18a7e88c771f"
      },
      "cell_type": "code",
      "source": [
        "df_vt['county_name'].value_counts()"
      ],
      "execution_count": 21,
      "outputs": [
        {
          "output_type": "execute_result",
          "data": {
            "text/plain": [
              "Windham County       37715\n",
              "Windsor County       36464\n",
              "Chittenden County    24815\n",
              "Orange County        24679\n",
              "Washington County    24633\n",
              "Rutland County       22885\n",
              "Addison County       22813\n",
              "Bennington County    22250\n",
              "Franklin County      19715\n",
              "Caledonia County     16505\n",
              "Orleans County       10344\n",
              "Lamoille County       8604\n",
              "Essex County          1239\n",
              "Grand Isle County      520\n",
              "Name: county_name, dtype: int64"
            ]
          },
          "metadata": {
            "tags": []
          },
          "execution_count": 21
        }
      ]
    },
    {
      "metadata": {
        "id": "l5RiCSyb_SAD",
        "colab_type": "text"
      },
      "cell_type": "markdown",
      "source": [
        "If you're familiar with Vermont's geography, you'll notice that the police stops seem to be more concentrated in counties in the southern-half of the state. The southern-half of the state is also where much of the cross-state traffic flows in transit to and from New Hampshire, Massachusetts, and New York. Since the traffic stop data is from the state troopers, this interstate highway traffic could potentially explain why we see more traffic stops in these counties."
      ]
    },
    {
      "metadata": {
        "id": "WsZ4JOJG3C0d",
        "colab_type": "text"
      },
      "cell_type": "markdown",
      "source": [
        "**Violations**\n",
        "\n",
        "Let's check out the distribution of traffic stop reasons."
      ]
    },
    {
      "metadata": {
        "id": "Gu-385JE3UYL",
        "colab_type": "code",
        "colab": {
          "base_uri": "https://localhost:8080/",
          "height": 123
        },
        "outputId": "a123c775-4082-42ce-8dbc-dec33b9c74bc"
      },
      "cell_type": "code",
      "source": [
        "df_vt['violation'].value_counts()"
      ],
      "execution_count": 22,
      "outputs": [
        {
          "output_type": "execute_result",
          "data": {
            "text/plain": [
              "Moving violation      212100\n",
              "Equipment              50600\n",
              "Other                   9768\n",
              "DUI                      711\n",
              "Other (non-mapped)         2\n",
              "Name: violation, dtype: int64"
            ]
          },
          "metadata": {
            "tags": []
          },
          "execution_count": 22
        }
      ]
    },
    {
      "metadata": {
        "id": "Q3-8T_zT4iyt",
        "colab_type": "text"
      },
      "cell_type": "markdown",
      "source": [
        "Unsurprisingly, the top reason for a traffic stop is Moving Violation (speeding, reckless driving, etc.), followed by Equipment (faulty lights, illegal modifications, etc.).\n",
        "\n",
        "By using the violation_raw fields as reference, we can see that the Other category includes \"Investigatory Stop\" (the police have reason to suspect that the driver of the vehicle has committed a crime) and \"Externally Generated Stop\" (possibly as a result of a 911 call, or a referral from municipal police departments).\n",
        "\n",
        "DUI (\"driving under the influence\", i.e. drunk driving) is surprisingly the least prevalent, with only 711 total recorded stops for this reason over the five year period (2010-2015) that the dataset covers. This seems low, since Vermont had 2,647 DUI arrests in 2015, so I suspect that a large proportion of these arrests were performed by municipal police departments, and/or began with a Moving Violation stop, instead of a more specific DUI stop."
      ]
    },
    {
      "metadata": {
        "id": "hNgwRo1z5A5S",
        "colab_type": "text"
      },
      "cell_type": "markdown",
      "source": [
        "**Outcomes**\n",
        "\n",
        "Let's check traffic stop outcomes."
      ]
    },
    {
      "metadata": {
        "id": "nqaFzFu45ALt",
        "colab_type": "code",
        "colab": {
          "base_uri": "https://localhost:8080/",
          "height": 123
        },
        "outputId": "9994a9e2-47d2-4dbc-ffcc-669762cbacb7"
      },
      "cell_type": "code",
      "source": [
        "df_vt['stop_outcome'].value_counts()"
      ],
      "execution_count": 23,
      "outputs": [
        {
          "output_type": "execute_result",
          "data": {
            "text/plain": [
              "Written Warning         166488\n",
              "Citation                103401\n",
              "Arrest for Violation      3206\n",
              "Warrant Arrest              76\n",
              "Verbal Warning              10\n",
              "Name: stop_outcome, dtype: int64"
            ]
          },
          "metadata": {
            "tags": []
          },
          "execution_count": 23
        }
      ]
    },
    {
      "metadata": {
        "id": "5bvRtzcl6JqD",
        "colab_type": "text"
      },
      "cell_type": "markdown",
      "source": [
        "A majority of stops result in a written warning - which goes on the record but carries no direct penalty. A bit over 1/3 of the stops result in a citation (commonly known as a ticket), which comes with a direct fine and can carry other negative side-effects such as raising a driver's auto insurance premiums.\n",
        "\n",
        "The decision to give a warning or a citation is often at the discretion of the police officer, so this could be a good source for studying bias."
      ]
    },
    {
      "metadata": {
        "id": "43TbOLUv65jZ",
        "colab_type": "text"
      },
      "cell_type": "markdown",
      "source": [
        "**Stops By Gender**\n",
        "\n",
        "Let's breack down traffic stops by gender."
      ]
    },
    {
      "metadata": {
        "id": "Fmb91VhD7QY4",
        "colab_type": "code",
        "colab": {
          "base_uri": "https://localhost:8080/",
          "height": 70
        },
        "outputId": "f8e7c538-f7a6-48ab-b6cd-a9bfe232dab0"
      },
      "cell_type": "code",
      "source": [
        "df_vt['driver_gender'].value_counts()"
      ],
      "execution_count": 24,
      "outputs": [
        {
          "output_type": "execute_result",
          "data": {
            "text/plain": [
              "M    174070\n",
              "F     99111\n",
              "Name: driver_gender, dtype: int64"
            ]
          },
          "metadata": {
            "tags": []
          },
          "execution_count": 24
        }
      ]
    },
    {
      "metadata": {
        "id": "jPcw-gE19pXN",
        "colab_type": "code",
        "colab": {
          "base_uri": "https://localhost:8080/",
          "height": 70
        },
        "outputId": "252f2208-398a-49d8-860a-391334fc025c"
      },
      "cell_type": "code",
      "source": [
        "# Normalize can be set to True to print proportions instead of number \n",
        "# Percentage distribution\n",
        "df_vt['driver_gender'].value_counts(normalize=True)"
      ],
      "execution_count": 25,
      "outputs": [
        {
          "output_type": "execute_result",
          "data": {
            "text/plain": [
              "M    0.637197\n",
              "F    0.362803\n",
              "Name: driver_gender, dtype: float64"
            ]
          },
          "metadata": {
            "tags": []
          },
          "execution_count": 25
        }
      ]
    },
    {
      "metadata": {
        "id": "AbA87ajV9JMC",
        "colab_type": "text"
      },
      "cell_type": "markdown",
      "source": [
        "We can see that approximately 36% of the stops are of women drivers, and 64% are of men."
      ]
    },
    {
      "metadata": {
        "id": "HhzeJTHe-jUl",
        "colab_type": "text"
      },
      "cell_type": "markdown",
      "source": [
        "**Stops By Race**\n",
        "\n",
        "Let's examine distribution by race."
      ]
    },
    {
      "metadata": {
        "id": "Ift8a6Ue-sBX",
        "colab_type": "code",
        "colab": {
          "base_uri": "https://localhost:8080/",
          "height": 123
        },
        "outputId": "ba5a83c1-5bc9-4ea5-b84c-cce9bdfefb11"
      },
      "cell_type": "code",
      "source": [
        "df_vt['driver_race'].value_counts()"
      ],
      "execution_count": 26,
      "outputs": [
        {
          "output_type": "execute_result",
          "data": {
            "text/plain": [
              "White       261339\n",
              "Black         5571\n",
              "Asian         3446\n",
              "Hispanic      2562\n",
              "Other          263\n",
              "Name: driver_race, dtype: int64"
            ]
          },
          "metadata": {
            "tags": []
          },
          "execution_count": 26
        }
      ]
    },
    {
      "metadata": {
        "id": "fVWFaybFAD5N",
        "colab_type": "code",
        "colab": {
          "base_uri": "https://localhost:8080/",
          "height": 123
        },
        "outputId": "7476c1f4-353d-4146-b61a-d200c2a3e135"
      },
      "cell_type": "code",
      "source": [
        "df_vt['driver_race'].value_counts(normalize=True)"
      ],
      "execution_count": 27,
      "outputs": [
        {
          "output_type": "execute_result",
          "data": {
            "text/plain": [
              "White       0.956651\n",
              "Black       0.020393\n",
              "Asian       0.012614\n",
              "Hispanic    0.009378\n",
              "Other       0.000963\n",
              "Name: driver_race, dtype: float64"
            ]
          },
          "metadata": {
            "tags": []
          },
          "execution_count": 27
        }
      ]
    },
    {
      "metadata": {
        "id": "xBaFHadi_GkP",
        "colab_type": "text"
      },
      "cell_type": "markdown",
      "source": [
        "Most traffic stops are of white drivers, which is to be expected since Vermont is around 96% white (making it the 2nd-least diverse state in the nation, behind Maine). Since white drivers make up approximately 96% of the traffic stops, there's no obvious bias here for pulling over non-white drivers vs white drivers. Using the same methodology, however, we can also see that while black drivers make up roughly 2% of all traffic stops, only 1.3% of Vermont's population is black."
      ]
    },
    {
      "metadata": {
        "id": "neoRzWBUA4h6",
        "colab_type": "text"
      },
      "cell_type": "markdown",
      "source": [
        "**Police Stop Frequency By Race And Age**\n",
        "\n",
        "Let's visualize how the frequency of police stops breaks down by both race and age."
      ]
    },
    {
      "metadata": {
        "id": "bOygt1rkBgRk",
        "colab_type": "code",
        "colab": {
          "base_uri": "https://localhost:8080/",
          "height": 282
        },
        "outputId": "249ae61c-412c-4119-cb6b-8f77001b7905"
      },
      "cell_type": "code",
      "source": [
        "fig, ax = plt.subplots()\n",
        "ax.set_xlim(15, 70)\n",
        "for race in df_vt['driver_race'].unique():\n",
        "  s = df_vt[df_vt['driver_race'] == race]['driver_age']\n",
        "  s.plot.kde(ax=ax, label=race)\n",
        "ax.legend()"
      ],
      "execution_count": 28,
      "outputs": [
        {
          "output_type": "execute_result",
          "data": {
            "text/plain": [
              "<matplotlib.legend.Legend at 0x7f1d0c055d68>"
            ]
          },
          "metadata": {
            "tags": []
          },
          "execution_count": 28
        },
        {
          "output_type": "display_data",
          "data": {
            "image/png": "[encoded data removed]",
            "text/plain": [
              "<matplotlib.figure.Figure at 0x7f1d0c0fef28>"
            ]
          },
          "metadata": {
            "tags": []
          }
        }
      ]
    },
    {
      "metadata": {
        "id": "WVCJ5uBSD5hU",
        "colab_type": "text"
      },
      "cell_type": "markdown",
      "source": [
        "We can see that young drivers in their late teens and early twenties are the most likely to be pulled over. Between ages 25 and 35, the stop rate of each demographic drops off quickly. As far as the racial comparison goes, the most interesting disparity is that for white drivers between the ages of 35 and 50 the pull-over rate stays mostly flat, whereas for other races it continues to drop steadily.\n",
        "\n"
      ]
    },
    {
      "metadata": {
        "id": "qnsyxzZxEIEy",
        "colab_type": "text"
      },
      "cell_type": "markdown",
      "source": [
        "# **Violation And Outcome Analysis**\n",
        "\n",
        "One interesting topic that we touched on earlier is the fact that the decision to penalize a driver with a ticket or a citation is often at the discretion of the police officer. With this in mind, let's see if there are any discernable patterns in driver demographics and stop outcome."
      ]
    },
    {
      "metadata": {
        "id": "VSCxTTKBEcxY",
        "colab_type": "text"
      },
      "cell_type": "markdown",
      "source": [
        "**Analysis Helper Function**\n",
        "\n",
        "In order to assist in this analysis, we'll define a helper function to aggregate a few important statistics from our dataset.\n",
        "\n",
        "*   citations_per_warning - The ratio of citations to warnings. A higher number signifies a greater likelihood of being ticketed instead of getting off with a warning.\n",
        "\n",
        "*   arrest_rate - The percentage of stops that end in an arrest."
      ]
    },
    {
      "metadata": {
        "id": "V-fr46agE6GT",
        "colab_type": "code",
        "colab": {}
      },
      "cell_type": "code",
      "source": [
        "def compute_outcome_stats(df):\n",
        "    \"\"\"Compute statistics regarding the relative quanties of arrests, warnings, and citations\"\"\"\n",
        "    n_total = len(df)\n",
        "    n_warnings = len(df[df['stop_outcome'] == 'Written Warning'])\n",
        "    n_citations = len(df[df['stop_outcome'] == 'Citation'])\n",
        "    n_arrests = len(df[df['stop_outcome'] == 'Arrest for Violation'])\n",
        "    citations_per_warning = n_citations / n_warnings\n",
        "    arrest_rate = n_arrests / n_total\n",
        "\n",
        "    return(pd.Series(data = {\n",
        "        'n_total': n_total,\n",
        "        'n_warnings': n_warnings,\n",
        "        'n_citations': n_citations,\n",
        "        'n_arrests': n_arrests,\n",
        "        'citations_per_warning': citations_per_warning,\n",
        "        'arrest_rate': arrest_rate\n",
        "    }))"
      ],
      "execution_count": 0,
      "outputs": []
    },
    {
      "metadata": {
        "id": "SYVeBuFbFChy",
        "colab_type": "code",
        "colab": {
          "base_uri": "https://localhost:8080/",
          "height": 141
        },
        "outputId": "9a3b1df7-739d-4277-952e-7aa63033a295"
      },
      "cell_type": "code",
      "source": [
        "# Let's test out this helpe function by applying it to the entire dataframe\n",
        "compute_outcome_stats(df_vt)"
      ],
      "execution_count": 30,
      "outputs": [
        {
          "output_type": "execute_result",
          "data": {
            "text/plain": [
              "arrest_rate                   0.011736\n",
              "citations_per_warning         0.621072\n",
              "n_arrests                  3206.000000\n",
              "n_citations              103401.000000\n",
              "n_total                  273181.000000\n",
              "n_warnings               166488.000000\n",
              "dtype: float64"
            ]
          },
          "metadata": {
            "tags": []
          },
          "execution_count": 30
        }
      ]
    },
    {
      "metadata": {
        "id": "FYb9XMHcG_FV",
        "colab_type": "text"
      },
      "cell_type": "markdown",
      "source": [
        "In the above result, we can see that about 1.17% of traffic stops result in an arrest, and there are on-average 0.62 citations (tickets) issued per warning. This data passes the sanity check, but it's too coarse to provide many interesting insights. Let's dig deeper."
      ]
    },
    {
      "metadata": {
        "id": "KuKcq4b-HF30",
        "colab_type": "text"
      },
      "cell_type": "markdown",
      "source": [
        "**Breakdown By Gender**\n",
        "\n",
        "Using our helper function, along with the Pandas dataframe groupby method, we can easily compare these stats for male and female drivers."
      ]
    },
    {
      "metadata": {
        "id": "Thx_edbYHVRf",
        "colab_type": "code",
        "colab": {
          "base_uri": "https://localhost:8080/",
          "height": 137
        },
        "outputId": "7518bb96-bc5e-4405-8101-4e7c274d32b6"
      },
      "cell_type": "code",
      "source": [
        "df_vt.groupby('driver_gender').apply(compute_outcome_stats)"
      ],
      "execution_count": 31,
      "outputs": [
        {
          "output_type": "execute_result",
          "data": {
            "text/html": [
              "<div>\n",
              "<style scoped>\n",
              "    .dataframe tbody tr th:only-of-type {\n",
              "        vertical-align: middle;\n",
              "    }\n",
              "\n",
              "    .dataframe tbody tr th {\n",
              "        vertical-align: top;\n",
              "    }\n",
              "\n",
              "    .dataframe thead th {\n",
              "        text-align: right;\n",
              "    }\n",
              "</style>\n",
              "<table border=\"1\" class=\"dataframe\">\n",
              "  <thead>\n",
              "    <tr style=\"text-align: right;\">\n",
              "      <th></th>\n",
              "      <th>arrest_rate</th>\n",
              "      <th>citations_per_warning</th>\n",
              "      <th>n_arrests</th>\n",
              "      <th>n_citations</th>\n",
              "      <th>n_total</th>\n",
              "      <th>n_warnings</th>\n",
              "    </tr>\n",
              "    <tr>\n",
              "      <th>driver_gender</th>\n",
              "      <th></th>\n",
              "      <th></th>\n",
              "      <th></th>\n",
              "      <th></th>\n",
              "      <th></th>\n",
              "      <th></th>\n",
              "    </tr>\n",
              "  </thead>\n",
              "  <tbody>\n",
              "    <tr>\n",
              "      <th>F</th>\n",
              "      <td>0.007043</td>\n",
              "      <td>0.548247</td>\n",
              "      <td>698.0</td>\n",
              "      <td>34840.0</td>\n",
              "      <td>99111.0</td>\n",
              "      <td>63548.0</td>\n",
              "    </tr>\n",
              "    <tr>\n",
              "      <th>M</th>\n",
              "      <td>0.014408</td>\n",
              "      <td>0.666029</td>\n",
              "      <td>2508.0</td>\n",
              "      <td>68561.0</td>\n",
              "      <td>174070.0</td>\n",
              "      <td>102940.0</td>\n",
              "    </tr>\n",
              "  </tbody>\n",
              "</table>\n",
              "</div>"
            ],
            "text/plain": [
              "               arrest_rate  citations_per_warning  n_arrests  n_citations  \\\n",
              "driver_gender                                                               \n",
              "F                 0.007043               0.548247      698.0      34840.0   \n",
              "M                 0.014408               0.666029     2508.0      68561.0   \n",
              "\n",
              "                n_total  n_warnings  \n",
              "driver_gender                        \n",
              "F               99111.0     63548.0  \n",
              "M              174070.0    102940.0  "
            ]
          },
          "metadata": {
            "tags": []
          },
          "execution_count": 31
        }
      ]
    },
    {
      "metadata": {
        "id": "3AxRtiiEISEp",
        "colab_type": "text"
      },
      "cell_type": "markdown",
      "source": [
        "We can see here that men are, on average, twice as likely to be arrested during a traffic stop, and are also slightly more likely to be given a citation than women. It is, of course, not clear from the data whether this is indicative of any bias by the police officers, or if it reflects that men are being pulled over for more serious offenses than women on average."
      ]
    },
    {
      "metadata": {
        "id": "Qan1C9ufIUYj",
        "colab_type": "text"
      },
      "cell_type": "markdown",
      "source": [
        "**Breakdown By Race**\n",
        "\n",
        "Let's compute the same comparision, group by race."
      ]
    },
    {
      "metadata": {
        "id": "s9RQOVZrIoEz",
        "colab_type": "code",
        "colab": {
          "base_uri": "https://localhost:8080/",
          "height": 227
        },
        "outputId": "872c7444-f6e7-45c8-e81a-dd98d8892502"
      },
      "cell_type": "code",
      "source": [
        "df_vt.groupby('driver_race').apply(compute_outcome_stats)"
      ],
      "execution_count": 32,
      "outputs": [
        {
          "output_type": "execute_result",
          "data": {
            "text/html": [
              "<div>\n",
              "<style scoped>\n",
              "    .dataframe tbody tr th:only-of-type {\n",
              "        vertical-align: middle;\n",
              "    }\n",
              "\n",
              "    .dataframe tbody tr th {\n",
              "        vertical-align: top;\n",
              "    }\n",
              "\n",
              "    .dataframe thead th {\n",
              "        text-align: right;\n",
              "    }\n",
              "</style>\n",
              "<table border=\"1\" class=\"dataframe\">\n",
              "  <thead>\n",
              "    <tr style=\"text-align: right;\">\n",
              "      <th></th>\n",
              "      <th>arrest_rate</th>\n",
              "      <th>citations_per_warning</th>\n",
              "      <th>n_arrests</th>\n",
              "      <th>n_citations</th>\n",
              "      <th>n_total</th>\n",
              "      <th>n_warnings</th>\n",
              "    </tr>\n",
              "    <tr>\n",
              "      <th>driver_race</th>\n",
              "      <th></th>\n",
              "      <th></th>\n",
              "      <th></th>\n",
              "      <th></th>\n",
              "      <th></th>\n",
              "      <th></th>\n",
              "    </tr>\n",
              "  </thead>\n",
              "  <tbody>\n",
              "    <tr>\n",
              "      <th>Asian</th>\n",
              "      <td>0.006384</td>\n",
              "      <td>1.002339</td>\n",
              "      <td>22.0</td>\n",
              "      <td>1714.0</td>\n",
              "      <td>3446.0</td>\n",
              "      <td>1710.0</td>\n",
              "    </tr>\n",
              "    <tr>\n",
              "      <th>Black</th>\n",
              "      <td>0.019925</td>\n",
              "      <td>0.802379</td>\n",
              "      <td>111.0</td>\n",
              "      <td>2428.0</td>\n",
              "      <td>5571.0</td>\n",
              "      <td>3026.0</td>\n",
              "    </tr>\n",
              "    <tr>\n",
              "      <th>Hispanic</th>\n",
              "      <td>0.016393</td>\n",
              "      <td>0.865827</td>\n",
              "      <td>42.0</td>\n",
              "      <td>1168.0</td>\n",
              "      <td>2562.0</td>\n",
              "      <td>1349.0</td>\n",
              "    </tr>\n",
              "    <tr>\n",
              "      <th>Other</th>\n",
              "      <td>0.026616</td>\n",
              "      <td>1.048000</td>\n",
              "      <td>7.0</td>\n",
              "      <td>131.0</td>\n",
              "      <td>263.0</td>\n",
              "      <td>125.0</td>\n",
              "    </tr>\n",
              "    <tr>\n",
              "      <th>White</th>\n",
              "      <td>0.011571</td>\n",
              "      <td>0.611188</td>\n",
              "      <td>3024.0</td>\n",
              "      <td>97960.0</td>\n",
              "      <td>261339.0</td>\n",
              "      <td>160278.0</td>\n",
              "    </tr>\n",
              "  </tbody>\n",
              "</table>\n",
              "</div>"
            ],
            "text/plain": [
              "             arrest_rate  citations_per_warning  n_arrests  n_citations  \\\n",
              "driver_race                                                               \n",
              "Asian           0.006384               1.002339       22.0       1714.0   \n",
              "Black           0.019925               0.802379      111.0       2428.0   \n",
              "Hispanic        0.016393               0.865827       42.0       1168.0   \n",
              "Other           0.026616               1.048000        7.0        131.0   \n",
              "White           0.011571               0.611188     3024.0      97960.0   \n",
              "\n",
              "              n_total  n_warnings  \n",
              "driver_race                        \n",
              "Asian          3446.0      1710.0  \n",
              "Black          5571.0      3026.0  \n",
              "Hispanic       2562.0      1349.0  \n",
              "Other           263.0       125.0  \n",
              "White        261339.0    160278.0  "
            ]
          },
          "metadata": {
            "tags": []
          },
          "execution_count": 32
        }
      ]
    },
    {
      "metadata": {
        "id": "7JdqoNdxJK0n",
        "colab_type": "text"
      },
      "cell_type": "markdown",
      "source": [
        " I**nteresting!** We notice that Asian drivers are arrested at the lowest rate, but receive tickets at the highest rate (roughly 1 ticket per warning). Black and Hispanic drivers are both arrested at a higher rate and ticketed at a higher rate than white drivers."
      ]
    },
    {
      "metadata": {
        "id": "lblA0TTRJWkE",
        "colab_type": "code",
        "colab": {
          "base_uri": "https://localhost:8080/",
          "height": 515
        },
        "outputId": "a9cd42bd-ebbe-4e8f-e559-d7936daa0669"
      },
      "cell_type": "code",
      "source": [
        "# Let's visualize these outcomes\n",
        "race_agg = df_vt.groupby(['driver_race']).apply(compute_outcome_stats)\n",
        "fig, axes = plt.subplots(nrows=2, ncols=1, figsize=figsize)\n",
        "race_agg['citations_per_warning'].plot.barh(ax=axes[0], figsize=figsize, title=\"Citation Rate By Race\")\n",
        "race_agg['arrest_rate'].plot.barh(ax=axes[1], figsize=figsize, title='Arrest Rate By Race')"
      ],
      "execution_count": 33,
      "outputs": [
        {
          "output_type": "execute_result",
          "data": {
            "text/plain": [
              "<matplotlib.axes._subplots.AxesSubplot at 0x7f1d09749b70>"
            ]
          },
          "metadata": {
            "tags": []
          },
          "execution_count": 33
        },
        {
          "output_type": "display_data",
          "data": {
            "image/png": "[encoded data removed]",
            "text/plain": [
              "<matplotlib.figure.Figure at 0x7f1d0c1409e8>"
            ]
          },
          "metadata": {
            "tags": []
          }
        }
      ]
    },
    {
      "metadata": {
        "id": "wKyBoQbFKNmU",
        "colab_type": "text"
      },
      "cell_type": "markdown",
      "source": [
        "**Group By outcome And Violation**\n",
        "\n",
        "By grouping each statistic by the violation that triggered the traffic stop."
      ]
    },
    {
      "metadata": {
        "id": "E5GXo-IoKj1z",
        "colab_type": "code",
        "colab": {
          "base_uri": "https://localhost:8080/",
          "height": 677
        },
        "outputId": "81d57a47-1e34-4ccb-ee72-9f54fa4e74e5"
      },
      "cell_type": "code",
      "source": [
        "df_vt.groupby(['driver_race','violation']).apply(compute_outcome_stats)"
      ],
      "execution_count": 34,
      "outputs": [
        {
          "output_type": "execute_result",
          "data": {
            "text/html": [
              "<div>\n",
              "<style scoped>\n",
              "    .dataframe tbody tr th:only-of-type {\n",
              "        vertical-align: middle;\n",
              "    }\n",
              "\n",
              "    .dataframe tbody tr th {\n",
              "        vertical-align: top;\n",
              "    }\n",
              "\n",
              "    .dataframe thead th {\n",
              "        text-align: right;\n",
              "    }\n",
              "</style>\n",
              "<table border=\"1\" class=\"dataframe\">\n",
              "  <thead>\n",
              "    <tr style=\"text-align: right;\">\n",
              "      <th></th>\n",
              "      <th></th>\n",
              "      <th>arrest_rate</th>\n",
              "      <th>citations_per_warning</th>\n",
              "      <th>n_arrests</th>\n",
              "      <th>n_citations</th>\n",
              "      <th>n_total</th>\n",
              "      <th>n_warnings</th>\n",
              "    </tr>\n",
              "    <tr>\n",
              "      <th>driver_race</th>\n",
              "      <th>violation</th>\n",
              "      <th></th>\n",
              "      <th></th>\n",
              "      <th></th>\n",
              "      <th></th>\n",
              "      <th></th>\n",
              "      <th></th>\n",
              "    </tr>\n",
              "  </thead>\n",
              "  <tbody>\n",
              "    <tr>\n",
              "      <th rowspan=\"4\" valign=\"top\">Asian</th>\n",
              "      <th>DUI</th>\n",
              "      <td>0.200000</td>\n",
              "      <td>0.333333</td>\n",
              "      <td>2.0</td>\n",
              "      <td>2.0</td>\n",
              "      <td>10.0</td>\n",
              "      <td>6.0</td>\n",
              "    </tr>\n",
              "    <tr>\n",
              "      <th>Equipment</th>\n",
              "      <td>0.006270</td>\n",
              "      <td>0.132143</td>\n",
              "      <td>2.0</td>\n",
              "      <td>37.0</td>\n",
              "      <td>319.0</td>\n",
              "      <td>280.0</td>\n",
              "    </tr>\n",
              "    <tr>\n",
              "      <th>Moving violation</th>\n",
              "      <td>0.005563</td>\n",
              "      <td>1.183190</td>\n",
              "      <td>17.0</td>\n",
              "      <td>1647.0</td>\n",
              "      <td>3056.0</td>\n",
              "      <td>1392.0</td>\n",
              "    </tr>\n",
              "    <tr>\n",
              "      <th>Other</th>\n",
              "      <td>0.016393</td>\n",
              "      <td>0.875000</td>\n",
              "      <td>1.0</td>\n",
              "      <td>28.0</td>\n",
              "      <td>61.0</td>\n",
              "      <td>32.0</td>\n",
              "    </tr>\n",
              "    <tr>\n",
              "      <th rowspan=\"4\" valign=\"top\">Black</th>\n",
              "      <th>DUI</th>\n",
              "      <td>0.200000</td>\n",
              "      <td>0.142857</td>\n",
              "      <td>2.0</td>\n",
              "      <td>1.0</td>\n",
              "      <td>10.0</td>\n",
              "      <td>7.0</td>\n",
              "    </tr>\n",
              "    <tr>\n",
              "      <th>Equipment</th>\n",
              "      <td>0.029181</td>\n",
              "      <td>0.220651</td>\n",
              "      <td>26.0</td>\n",
              "      <td>156.0</td>\n",
              "      <td>891.0</td>\n",
              "      <td>707.0</td>\n",
              "    </tr>\n",
              "    <tr>\n",
              "      <th>Moving violation</th>\n",
              "      <td>0.016052</td>\n",
              "      <td>0.942385</td>\n",
              "      <td>71.0</td>\n",
              "      <td>2110.0</td>\n",
              "      <td>4423.0</td>\n",
              "      <td>2239.0</td>\n",
              "    </tr>\n",
              "    <tr>\n",
              "      <th>Other</th>\n",
              "      <td>0.048583</td>\n",
              "      <td>2.205479</td>\n",
              "      <td>12.0</td>\n",
              "      <td>161.0</td>\n",
              "      <td>247.0</td>\n",
              "      <td>73.0</td>\n",
              "    </tr>\n",
              "    <tr>\n",
              "      <th rowspan=\"4\" valign=\"top\">Hispanic</th>\n",
              "      <th>DUI</th>\n",
              "      <td>0.200000</td>\n",
              "      <td>3.000000</td>\n",
              "      <td>2.0</td>\n",
              "      <td>6.0</td>\n",
              "      <td>10.0</td>\n",
              "      <td>2.0</td>\n",
              "    </tr>\n",
              "    <tr>\n",
              "      <th>Equipment</th>\n",
              "      <td>0.023560</td>\n",
              "      <td>0.187898</td>\n",
              "      <td>9.0</td>\n",
              "      <td>59.0</td>\n",
              "      <td>382.0</td>\n",
              "      <td>314.0</td>\n",
              "    </tr>\n",
              "    <tr>\n",
              "      <th>Moving violation</th>\n",
              "      <td>0.012422</td>\n",
              "      <td>1.058824</td>\n",
              "      <td>26.0</td>\n",
              "      <td>1062.0</td>\n",
              "      <td>2093.0</td>\n",
              "      <td>1003.0</td>\n",
              "    </tr>\n",
              "    <tr>\n",
              "      <th>Other</th>\n",
              "      <td>0.064935</td>\n",
              "      <td>1.366667</td>\n",
              "      <td>5.0</td>\n",
              "      <td>41.0</td>\n",
              "      <td>77.0</td>\n",
              "      <td>30.0</td>\n",
              "    </tr>\n",
              "    <tr>\n",
              "      <th rowspan=\"3\" valign=\"top\">Other</th>\n",
              "      <th>Equipment</th>\n",
              "      <td>0.069767</td>\n",
              "      <td>0.250000</td>\n",
              "      <td>3.0</td>\n",
              "      <td>8.0</td>\n",
              "      <td>43.0</td>\n",
              "      <td>32.0</td>\n",
              "    </tr>\n",
              "    <tr>\n",
              "      <th>Moving violation</th>\n",
              "      <td>0.014493</td>\n",
              "      <td>1.344828</td>\n",
              "      <td>3.0</td>\n",
              "      <td>117.0</td>\n",
              "      <td>207.0</td>\n",
              "      <td>87.0</td>\n",
              "    </tr>\n",
              "    <tr>\n",
              "      <th>Other</th>\n",
              "      <td>0.076923</td>\n",
              "      <td>1.000000</td>\n",
              "      <td>1.0</td>\n",
              "      <td>6.0</td>\n",
              "      <td>13.0</td>\n",
              "      <td>6.0</td>\n",
              "    </tr>\n",
              "    <tr>\n",
              "      <th rowspan=\"5\" valign=\"top\">White</th>\n",
              "      <th>DUI</th>\n",
              "      <td>0.192364</td>\n",
              "      <td>0.455026</td>\n",
              "      <td>131.0</td>\n",
              "      <td>172.0</td>\n",
              "      <td>681.0</td>\n",
              "      <td>378.0</td>\n",
              "    </tr>\n",
              "    <tr>\n",
              "      <th>Equipment</th>\n",
              "      <td>0.012233</td>\n",
              "      <td>0.190486</td>\n",
              "      <td>599.0</td>\n",
              "      <td>7736.0</td>\n",
              "      <td>48965.0</td>\n",
              "      <td>40612.0</td>\n",
              "    </tr>\n",
              "    <tr>\n",
              "      <th>Moving violation</th>\n",
              "      <td>0.008635</td>\n",
              "      <td>0.732720</td>\n",
              "      <td>1747.0</td>\n",
              "      <td>84797.0</td>\n",
              "      <td>202321.0</td>\n",
              "      <td>115729.0</td>\n",
              "    </tr>\n",
              "    <tr>\n",
              "      <th>Other</th>\n",
              "      <td>0.058378</td>\n",
              "      <td>1.476672</td>\n",
              "      <td>547.0</td>\n",
              "      <td>5254.0</td>\n",
              "      <td>9370.0</td>\n",
              "      <td>3558.0</td>\n",
              "    </tr>\n",
              "    <tr>\n",
              "      <th>Other (non-mapped)</th>\n",
              "      <td>0.000000</td>\n",
              "      <td>1.000000</td>\n",
              "      <td>0.0</td>\n",
              "      <td>1.0</td>\n",
              "      <td>2.0</td>\n",
              "      <td>1.0</td>\n",
              "    </tr>\n",
              "  </tbody>\n",
              "</table>\n",
              "</div>"
            ],
            "text/plain": [
              "                                arrest_rate  citations_per_warning  n_arrests  \\\n",
              "driver_race violation                                                           \n",
              "Asian       DUI                    0.200000               0.333333        2.0   \n",
              "            Equipment              0.006270               0.132143        2.0   \n",
              "            Moving violation       0.005563               1.183190       17.0   \n",
              "            Other                  0.016393               0.875000        1.0   \n",
              "Black       DUI                    0.200000               0.142857        2.0   \n",
              "            Equipment              0.029181               0.220651       26.0   \n",
              "            Moving violation       0.016052               0.942385       71.0   \n",
              "            Other                  0.048583               2.205479       12.0   \n",
              "Hispanic    DUI                    0.200000               3.000000        2.0   \n",
              "            Equipment              0.023560               0.187898        9.0   \n",
              "            Moving violation       0.012422               1.058824       26.0   \n",
              "            Other                  0.064935               1.366667        5.0   \n",
              "Other       Equipment              0.069767               0.250000        3.0   \n",
              "            Moving violation       0.014493               1.344828        3.0   \n",
              "            Other                  0.076923               1.000000        1.0   \n",
              "White       DUI                    0.192364               0.455026      131.0   \n",
              "            Equipment              0.012233               0.190486      599.0   \n",
              "            Moving violation       0.008635               0.732720     1747.0   \n",
              "            Other                  0.058378               1.476672      547.0   \n",
              "            Other (non-mapped)     0.000000               1.000000        0.0   \n",
              "\n",
              "                                n_citations   n_total  n_warnings  \n",
              "driver_race violation                                              \n",
              "Asian       DUI                         2.0      10.0         6.0  \n",
              "            Equipment                  37.0     319.0       280.0  \n",
              "            Moving violation         1647.0    3056.0      1392.0  \n",
              "            Other                      28.0      61.0        32.0  \n",
              "Black       DUI                         1.0      10.0         7.0  \n",
              "            Equipment                 156.0     891.0       707.0  \n",
              "            Moving violation         2110.0    4423.0      2239.0  \n",
              "            Other                     161.0     247.0        73.0  \n",
              "Hispanic    DUI                         6.0      10.0         2.0  \n",
              "            Equipment                  59.0     382.0       314.0  \n",
              "            Moving violation         1062.0    2093.0      1003.0  \n",
              "            Other                      41.0      77.0        30.0  \n",
              "Other       Equipment                   8.0      43.0        32.0  \n",
              "            Moving violation          117.0     207.0        87.0  \n",
              "            Other                       6.0      13.0         6.0  \n",
              "White       DUI                       172.0     681.0       378.0  \n",
              "            Equipment                7736.0   48965.0     40612.0  \n",
              "            Moving violation        84797.0  202321.0    115729.0  \n",
              "            Other                    5254.0    9370.0      3558.0  \n",
              "            Other (non-mapped)          1.0       2.0         1.0  "
            ]
          },
          "metadata": {
            "tags": []
          },
          "execution_count": 34
        }
      ]
    },
    {
      "metadata": {
        "id": "ibPFWpmLKp1K",
        "colab_type": "text"
      },
      "cell_type": "markdown",
      "source": [
        "Ok, well this table looks interesting, but it's rather large and visually overwhelming. Let's trim down that dataset in order to retrieve a more focused subset of information."
      ]
    },
    {
      "metadata": {
        "id": "8a7-4EURKrKK",
        "colab_type": "code",
        "colab": {}
      },
      "cell_type": "code",
      "source": [
        "# Create new column to represent whether the driver is white\n",
        "df_vt['is_white'] = df_vt['driver_race'] == 'White'\n",
        "\n",
        "# Remove violation with too few data points\n",
        "df_vt_filtered = df_vt[~df_vt['violation'].isin(['Other (non-mapped)', 'DUI'])]"
      ],
      "execution_count": 0,
      "outputs": []
    },
    {
      "metadata": {
        "id": "vW3THrNbKz84",
        "colab_type": "text"
      },
      "cell_type": "markdown",
      "source": [
        "We're generating a new column to represent whether or not the driver is white. We are also generating a filtered version of the dataframe that strips out the two violation types with the fewest datapoints."
      ]
    },
    {
      "metadata": {
        "id": "buh0Y8_QLFjg",
        "colab_type": "code",
        "colab": {
          "base_uri": "https://localhost:8080/",
          "height": 257
        },
        "outputId": "eb719e52-914a-404a-eb53-784e26213858"
      },
      "cell_type": "code",
      "source": [
        "# Let's redo our race + violation aggregation now, using our filtered dataset\n",
        "df_vt_filtered.groupby(['is_white','violation']).apply(compute_outcome_stats)"
      ],
      "execution_count": 36,
      "outputs": [
        {
          "output_type": "execute_result",
          "data": {
            "text/html": [
              "<div>\n",
              "<style scoped>\n",
              "    .dataframe tbody tr th:only-of-type {\n",
              "        vertical-align: middle;\n",
              "    }\n",
              "\n",
              "    .dataframe tbody tr th {\n",
              "        vertical-align: top;\n",
              "    }\n",
              "\n",
              "    .dataframe thead th {\n",
              "        text-align: right;\n",
              "    }\n",
              "</style>\n",
              "<table border=\"1\" class=\"dataframe\">\n",
              "  <thead>\n",
              "    <tr style=\"text-align: right;\">\n",
              "      <th></th>\n",
              "      <th></th>\n",
              "      <th>arrest_rate</th>\n",
              "      <th>citations_per_warning</th>\n",
              "      <th>n_arrests</th>\n",
              "      <th>n_citations</th>\n",
              "      <th>n_total</th>\n",
              "      <th>n_warnings</th>\n",
              "    </tr>\n",
              "    <tr>\n",
              "      <th>is_white</th>\n",
              "      <th>violation</th>\n",
              "      <th></th>\n",
              "      <th></th>\n",
              "      <th></th>\n",
              "      <th></th>\n",
              "      <th></th>\n",
              "      <th></th>\n",
              "    </tr>\n",
              "  </thead>\n",
              "  <tbody>\n",
              "    <tr>\n",
              "      <th rowspan=\"3\" valign=\"top\">False</th>\n",
              "      <th>Equipment</th>\n",
              "      <td>0.024465</td>\n",
              "      <td>0.195049</td>\n",
              "      <td>40.0</td>\n",
              "      <td>260.0</td>\n",
              "      <td>1635.0</td>\n",
              "      <td>1333.0</td>\n",
              "    </tr>\n",
              "    <tr>\n",
              "      <th>Moving violation</th>\n",
              "      <td>0.011964</td>\n",
              "      <td>1.045541</td>\n",
              "      <td>117.0</td>\n",
              "      <td>4936.0</td>\n",
              "      <td>9779.0</td>\n",
              "      <td>4721.0</td>\n",
              "    </tr>\n",
              "    <tr>\n",
              "      <th>Other</th>\n",
              "      <td>0.047739</td>\n",
              "      <td>1.673759</td>\n",
              "      <td>19.0</td>\n",
              "      <td>236.0</td>\n",
              "      <td>398.0</td>\n",
              "      <td>141.0</td>\n",
              "    </tr>\n",
              "    <tr>\n",
              "      <th rowspan=\"3\" valign=\"top\">True</th>\n",
              "      <th>Equipment</th>\n",
              "      <td>0.012233</td>\n",
              "      <td>0.190486</td>\n",
              "      <td>599.0</td>\n",
              "      <td>7736.0</td>\n",
              "      <td>48965.0</td>\n",
              "      <td>40612.0</td>\n",
              "    </tr>\n",
              "    <tr>\n",
              "      <th>Moving violation</th>\n",
              "      <td>0.008635</td>\n",
              "      <td>0.732720</td>\n",
              "      <td>1747.0</td>\n",
              "      <td>84797.0</td>\n",
              "      <td>202321.0</td>\n",
              "      <td>115729.0</td>\n",
              "    </tr>\n",
              "    <tr>\n",
              "      <th>Other</th>\n",
              "      <td>0.058378</td>\n",
              "      <td>1.476672</td>\n",
              "      <td>547.0</td>\n",
              "      <td>5254.0</td>\n",
              "      <td>9370.0</td>\n",
              "      <td>3558.0</td>\n",
              "    </tr>\n",
              "  </tbody>\n",
              "</table>\n",
              "</div>"
            ],
            "text/plain": [
              "                           arrest_rate  citations_per_warning  n_arrests  \\\n",
              "is_white violation                                                         \n",
              "False    Equipment            0.024465               0.195049       40.0   \n",
              "         Moving violation     0.011964               1.045541      117.0   \n",
              "         Other                0.047739               1.673759       19.0   \n",
              "True     Equipment            0.012233               0.190486      599.0   \n",
              "         Moving violation     0.008635               0.732720     1747.0   \n",
              "         Other                0.058378               1.476672      547.0   \n",
              "\n",
              "                           n_citations   n_total  n_warnings  \n",
              "is_white violation                                            \n",
              "False    Equipment               260.0    1635.0      1333.0  \n",
              "         Moving violation       4936.0    9779.0      4721.0  \n",
              "         Other                   236.0     398.0       141.0  \n",
              "True     Equipment              7736.0   48965.0     40612.0  \n",
              "         Moving violation      84797.0  202321.0    115729.0  \n",
              "         Other                  5254.0    9370.0      3558.0  "
            ]
          },
          "metadata": {
            "tags": []
          },
          "execution_count": 36
        }
      ]
    },
    {
      "metadata": {
        "id": "B9pMmIi-LPCi",
        "colab_type": "text"
      },
      "cell_type": "markdown",
      "source": [
        "Great! much easier to digest.\n",
        "\n",
        "In the above table, we can see that non-white drivers are more likely to be arrested during a stop that was initiated due to an equipment or moving violation, but white drivers are more likely to be arrested for a traffic stop resulting from \"Other\" reasons. Non-white drivers are more likely than white drivers to be given tickets for each violation."
      ]
    },
    {
      "metadata": {
        "id": "2FtiluqOLoQV",
        "colab_type": "text"
      },
      "cell_type": "markdown",
      "source": [
        "**Visualize Stop Outcome And Vioiation Results**"
      ]
    },
    {
      "metadata": {
        "id": "SYRWldGjLntr",
        "colab_type": "code",
        "colab": {
          "base_uri": "https://localhost:8080/",
          "height": 590
        },
        "outputId": "e1cbc586-d251-479b-e815-1c2be2d20bfd"
      },
      "cell_type": "code",
      "source": [
        "# Let's generate bar graph\n",
        "race_stats = df_vt_filtered.groupby(['violation', 'driver_race']).apply(compute_outcome_stats).unstack()\n",
        "fig, axes = plt.subplots(nrows=1, ncols=2, figsize=figsize)\n",
        "race_stats.plot.bar(y='arrest_rate', ax=axes[0], title='Arrest Rate By Race and Violation')\n",
        "race_stats.plot.bar(y='citations_per_warning', ax=axes[1], title='Citations Per Warning By Race and Violation')"
      ],
      "execution_count": 37,
      "outputs": [
        {
          "output_type": "execute_result",
          "data": {
            "text/plain": [
              "<matplotlib.axes._subplots.AxesSubplot at 0x7f1d0969dc18>"
            ]
          },
          "metadata": {
            "tags": []
          },
          "execution_count": 37
        },
        {
          "output_type": "display_data",
          "data": {
            "image/png": "[encoded data removed]",
            "text/plain": [
              "<matplotlib.figure.Figure at 0x7f1d0ee10710>"
            ]
          },
          "metadata": {
            "tags": []
          }
        }
      ]
    },
    {
      "metadata": {
        "id": "tq8KGczHMF7i",
        "colab_type": "text"
      },
      "cell_type": "markdown",
      "source": [
        "We can see in these charts that Hispanic and Black drivers are generally arrested at a higher rate than white drivers (with the exception of the rather ambiguous \"Other\" category). and that Black drivers are more likely, across the board, to be issued a citation than white drivers. Asian drivers are arrested at very low rates, and their citation rates are highly variable.\n",
        "\n",
        "These results are compelling, and are suggestive of potential racial bias, but they are too inconsistent across violation types to provide any definitive answers. Let's dig deeper to see what else we can find."
      ]
    },
    {
      "metadata": {
        "id": "q2OJMKubMxxm",
        "colab_type": "text"
      },
      "cell_type": "markdown",
      "source": [
        "# **Search Outcome Analysis**"
      ]
    },
    {
      "metadata": {
        "id": "V8Tkx_dsjM8m",
        "colab_type": "text"
      },
      "cell_type": "markdown",
      "source": [
        "We'll now use the available data to perform our own outcome test, in order to determine whether minorities in Vermont are routinely searched on the basis of less evidence than white drivers."
      ]
    },
    {
      "metadata": {
        "id": "EURIVKCtjVwS",
        "colab_type": "text"
      },
      "cell_type": "markdown",
      "source": [
        "**Compute Search Rate And Hit Rate**\n",
        "\n",
        "We'll define a new function to compute the search rate and hit rate for the traffic stops in our dataframe.\n",
        "\n",
        "*  ** Search Rate** - The rate at which a traffic stop results in a search. A search rate of 0.20 would signify that out of 100 traffic stops, 20 resulted in a search.\n",
        "\n",
        "*   **Hit Rate** - The rate at which contraband is found in a search. A hit rate of 0.80 would signify that out of 100 searches, 80 searches resulted in contraband (drugs, unregistered weapons, etc.) being found."
      ]
    },
    {
      "metadata": {
        "id": "1YtxNy21M-9j",
        "colab_type": "code",
        "colab": {}
      },
      "cell_type": "code",
      "source": [
        "def compute_search_stats(df):\n",
        "    \"\"\"Compute the search rate and hit rate\"\"\"\n",
        "    search_conducted = df['search_conducted']\n",
        "    contraband_found = df['contraband_found']\n",
        "    n_stops     = len(search_conducted)\n",
        "    n_searches  = sum(search_conducted)\n",
        "    n_hits      = sum(contraband_found)\n",
        "\n",
        "    # Filter out counties with too few stops\n",
        "    if (n_stops) < 50:\n",
        "        search_rate = None\n",
        "    else:\n",
        "        search_rate = n_searches / n_stops\n",
        "\n",
        "    # Filter out counties with too few searches\n",
        "    if (n_searches) < 5:\n",
        "        hit_rate = None\n",
        "    else:\n",
        "        hit_rate = n_hits / n_searches\n",
        "\n",
        "    return(pd.Series(data = {\n",
        "        'n_stops': n_stops,\n",
        "        'n_searches': n_searches,\n",
        "        'n_hits': n_hits,\n",
        "        'search_rate': search_rate,\n",
        "        'hit_rate': hit_rate\n",
        "    }))"
      ],
      "execution_count": 0,
      "outputs": []
    },
    {
      "metadata": {
        "id": "Wp5DWbYJj8PX",
        "colab_type": "text"
      },
      "cell_type": "markdown",
      "source": [
        "**Compute Search Stats For Entire Dataset**"
      ]
    },
    {
      "metadata": {
        "id": "LhnxLReUNA5a",
        "colab_type": "code",
        "colab": {
          "base_uri": "https://localhost:8080/",
          "height": 123
        },
        "outputId": "75f5a6bb-cb7c-4b25-f5e3-fa08e4d85652"
      },
      "cell_type": "code",
      "source": [
        "# Let's test our new function and determine the search rate and hit rate for the entire state\n",
        "compute_search_stats(df_vt)"
      ],
      "execution_count": 41,
      "outputs": [
        {
          "output_type": "execute_result",
          "data": {
            "text/plain": [
              "hit_rate            0.796262\n",
              "n_hits           2599.000000\n",
              "n_searches       3264.000000\n",
              "n_stops        273181.000000\n",
              "search_rate         0.011948\n",
              "dtype: float64"
            ]
          },
          "metadata": {
            "tags": []
          },
          "execution_count": 41
        }
      ]
    },
    {
      "metadata": {
        "id": "hwfYZo_ip2Ck",
        "colab_type": "text"
      },
      "cell_type": "markdown",
      "source": [
        "Here we can see that each traffic stop had a 1.2% change of resulting in a search, and each search had an 80% chance of yielding contraband.\n",
        "\n"
      ]
    },
    {
      "metadata": {
        "id": "pT3MLZ3OqANn",
        "colab_type": "text"
      },
      "cell_type": "markdown",
      "source": [
        "**Compare Search Stats By Driver Gender**"
      ]
    },
    {
      "metadata": {
        "id": "fRm6tDblNAs6",
        "colab_type": "code",
        "colab": {
          "base_uri": "https://localhost:8080/",
          "height": 137
        },
        "outputId": "a1dc67d5-fa2b-46f7-f6a0-07cf9fb12bd5"
      },
      "cell_type": "code",
      "source": [
        "df_vt.groupby('driver_gender').apply(compute_search_stats)"
      ],
      "execution_count": 42,
      "outputs": [
        {
          "output_type": "execute_result",
          "data": {
            "text/html": [
              "<div>\n",
              "<style scoped>\n",
              "    .dataframe tbody tr th:only-of-type {\n",
              "        vertical-align: middle;\n",
              "    }\n",
              "\n",
              "    .dataframe tbody tr th {\n",
              "        vertical-align: top;\n",
              "    }\n",
              "\n",
              "    .dataframe thead th {\n",
              "        text-align: right;\n",
              "    }\n",
              "</style>\n",
              "<table border=\"1\" class=\"dataframe\">\n",
              "  <thead>\n",
              "    <tr style=\"text-align: right;\">\n",
              "      <th></th>\n",
              "      <th>hit_rate</th>\n",
              "      <th>n_hits</th>\n",
              "      <th>n_searches</th>\n",
              "      <th>n_stops</th>\n",
              "      <th>search_rate</th>\n",
              "    </tr>\n",
              "    <tr>\n",
              "      <th>driver_gender</th>\n",
              "      <th></th>\n",
              "      <th></th>\n",
              "      <th></th>\n",
              "      <th></th>\n",
              "      <th></th>\n",
              "    </tr>\n",
              "  </thead>\n",
              "  <tbody>\n",
              "    <tr>\n",
              "      <th>F</th>\n",
              "      <td>0.788820</td>\n",
              "      <td>508.0</td>\n",
              "      <td>644.0</td>\n",
              "      <td>99111.0</td>\n",
              "      <td>0.006498</td>\n",
              "    </tr>\n",
              "    <tr>\n",
              "      <th>M</th>\n",
              "      <td>0.798092</td>\n",
              "      <td>2091.0</td>\n",
              "      <td>2620.0</td>\n",
              "      <td>174070.0</td>\n",
              "      <td>0.015051</td>\n",
              "    </tr>\n",
              "  </tbody>\n",
              "</table>\n",
              "</div>"
            ],
            "text/plain": [
              "               hit_rate  n_hits  n_searches   n_stops  search_rate\n",
              "driver_gender                                                     \n",
              "F              0.788820   508.0       644.0   99111.0     0.006498\n",
              "M              0.798092  2091.0      2620.0  174070.0     0.015051"
            ]
          },
          "metadata": {
            "tags": []
          },
          "execution_count": 42
        }
      ]
    },
    {
      "metadata": {
        "id": "6vTglRJNqqby",
        "colab_type": "text"
      },
      "cell_type": "markdown",
      "source": [
        "We can see here that men are three times as likely to be searched as women, and that 80% of searches for both genders resulted in contraband being found. The data shows that men are searched and caught with contraband more often than women, but it is unclear whether there is any gender discrimination in deciding who to search since the hit rate is equal."
      ]
    },
    {
      "metadata": {
        "id": "47iOSUerqup2",
        "colab_type": "text"
      },
      "cell_type": "markdown",
      "source": [
        "**Compare Search Stats By Age**\n",
        "\n",
        "We'll split the dataset into age buckets and perform the same analysis"
      ]
    },
    {
      "metadata": {
        "id": "vnkdUcvWqaNL",
        "colab_type": "code",
        "colab": {
          "base_uri": "https://localhost:8080/",
          "height": 377
        },
        "outputId": "db35a318-1c99-494c-c790-6dc6caac927f"
      },
      "cell_type": "code",
      "source": [
        "age_groups = pd.cut(df_vt[\"driver_age\"], np.arange(15, 70, 5))\n",
        "df_vt.groupby(age_groups).apply(compute_search_stats)"
      ],
      "execution_count": 43,
      "outputs": [
        {
          "output_type": "execute_result",
          "data": {
            "text/html": [
              "<div>\n",
              "<style scoped>\n",
              "    .dataframe tbody tr th:only-of-type {\n",
              "        vertical-align: middle;\n",
              "    }\n",
              "\n",
              "    .dataframe tbody tr th {\n",
              "        vertical-align: top;\n",
              "    }\n",
              "\n",
              "    .dataframe thead th {\n",
              "        text-align: right;\n",
              "    }\n",
              "</style>\n",
              "<table border=\"1\" class=\"dataframe\">\n",
              "  <thead>\n",
              "    <tr style=\"text-align: right;\">\n",
              "      <th></th>\n",
              "      <th>hit_rate</th>\n",
              "      <th>n_hits</th>\n",
              "      <th>n_searches</th>\n",
              "      <th>n_stops</th>\n",
              "      <th>search_rate</th>\n",
              "    </tr>\n",
              "    <tr>\n",
              "      <th>driver_age</th>\n",
              "      <th></th>\n",
              "      <th></th>\n",
              "      <th></th>\n",
              "      <th></th>\n",
              "      <th></th>\n",
              "    </tr>\n",
              "  </thead>\n",
              "  <tbody>\n",
              "    <tr>\n",
              "      <th>(15, 20]</th>\n",
              "      <td>0.846954</td>\n",
              "      <td>570.0</td>\n",
              "      <td>673.0</td>\n",
              "      <td>27443.0</td>\n",
              "      <td>0.024524</td>\n",
              "    </tr>\n",
              "    <tr>\n",
              "      <th>(20, 25]</th>\n",
              "      <td>0.837488</td>\n",
              "      <td>840.0</td>\n",
              "      <td>1003.0</td>\n",
              "      <td>43310.0</td>\n",
              "      <td>0.023159</td>\n",
              "    </tr>\n",
              "    <tr>\n",
              "      <th>(25, 30]</th>\n",
              "      <td>0.788800</td>\n",
              "      <td>493.0</td>\n",
              "      <td>625.0</td>\n",
              "      <td>34794.0</td>\n",
              "      <td>0.017963</td>\n",
              "    </tr>\n",
              "    <tr>\n",
              "      <th>(30, 35]</th>\n",
              "      <td>0.766756</td>\n",
              "      <td>286.0</td>\n",
              "      <td>373.0</td>\n",
              "      <td>27784.0</td>\n",
              "      <td>0.013425</td>\n",
              "    </tr>\n",
              "    <tr>\n",
              "      <th>(35, 40]</th>\n",
              "      <td>0.744186</td>\n",
              "      <td>160.0</td>\n",
              "      <td>215.0</td>\n",
              "      <td>23241.0</td>\n",
              "      <td>0.009251</td>\n",
              "    </tr>\n",
              "    <tr>\n",
              "      <th>(40, 45]</th>\n",
              "      <td>0.692913</td>\n",
              "      <td>88.0</td>\n",
              "      <td>127.0</td>\n",
              "      <td>24083.0</td>\n",
              "      <td>0.005273</td>\n",
              "    </tr>\n",
              "    <tr>\n",
              "      <th>(45, 50]</th>\n",
              "      <td>0.575472</td>\n",
              "      <td>61.0</td>\n",
              "      <td>106.0</td>\n",
              "      <td>24117.0</td>\n",
              "      <td>0.004395</td>\n",
              "    </tr>\n",
              "    <tr>\n",
              "      <th>(50, 55]</th>\n",
              "      <td>0.697368</td>\n",
              "      <td>53.0</td>\n",
              "      <td>76.0</td>\n",
              "      <td>22532.0</td>\n",
              "      <td>0.003373</td>\n",
              "    </tr>\n",
              "    <tr>\n",
              "      <th>(55, 60]</th>\n",
              "      <td>0.833333</td>\n",
              "      <td>30.0</td>\n",
              "      <td>36.0</td>\n",
              "      <td>17522.0</td>\n",
              "      <td>0.002055</td>\n",
              "    </tr>\n",
              "    <tr>\n",
              "      <th>(60, 65]</th>\n",
              "      <td>0.461538</td>\n",
              "      <td>6.0</td>\n",
              "      <td>13.0</td>\n",
              "      <td>12520.0</td>\n",
              "      <td>0.001038</td>\n",
              "    </tr>\n",
              "  </tbody>\n",
              "</table>\n",
              "</div>"
            ],
            "text/plain": [
              "            hit_rate  n_hits  n_searches  n_stops  search_rate\n",
              "driver_age                                                    \n",
              "(15, 20]    0.846954   570.0       673.0  27443.0     0.024524\n",
              "(20, 25]    0.837488   840.0      1003.0  43310.0     0.023159\n",
              "(25, 30]    0.788800   493.0       625.0  34794.0     0.017963\n",
              "(30, 35]    0.766756   286.0       373.0  27784.0     0.013425\n",
              "(35, 40]    0.744186   160.0       215.0  23241.0     0.009251\n",
              "(40, 45]    0.692913    88.0       127.0  24083.0     0.005273\n",
              "(45, 50]    0.575472    61.0       106.0  24117.0     0.004395\n",
              "(50, 55]    0.697368    53.0        76.0  22532.0     0.003373\n",
              "(55, 60]    0.833333    30.0        36.0  17522.0     0.002055\n",
              "(60, 65]    0.461538     6.0        13.0  12520.0     0.001038"
            ]
          },
          "metadata": {
            "tags": []
          },
          "execution_count": 43
        }
      ]
    },
    {
      "metadata": {
        "id": "C8ZqWJROrcMC",
        "colab_type": "text"
      },
      "cell_type": "markdown",
      "source": [
        "We can see here that the search rate steadily declines as drivers get older, and that the hit rate also declines rapidly for older drivers."
      ]
    },
    {
      "metadata": {
        "id": "k0tVlNB7rg0n",
        "colab_type": "text"
      },
      "cell_type": "markdown",
      "source": [
        "**Compare Search Stats By Race**\n"
      ]
    },
    {
      "metadata": {
        "id": "pjZrH9drqaD4",
        "colab_type": "code",
        "colab": {
          "base_uri": "https://localhost:8080/",
          "height": 227
        },
        "outputId": "b87bcad4-d984-463a-b1ab-c87dc49d189b"
      },
      "cell_type": "code",
      "source": [
        "df_vt.groupby('driver_race').apply(compute_search_stats)"
      ],
      "execution_count": 44,
      "outputs": [
        {
          "output_type": "execute_result",
          "data": {
            "text/html": [
              "<div>\n",
              "<style scoped>\n",
              "    .dataframe tbody tr th:only-of-type {\n",
              "        vertical-align: middle;\n",
              "    }\n",
              "\n",
              "    .dataframe tbody tr th {\n",
              "        vertical-align: top;\n",
              "    }\n",
              "\n",
              "    .dataframe thead th {\n",
              "        text-align: right;\n",
              "    }\n",
              "</style>\n",
              "<table border=\"1\" class=\"dataframe\">\n",
              "  <thead>\n",
              "    <tr style=\"text-align: right;\">\n",
              "      <th></th>\n",
              "      <th>hit_rate</th>\n",
              "      <th>n_hits</th>\n",
              "      <th>n_searches</th>\n",
              "      <th>n_stops</th>\n",
              "      <th>search_rate</th>\n",
              "    </tr>\n",
              "    <tr>\n",
              "      <th>driver_race</th>\n",
              "      <th></th>\n",
              "      <th></th>\n",
              "      <th></th>\n",
              "      <th></th>\n",
              "      <th></th>\n",
              "    </tr>\n",
              "  </thead>\n",
              "  <tbody>\n",
              "    <tr>\n",
              "      <th>Asian</th>\n",
              "      <td>0.785714</td>\n",
              "      <td>22.0</td>\n",
              "      <td>28.0</td>\n",
              "      <td>3446.0</td>\n",
              "      <td>0.008125</td>\n",
              "    </tr>\n",
              "    <tr>\n",
              "      <th>Black</th>\n",
              "      <td>0.686620</td>\n",
              "      <td>195.0</td>\n",
              "      <td>284.0</td>\n",
              "      <td>5571.0</td>\n",
              "      <td>0.050978</td>\n",
              "    </tr>\n",
              "    <tr>\n",
              "      <th>Hispanic</th>\n",
              "      <td>0.644231</td>\n",
              "      <td>67.0</td>\n",
              "      <td>104.0</td>\n",
              "      <td>2562.0</td>\n",
              "      <td>0.040593</td>\n",
              "    </tr>\n",
              "    <tr>\n",
              "      <th>Other</th>\n",
              "      <td>0.600000</td>\n",
              "      <td>6.0</td>\n",
              "      <td>10.0</td>\n",
              "      <td>263.0</td>\n",
              "      <td>0.038023</td>\n",
              "    </tr>\n",
              "    <tr>\n",
              "      <th>White</th>\n",
              "      <td>0.813601</td>\n",
              "      <td>2309.0</td>\n",
              "      <td>2838.0</td>\n",
              "      <td>261339.0</td>\n",
              "      <td>0.010859</td>\n",
              "    </tr>\n",
              "  </tbody>\n",
              "</table>\n",
              "</div>"
            ],
            "text/plain": [
              "             hit_rate  n_hits  n_searches   n_stops  search_rate\n",
              "driver_race                                                     \n",
              "Asian        0.785714    22.0        28.0    3446.0     0.008125\n",
              "Black        0.686620   195.0       284.0    5571.0     0.050978\n",
              "Hispanic     0.644231    67.0       104.0    2562.0     0.040593\n",
              "Other        0.600000     6.0        10.0     263.0     0.038023\n",
              "White        0.813601  2309.0      2838.0  261339.0     0.010859"
            ]
          },
          "metadata": {
            "tags": []
          },
          "execution_count": 44
        }
      ]
    },
    {
      "metadata": {
        "id": "10NnHAL1sV5S",
        "colab_type": "text"
      },
      "cell_type": "markdown",
      "source": [
        "Black and Hispanic drivers are searched at much higher rates than White drivers (5% and 4% of traffic stops respectively, versus 1% for white drivers), but the searches of these drivers only yield contraband 60-70% of the time, compared to 80% of the time for White drivers.\n",
        "\n",
        "Let's rephrase these results.\n",
        "\n",
        "Black drivers are **500% more likely** to be searched than white drivers during a traffic stop, but are **13% less likely** to be caught with contraband in the event of a search.\n",
        "\n",
        "Hispanic drivers are **400% more likely** to be searched than white drivers during a traffic stop, but are **17% less likely **to be caught with contraband in the event of a search."
      ]
    },
    {
      "metadata": {
        "id": "qbK0hlx9sivb",
        "colab_type": "text"
      },
      "cell_type": "markdown",
      "source": [
        "**Compare Search Stats By Race And Location**\n",
        "\n",
        "Let's add in location as another factor. It's possible that some counties (such as those with larger towns or with interstate highways where opioid trafficking is prevalent) have a much higher search rate / lower hit rates for both white and non-white drivers, but also have greater racial diversity, leading to distortion in the overall stats. By controlling for location, we can determine if this is the case.\n",
        "\n",
        "We'll define three new helper functions to generate the visualizations."
      ]
    },
    {
      "metadata": {
        "id": "Y62-33N1qZ9T",
        "colab_type": "code",
        "colab": {}
      },
      "cell_type": "code",
      "source": [
        "def generate_comparison_scatter(df, ax, state, race, field, color):\n",
        "    \"\"\"Generate scatter plot comparing field for white drivers with minority drivers\"\"\"\n",
        "    race_location_agg = df.groupby(['county_fips','driver_race']).apply(compute_search_stats).reset_index().dropna()\n",
        "    race_location_agg = race_location_agg.pivot(index='county_fips', columns='driver_race', values=field)\n",
        "    ax = race_location_agg.plot.scatter(ax=ax, x='White', y=race, s=150, label=race, color=color)\n",
        "    return ax\n",
        "\n",
        "def format_scatter_chart(ax, state, field):\n",
        "    \"\"\"Format and label to scatter chart\"\"\"\n",
        "    ax.set_xlabel('{} - White'.format(field))\n",
        "    ax.set_ylabel('{} - Non-White'.format(field, race))\n",
        "    ax.set_title(\"{} By County - {}\".format(field, state))\n",
        "    lim = max(ax.get_xlim()[1], ax.get_ylim()[1])\n",
        "    ax.set_xlim(0, lim)\n",
        "    ax.set_ylim(0, lim)\n",
        "    diag_line, = ax.plot(ax.get_xlim(), ax.get_ylim(), ls=\"--\", c=\".3\")\n",
        "    ax.legend()\n",
        "    return ax\n",
        "\n",
        "def generate_comparison_scatters(df, state):\n",
        "    \"\"\"Generate scatter plots comparing search rates of white drivers with black and hispanic drivers\"\"\"\n",
        "    fig, axes = plt.subplots(nrows=1, ncols=2, figsize=figsize)\n",
        "    generate_comparison_scatter(df, axes[0], state, 'Black', 'search_rate', 'red')\n",
        "    generate_comparison_scatter(df, axes[0], state, 'Hispanic', 'search_rate', 'orange')\n",
        "    generate_comparison_scatter(df, axes[0], state, 'Asian', 'search_rate', 'green')\n",
        "    format_scatter_chart(axes[0], state, 'Search Rate')\n",
        "\n",
        "    generate_comparison_scatter(df, axes[1], state, 'Black', 'hit_rate', 'red')\n",
        "    generate_comparison_scatter(df, axes[1], state, 'Hispanic', 'hit_rate', 'orange')\n",
        "    generate_comparison_scatter(df, axes[1], state, 'Asian', 'hit_rate', 'green')\n",
        "    format_scatter_chart(axes[1], state, 'Hit Rate')\n",
        "\n",
        "    return fig"
      ],
      "execution_count": 0,
      "outputs": []
    },
    {
      "metadata": {
        "id": "Na7iaboFtHSh",
        "colab_type": "text"
      },
      "cell_type": "markdown",
      "source": [
        "We'll now generate the scatter plots using the function"
      ]
    },
    {
      "metadata": {
        "id": "ML0iVvjuNAkH",
        "colab_type": "code",
        "colab": {
          "base_uri": "https://localhost:8080/",
          "height": 1027
        },
        "outputId": "c01c2f6a-edb1-4f27-91d5-0153ef61e386"
      },
      "cell_type": "code",
      "source": [
        "generate_comparison_scatters(df_vt, 'VT')"
      ],
      "execution_count": 46,
      "outputs": [
        {
          "output_type": "execute_result",
          "data": {
            "image/png": "[encoded data removed]",
            "text/plain": [
              "<matplotlib.figure.Figure at 0x7f1d09640748>"
            ]
          },
          "metadata": {
            "tags": []
          },
          "execution_count": 46
        },
        {
          "output_type": "display_data",
          "data": {
            "image/png": "[encoded data removed]",
            "text/plain": [
              "<matplotlib.figure.Figure at 0x7f1d09640748>"
            ]
          },
          "metadata": {
            "tags": []
          }
        }
      ]
    },
    {
      "metadata": {
        "id": "CIsyX2p7uCGr",
        "colab_type": "text"
      },
      "cell_type": "markdown",
      "source": [
        "The plots above are comparing search_rate (left) and hit_rate (right) for minority drivers compared with white drivers in each county. If all of the dots (each of which represents the stats for a single county and race) followed the diagonal center line, the implication would be that white drivers and non-white drivers are searched at the exact same rate with the exact same standard of evidence.\n",
        "\n",
        "Unfortunately, this is not the case. In the above charts, we can see that, for every county, the search rate is higher for Black and Hispanic drivers even though the hit rate is lower.\n",
        "\n",
        "Let's define one more visualization helper function, to show all of these results on a single scatter plot."
      ]
    },
    {
      "metadata": {
        "id": "k3rF_eQLuEYm",
        "colab_type": "code",
        "colab": {}
      },
      "cell_type": "code",
      "source": [
        "def generate_county_search_stats_scatter(df, state):\n",
        "    \"\"\"Generate a scatter plot of search rate vs. hit rate by race and county\"\"\"\n",
        "    race_location_agg = df.groupby(['county_fips','driver_race']).apply(compute_search_stats)\n",
        "\n",
        "    colors = ['blue','orange','red', 'green']\n",
        "    fig, ax = plt.subplots(figsize=figsize)\n",
        "    for c, frame in race_location_agg.groupby(level='driver_race'):\n",
        "        ax.scatter(x=frame['hit_rate'], y=frame['search_rate'], s=150, label=c, color=colors.pop() if colors else None)\n",
        "    ax.legend(loc='upper center', bbox_to_anchor=(0.5, 1.2), ncol=4, fancybox=True)\n",
        "    ax.set_xlabel('Hit Rate')\n",
        "    ax.set_ylabel('Search Rate')\n",
        "    ax.set_title(\"Search Stats By County and Race - {}\".format(state))\n",
        "    return fig"
      ],
      "execution_count": 0,
      "outputs": []
    },
    {
      "metadata": {
        "id": "8LU2eWwluEF0",
        "colab_type": "code",
        "colab": {
          "base_uri": "https://localhost:8080/",
          "height": 1161
        },
        "outputId": "dc2a5928-ff7a-418f-9211-3fb9d74fbb57"
      },
      "cell_type": "code",
      "source": [
        "generate_county_search_stats_scatter(df_vt, \"VT\")"
      ],
      "execution_count": 61,
      "outputs": [
        {
          "output_type": "execute_result",
          "data": {
            "image/png": "[encoded data removed]",
            "text/plain": [
              "<matplotlib.figure.Figure at 0x7f1d091603c8>"
            ]
          },
          "metadata": {
            "tags": []
          },
          "execution_count": 61
        },
        {
          "output_type": "display_data",
          "data": {
            "image/png": "[encoded data removed]",
            "text/plain": [
              "<matplotlib.figure.Figure at 0x7f1d091603c8>"
            ]
          },
          "metadata": {
            "tags": []
          }
        }
      ]
    },
    {
      "metadata": {
        "id": "tX_mwBpCzHdH",
        "colab_type": "text"
      },
      "cell_type": "markdown",
      "source": [
        "As the old idiom goes - a picture is worth a thousand words. The above chart is one of those pictures - and the name of the picture is \"Systemic Racism\".\n",
        "\n",
        "The search rates and hit rates for white drivers in most counties are consistently clustered around 80% and 1% respectively. We can see, however, that nearly every county searches Black and Hispanic drivers at a higher rate, and that these searches uniformly have a lower hit rate than those on White drivers.\n",
        "\n",
        "This state-wide pattern of a higher search rate combined with a lower hit rate suggests that a lower standard of evidence is used when deciding to search Black and Hispanic drivers compared to when searching White drivers."
      ]
    },
    {
      "metadata": {
        "id": "Sfnl2zNqzZjK",
        "colab_type": "text"
      },
      "cell_type": "markdown",
      "source": [
        "# **What Next?**\n",
        "\n",
        "Do these results imply that all police officers are overtly racist? No.\n",
        "\n",
        "Do they show that Black and Hispanic drivers are searched much more frequently than white drivers, often with a lower standard of evidence? Yes.\n",
        "\n",
        "What we are observing here appears to be a pattern of systemic racism. The racial disparities revealed in this analysis are a reflection of an entrenched mistrust of certain minorities in the United States. The data and accompanying analysis are indicative of social trends that are certainly not limited to police officers, and should not be used to disparage this profession as a whole. Racial discrimination is present at all levels of society from retail stores to the tech industry to academia.\n",
        "\n",
        "We are able to empirically identify these trends only because state police deparments (and the Open Policing team at Stanford) have made this data available to the public; no similar datasets exist for most other professions and industries. Releasing datasets about these issues is commendable (but sadly still somewhat uncommon, especially in the private sector) and will help to further identify where these disparities exist, and to influence policies in order to provide a fair, effective way to counteract these biases.\n",
        "\n"
      ]
    },
    {
      "metadata": {
        "id": "LaX1StqxuEBf",
        "colab_type": "code",
        "colab": {}
      },
      "cell_type": "code",
      "source": [
        ""
      ],
      "execution_count": 0,
      "outputs": []
    }
  ]
}