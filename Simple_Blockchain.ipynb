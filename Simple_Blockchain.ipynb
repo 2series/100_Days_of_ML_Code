{
  "nbformat": 4,
  "nbformat_minor": 0,
  "metadata": {
    "colab": {
      "name": "Simple_Blockchain.ipynb",
      "version": "0.3.2",
      "provenance": [],
      "include_colab_link": true
    },
    "kernelspec": {
      "name": "python3",
      "display_name": "Python 3"
    },
    "accelerator": "TPU"
  },
  "cells": [
    {
      "cell_type": "markdown",
      "metadata": {
        "id": "view-in-github",
        "colab_type": "text"
      },
      "source": [
        "[View in Colaboratory](https://colab.research.google.com/github/2series/100_Days_of_ML_Code/blob/master/Simple_Blockchain.ipynb)"
      ]
    },
    {
      "metadata": {
        "id": "7bq0DVGwGlB7",
        "colab_type": "text"
      },
      "cell_type": "markdown",
      "source": [
        "Import dependencies"
      ]
    },
    {
      "metadata": {
        "id": "GZVRQmkpFBkY",
        "colab_type": "code",
        "colab": {}
      },
      "cell_type": "code",
      "source": [
        "\n",
        "#generates timestamps\n",
        "import datetime\n",
        "#contains hashing algorithms\n",
        "import hashlib"
      ],
      "execution_count": 0,
      "outputs": []
    },
    {
      "metadata": {
        "id": "ZAvChHC6GtwJ",
        "colab_type": "text"
      },
      "cell_type": "markdown",
      "source": [
        "Create a block"
      ]
    },
    {
      "metadata": {
        "id": "YFJ-2YJzFsI2",
        "colab_type": "code",
        "colab": {}
      },
      "cell_type": "code",
      "source": [
        "#defining the 'block' data structure\n",
        "class Block:\n",
        "    #each block has 7 attributes \n",
        "  \n",
        "    #1 number of the block\n",
        "    blockNo = 0\n",
        "    #2 what data is stored in this block?\n",
        "    data = None\n",
        "    #3 pointer to the next block\n",
        "    next = None\n",
        "    #4 The hash of this block (serves as a unique ID and verifies its integrity)\n",
        "    #A hash is a function that converts data into a number within a certain range. \n",
        "    hash = None\n",
        "    #5 A nonce is a number only used once  \n",
        "    nonce = 0\n",
        "    #6 store the hash (ID) of the previous block in the chain\n",
        "    previous_hash = 0x0\n",
        "    #7 timestamp \n",
        "    timestamp = datetime.datetime.now()\n",
        "\n",
        "    #We initialize a block by storing some data in it\n",
        "    def __init__(self, data):\n",
        "        self.data = data\n",
        "\n",
        "    #Function to compute 'hash' of a block\n",
        "    #a hash acts as both a unique identifier\n",
        "    #& verifies its integrity\n",
        "    #if someone changes the hash of a block\n",
        "    #every block that comes after it is changed \n",
        "    #this helps make a blockchain immutable\n",
        "    def hash(self):\n",
        "        #SHA-256 is a hashing algorithm that\n",
        "        # generates an almost-unique 256-bit signature that represents\n",
        "        # some piece of text\n",
        "        h = hashlib.sha256()\n",
        "        #the input to the SHA-256 algorithm\n",
        "        #will be a concatenated string\n",
        "        #consisting of 5 block attributes\n",
        "        #the nonce, data, previous hash, timestamp, & block #\n",
        "        h.update(\n",
        "        str(self.nonce).encode('utf-8') +\n",
        "        str(self.data).encode('utf-8') +\n",
        "        str(self.previous_hash).encode('utf-8') +\n",
        "        str(self.timestamp).encode('utf-8') +\n",
        "        str(self.blockNo).encode('utf-8')\n",
        "        )\n",
        "        #returns a hexademical string\n",
        "        return h.hexdigest()\n",
        "      \n",
        "        ## SHOW DEMO 2, change data \n",
        "\n",
        "    def __str__(self):\n",
        "        #print out the value of a block\n",
        "        return \"Block Hash: \" + str(self.hash()) + \"\\nBlockNo: \" + str(self.blockNo) + \"\\nBlock Data: \" + str(self.data) + \"\\nHashes: \" + str(self.nonce) + \"\\n--------------\""
      ],
      "execution_count": 0,
      "outputs": []
    },
    {
      "metadata": {
        "id": "9TMaMnikG9XY",
        "colab_type": "text"
      },
      "cell_type": "markdown",
      "source": [
        "Create a blockchain\n"
      ]
    },
    {
      "metadata": {
        "id": "bXnIDYg1F40z",
        "colab_type": "code",
        "colab": {}
      },
      "cell_type": "code",
      "source": [
        "#defining the blockchain datastructure\n",
        "#consists of 'blocks' linked together\n",
        "#to form a 'chain'. Thats why its called\n",
        "#'blockchain'\n",
        "class Blockchain:\n",
        "    \n",
        "    #mining difficulty\n",
        "    diff = 20\n",
        "    #2^32. This is the maximum number\n",
        "    #we can store in a 32-bit number\n",
        "    maxNonce = 2**32\n",
        "    #target hash, for mining\n",
        "    target = 2 ** (256-diff)\n",
        "\n",
        "    #generates the first block in the blockchain\n",
        "    #this is called the 'genesis block'\n",
        "    block = Block(\"Genesis\")\n",
        "    #sets it as the head of our blockchain\n",
        "    head = block\n",
        "\n",
        "    #adds a given block to the chain of blocks\n",
        "    #the block to be added is the only parameter\n",
        "    def add(self, block):\n",
        "        \n",
        "        #set the hash of a given block\n",
        "        #as our new block's previous hash\n",
        "        block.previous_hash = self.block.hash()\n",
        "        #set the block # of our new block\n",
        "        #as the given block's # + 1, since\n",
        "        #its next in the chain\n",
        "        block.blockNo = self.block.blockNo + 1\n",
        "\n",
        "        #set the next block equal to \n",
        "        #itself. This is the new head \n",
        "        #of the blockchain\n",
        "        self.block.next = block\n",
        "        self.block = self.block.next\n",
        "\n",
        "    #Determines whether or not we can add a given block to\n",
        "    #the blockchain\n",
        "    def mine(self, block):\n",
        "        #from 0 to 2^32 \n",
        "        for n in range(self.maxNonce):\n",
        "            #is the value of the given block's hash less than our target value?\n",
        "            if int(block.hash(), 16) <= self.target:\n",
        "                #if it is,\n",
        "                #add the block to the chain\n",
        "                self.add(block)\n",
        "                print(block)\n",
        "                break\n",
        "            else:\n",
        "                block.nonce += 1\n",
        "   \n",
        "    ## Show demo 3 ! Mine a block"
      ],
      "execution_count": 0,
      "outputs": []
    },
    {
      "metadata": {
        "id": "DpvWAIVtHFf5",
        "colab_type": "text"
      },
      "cell_type": "markdown",
      "source": [
        "Print the blockchain\n"
      ]
    },
    {
      "metadata": {
        "id": "xkT9eaGVGD6k",
        "colab_type": "code",
        "colab": {
          "base_uri": "https://localhost:8080/",
          "height": 1802
        },
        "outputId": "93871b41-442d-41b3-91f1-daa4fd1c3a3c"
      },
      "cell_type": "code",
      "source": [
        "#initialize blockchain\n",
        "blockchain = Blockchain()\n",
        "\n",
        "#mine 10 blocks\n",
        "for n in range(10):\n",
        "    blockchain.mine(Block(\"Block \" + str(n+1)))\n",
        "    \n",
        "#print out each block in the blockchain\n",
        "while blockchain.head != None:\n",
        "    print(blockchain.head)\n",
        "    blockchain.head = blockchain.head.next"
      ],
      "execution_count": 5,
      "outputs": [
        {
          "output_type": "stream",
          "text": [
            "Block Hash: 9b2c0d7268018b293ccd59c7a26823a646ac1560b0593bd9d73b2792b8d522dd\n",
            "BlockNo: 1\n",
            "Block Data: Block 1\n",
            "Hashes: 3238892\n",
            "--------------\n",
            "Block Hash: 0940ec9132346d687fb8227c610c6e74c5fc6691c9fad86b56d496cc32af6918\n",
            "BlockNo: 2\n",
            "Block Data: Block 2\n",
            "Hashes: 304268\n",
            "--------------\n",
            "Block Hash: c516628ed87339a9fe3c4af0a310236900fb1b2ebfc2a6b872351b55ed358d29\n",
            "BlockNo: 3\n",
            "Block Data: Block 3\n",
            "Hashes: 605185\n",
            "--------------\n",
            "Block Hash: b6a2d7e75696abed6673bfb5c2d91b9cbe7beddce899586413b28b5d5b41f977\n",
            "BlockNo: 4\n",
            "Block Data: Block 4\n",
            "Hashes: 1726612\n",
            "--------------\n",
            "Block Hash: e9b87c6b4a98c4e6e1ffa764b21bc8f9478347088918216c02b33d8a579edacf\n",
            "BlockNo: 5\n",
            "Block Data: Block 5\n",
            "Hashes: 2319379\n",
            "--------------\n",
            "Block Hash: 8334899e4ddbc8169c8a563a1ffc68656c3cb55e041d303442849cadf8f97e4a\n",
            "BlockNo: 6\n",
            "Block Data: Block 6\n",
            "Hashes: 347515\n",
            "--------------\n",
            "Block Hash: 93847b51294f1f7d76c07424110ad7c2d743696c2a4bcdd59c35cf6b827442ff\n",
            "BlockNo: 7\n",
            "Block Data: Block 7\n",
            "Hashes: 1422113\n",
            "--------------\n",
            "Block Hash: 8081ff48b9d0e2b50cc742923bb51ef89da9be1b876804d47f3b4470d860506e\n",
            "BlockNo: 8\n",
            "Block Data: Block 8\n",
            "Hashes: 1373672\n",
            "--------------\n",
            "Block Hash: 1012421919cf0bf37ade9c028764a83e7995d26b71b0d70c38b961c53c363563\n",
            "BlockNo: 9\n",
            "Block Data: Block 9\n",
            "Hashes: 228284\n",
            "--------------\n",
            "Block Hash: aae7ea019b5d4fa59ee284f8e5e4c749351c5199d7cfb835654bf2c844cca4a4\n",
            "BlockNo: 10\n",
            "Block Data: Block 10\n",
            "Hashes: 319528\n",
            "--------------\n",
            "Block Hash: f117cc4cba11b015318e51fc5b18933a15d72e51c7ccbdc6e4d56a2a55214ff2\n",
            "BlockNo: 0\n",
            "Block Data: Genesis\n",
            "Hashes: 0\n",
            "--------------\n",
            "Block Hash: 9b2c0d7268018b293ccd59c7a26823a646ac1560b0593bd9d73b2792b8d522dd\n",
            "BlockNo: 1\n",
            "Block Data: Block 1\n",
            "Hashes: 3238892\n",
            "--------------\n",
            "Block Hash: 0940ec9132346d687fb8227c610c6e74c5fc6691c9fad86b56d496cc32af6918\n",
            "BlockNo: 2\n",
            "Block Data: Block 2\n",
            "Hashes: 304268\n",
            "--------------\n",
            "Block Hash: c516628ed87339a9fe3c4af0a310236900fb1b2ebfc2a6b872351b55ed358d29\n",
            "BlockNo: 3\n",
            "Block Data: Block 3\n",
            "Hashes: 605185\n",
            "--------------\n",
            "Block Hash: b6a2d7e75696abed6673bfb5c2d91b9cbe7beddce899586413b28b5d5b41f977\n",
            "BlockNo: 4\n",
            "Block Data: Block 4\n",
            "Hashes: 1726612\n",
            "--------------\n",
            "Block Hash: e9b87c6b4a98c4e6e1ffa764b21bc8f9478347088918216c02b33d8a579edacf\n",
            "BlockNo: 5\n",
            "Block Data: Block 5\n",
            "Hashes: 2319379\n",
            "--------------\n",
            "Block Hash: 8334899e4ddbc8169c8a563a1ffc68656c3cb55e041d303442849cadf8f97e4a\n",
            "BlockNo: 6\n",
            "Block Data: Block 6\n",
            "Hashes: 347515\n",
            "--------------\n",
            "Block Hash: 93847b51294f1f7d76c07424110ad7c2d743696c2a4bcdd59c35cf6b827442ff\n",
            "BlockNo: 7\n",
            "Block Data: Block 7\n",
            "Hashes: 1422113\n",
            "--------------\n",
            "Block Hash: 8081ff48b9d0e2b50cc742923bb51ef89da9be1b876804d47f3b4470d860506e\n",
            "BlockNo: 8\n",
            "Block Data: Block 8\n",
            "Hashes: 1373672\n",
            "--------------\n",
            "Block Hash: 1012421919cf0bf37ade9c028764a83e7995d26b71b0d70c38b961c53c363563\n",
            "BlockNo: 9\n",
            "Block Data: Block 9\n",
            "Hashes: 228284\n",
            "--------------\n",
            "Block Hash: aae7ea019b5d4fa59ee284f8e5e4c749351c5199d7cfb835654bf2c844cca4a4\n",
            "BlockNo: 10\n",
            "Block Data: Block 10\n",
            "Hashes: 319528\n",
            "--------------\n"
          ],
          "name": "stdout"
        }
      ]
    }
  ]
}