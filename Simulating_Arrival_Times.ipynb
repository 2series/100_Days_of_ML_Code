{
  "nbformat": 4,
  "nbformat_minor": 0,
  "metadata": {
    "colab": {
      "name": "Simulating_Arrival_Times.ipynb",
      "provenance": [],
      "collapsed_sections": [],
      "include_colab_link": true
    },
    "kernelspec": {
      "name": "python3",
      "display_name": "Python 3"
    },
    "accelerator": "GPU"
  },
  "cells": [
    {
      "cell_type": "markdown",
      "metadata": {
        "id": "view-in-github",
        "colab_type": "text"
      },
      "source": [
        "<a href=\"https://colab.research.google.com/github/2series/100_Days_of_ML_Code/blob/master/Simulating_Arrival_Times.ipynb\" target=\"_parent\"><img src=\"https://colab.research.google.com/assets/colab-badge.svg\" alt=\"Open In Colab\"/></a>"
      ]
    },
    {
      "cell_type": "markdown",
      "metadata": {
        "id": "Y1Uy1o5VtMI8",
        "colab_type": "text"
      },
      "source": [
        "If you, like me, frequently commute via public transit, you may be familiar with the following situation:\n",
        "\n",
        "> You arrive at the bus stop, ready to catch your bus: a line that advertises arrivals every 10 minutes. You glance at your watch and note the time... and when the bus finally comes 11 minutes later, you wonder why you always seem to be so unlucky.\n",
        "\n",
        "Naïvely, you might expect that if buses are coming every 10 minutes and you arrive at a random time, your average wait would be something like 5 minutes. In reality, though, buses do not arrive exactly on schedule, and so you might wait longer. It turns out that under some reasonable assumptions, you can reach a startling conclusion:\n",
        "\n",
        "**When waiting for a bus that comes on average every 10 minutes, your average waiting time will be 10 minutes.**\n",
        "\n",
        "*This is what is sometimes known as the waiting time paradox.*\n",
        "\n",
        "I've encountered this idea before, and always wondered whether it is actually true... how well do those \"reasonable assumptions\" match reality? This post will explore the waiting time paradox from the standpoint of both **simulation and probabilistic arguments,** and then take a look at some real bus arrival time dataset from the city of Seattle to (hopefully) settle the paradox once and for all.\n",
        "\n",
        "## The Inspection Paradox\n",
        "If buses arrive exactly every ten minutes, it's true that your average wait time will be half that interval: 5 minutes. Qualitatively speaking, it's easy to convince yourself that adding some variation to those arrivals will make the average wait time somewhat longer, as we'll see here.\n",
        "\n",
        "The waiting time paradox turns out to be a particular instance of a more general phenomenon, the inspection paradox, which is discussed at length in this enlightening post by Allen Downey: The Inspection Paradox Is Everywhere.\n",
        "\n",
        "**Briefly, the inspection paradox arises whenever the probability of observing a quantity is related to the quantity being observed.** Allen gives one example of surveying university students about the average size of their classes. Though the school may truthfully advertise an average of 30 students per class, the average class size as experienced by students can be (and generally will be) much larger. The reason is that there are (of course) more students in the larger classes, and so you oversample large classes when computing the average experience of students.\n",
        "\n",
        "In the case of a nominally 10-minute bus line, sometimes the span between arrivals will be longer than 10 minutes, and sometimes shorter and if you arrive at a random time, you have more opportunities to encounter a longer interval than to encounter a shorter interval. And so it makes sense that the average span of time experienced by riders will be longer than the average span of time between buses, because the longer spans are over-sampled.\n",
        "\n",
        "But the waiting time paradox makes a stronger claim than this: when the average span between arrivals is N minutes, the average span experienced by riders is 2N minutes. Could this possibly be true?\n",
        "\n",
        "## Simulating Wait Times\n",
        "To convince ourselves that the waiting time paradox is making a reasonable claim, let's start by simulating a stream of buses that arrive at an average of 10 minutes. For the sake of numerical accuracy, we will simulate a large number of bus arrivals: one million buses (or approximately 19 years of round-the-clock 10-minute headways):"
      ]
    },
    {
      "cell_type": "code",
      "metadata": {
        "id": "vHH7PE2NQMRV",
        "colab_type": "code",
        "colab": {}
      },
      "source": [
        "# loading libraries\n",
        "import numpy as np\n",
        "import pandas as pd\n",
        "%matplotlib inline\n",
        "import matplotlib.pyplot as plt\n",
        "import seaborn as sns\n",
        "from scipy.stats import poisson"
      ],
      "execution_count": 0,
      "outputs": []
    },
    {
      "cell_type": "code",
      "metadata": {
        "id": "1mLmG5UdpO2G",
        "colab_type": "code",
        "colab": {}
      },
      "source": [
        "# number of buses\n",
        "N = 1_000_000\n",
        "# average minutes btw arrivals \n",
        "tau = 10\n",
        "\n",
        "# universal random seed\n",
        "rand = np.random.RandomState(42)\n",
        "bus_arrival_times = N * tau * np.sort(rand.rand(N))"
      ],
      "execution_count": 0,
      "outputs": []
    },
    {
      "cell_type": "markdown",
      "metadata": {
        "id": "eDAhe22-tYuJ",
        "colab_type": "text"
      },
      "source": [
        "Just to confirm we've done things correctly, let's check that the mean interval is close to τ=10:"
      ]
    },
    {
      "cell_type": "code",
      "metadata": {
        "id": "m8Lmb2WDpVY0",
        "colab_type": "code",
        "outputId": "4f22be47-535b-4304-f676-f0ec6f86b919",
        "colab": {
          "base_uri": "https://localhost:8080/",
          "height": 34
        }
      },
      "source": [
        "intervals = np.diff(bus_arrival_times)\n",
        "intervals.mean()"
      ],
      "execution_count": 0,
      "outputs": [
        {
          "output_type": "execute_result",
          "data": {
            "text/plain": [
              "9.99998796015184"
            ]
          },
          "metadata": {
            "tags": []
          },
          "execution_count": 26
        }
      ]
    },
    {
      "cell_type": "markdown",
      "metadata": {
        "id": "hbtcdsFgPc-g",
        "colab_type": "text"
      },
      "source": [
        "With these bus arrivals simulated, we can now simulate the arrival of a large number of passengers to the bus stop during this span, and compute the wait time that each of them experiences. Let's encapsulate this in a function for later use:"
      ]
    },
    {
      "cell_type": "code",
      "metadata": {
        "id": "HJA1-veTpW7D",
        "colab_type": "code",
        "colab": {}
      },
      "source": [
        "def simulate_wait_times(arrival_times,\n",
        "                        rseed=8675309,\n",
        "                        n_passengers=1_000_000):\n",
        "  rand = np.random.RandomState(rseed)\n",
        "\n",
        "  arrival_times = np.asarray(arrival_times)\n",
        "  passenger_times = arrival_times.max() * rand.rand(n_passengers)\n",
        "\n",
        "\n",
        "  i = np.searchsorted(arrival_times, passenger_times, side='right')\n",
        "\n",
        "  return arrival_times[i] - passenger_times"
      ],
      "execution_count": 0,
      "outputs": []
    },
    {
      "cell_type": "markdown",
      "metadata": {
        "id": "uedHf0_oPg5-",
        "colab_type": "text"
      },
      "source": [
        "We can then simulate some wait times and compute the average:"
      ]
    },
    {
      "cell_type": "code",
      "metadata": {
        "id": "6pwTjNlkpVKn",
        "colab_type": "code",
        "outputId": "28ecb657-93fb-44a4-9a55-1efd86687b80",
        "colab": {
          "base_uri": "https://localhost:8080/",
          "height": 34
        }
      },
      "source": [
        "wait_times = simulate_wait_times(bus_arrival_times)\n",
        "wait_times.mean()"
      ],
      "execution_count": 0,
      "outputs": [
        {
          "output_type": "execute_result",
          "data": {
            "text/plain": [
              "10.001584206227317"
            ]
          },
          "metadata": {
            "tags": []
          },
          "execution_count": 28
        }
      ]
    },
    {
      "cell_type": "markdown",
      "metadata": {
        "id": "JprFqi9rPlc_",
        "colab_type": "text"
      },
      "source": [
        "The average wait time is also close to 10 minutes, just as the waiting time paradox predicted."
      ]
    },
    {
      "cell_type": "markdown",
      "metadata": {
        "id": "gMk_N5KOdiQf",
        "colab_type": "text"
      },
      "source": [
        "# Digging Deeper: Probabilities & Poisson Processes\n",
        "How can we understand what's going on here?\n",
        "\n",
        "Fundamentally, this is an instance of the inspection paradox, in which the probability of observing a value is related to the value itself. Let's denote by p(T) the distribution of intervals T between buses as they arrive at a bus stop. In this notation, the expectation value of the arrival times is\n",
        "$$E[T]=∫∞0T p(T) dT$$\n",
        "In the above simulation, we had chosen E[T]=τ=10 minutes.\n",
        "\n",
        "When a commuter arrives at a bus stop at a random time, the probability of the time interval they experience will be affected by p(T), but also by T itself: the longer the interval, the larger the probability is that a passenger will experience.\n",
        "\n",
        "So we can write the distribution of arrival times experienced by passengers as:\n",
        "$$pexp(T)∝T p(T)$$\n",
        "The constant of proportionality comes from normalizing the distribution:\n",
        "$$pexp(T)=T p(T)∫∞0T p(T) dT$$\n",
        "Comparing the above we see this simplifies to\n",
        "$$pexp(T)=T p(T)E[T]$$\n",
        "The expected wait time E[W] will then be half of the expected interval experienced by passengers, so we can write:\n",
        "$$E[W]=12Eexp[T]=12∫∞0T pexp(T) dT$$\n",
        "which can be rewritten in a more suggestive way:\n",
        "$$E[W]=E[T2]2E[T]$$\n",
        "and now all that remains is for us to choose a form for p(T) and compute the integrals.\n",
        "\n",
        "## Choosing p(T)\n",
        "With this formalism worked out, what is a reasonable distribution to use for p(T)? We can get a picture of the p(T) distribution within our simulated arrivals by plotting a histogram of the intervals between arrivals:"
      ]
    },
    {
      "cell_type": "code",
      "metadata": {
        "id": "7WalhP1bpVGh",
        "colab_type": "code",
        "outputId": "1b24a184-8fb7-4f30-d421-41aade9b6787",
        "colab": {
          "base_uri": "https://localhost:8080/",
          "height": 381
        }
      },
      "source": [
        "plt.style.use('seaborn')\n",
        "plt.hist(intervals, bins=np.arange(80), density=True)\n",
        "plt.axvline(intervals.mean(), color='black', linestyle='dotted')\n",
        "plt.xlabel('Interval between arrivals (minutes)')\n",
        "plt.ylabel('Probability density')"
      ],
      "execution_count": 0,
      "outputs": [
        {
          "output_type": "execute_result",
          "data": {
            "text/plain": [
              "Text(0, 0.5, 'Probability density')"
            ]
          },
          "metadata": {
            "tags": []
          },
          "execution_count": 29
        },
        {
          "output_type": "display_data",
          "data": {
            "image/png": "[encoded data removed]",
            "text/plain": [
              "<Figure size 576x396 with 1 Axes>"
            ]
          },
          "metadata": {
            "tags": []
          }
        }
      ]
    },
    {
      "cell_type": "markdown",
      "metadata": {
        "id": "mbodbYZCbliF",
        "colab_type": "text"
      },
      "source": [
        "The vertical dotted line here shows the mean interval of about 10 minutes. This looks very much like an exponential distribution, and that is no accident: our simulation of bus arrival times as uniform random numbers very closely approximates a Poisson process, and for such a process it can be shown that the distribution of intervals between arrivals is exponential.\n",
        "\n",
        "(Side note: In our case this is only approximately exponential; in reality the intervals T between N uniformly sampled points within a timespan Nτ follow the Beta distribution: T/(Nτ)∼Beta[1,N], which in the large N limit approaches T∼Exp[1/τ]. See, e.g. this StackExchange post, or this twitter thread for more details).\n",
        "\n",
        "An exponential distribution of intervals implies that the arrival times follow a Poisson process. To double-check this reasoning, we can confirm that it matches another property of a Poisson process: the number of arrivals within a fixed span of time will be Poisson-distributed. Let's check this by binning our simulated arrivals into hourly blocks:"
      ]
    },
    {
      "cell_type": "code",
      "metadata": {
        "id": "VxDT-LMBpVBA",
        "colab_type": "code",
        "outputId": "4aaa807b-7f1e-405d-c2b9-320ab1d2e4d8",
        "colab": {
          "base_uri": "https://localhost:8080/",
          "height": 378
        }
      },
      "source": [
        "# count n of arrivals in 1-hour bins\n",
        "binsize = 60\n",
        "binned_arrivals = np.bincount((bus_arrival_times // binsize).astype(int))\n",
        "x = np.arange(20)\n",
        "\n",
        "# plot results\n",
        "plt.hist(binned_arrivals, bins=x - 0.5, density=True, alpha=0.5, label='simulation')\n",
        "plt.plot(x, poisson(binsize / tau).pmf(x), 'ok', label='Poisson prediction')\n",
        "plt.xlabel('Number of arrivals per hour')\n",
        "plt.ylabel('Frequency')\n",
        "plt.legend()"
      ],
      "execution_count": 0,
      "outputs": [
        {
          "output_type": "execute_result",
          "data": {
            "text/plain": [
              "<matplotlib.legend.Legend at 0x7eff78e58da0>"
            ]
          },
          "metadata": {
            "tags": []
          },
          "execution_count": 30
        },
        {
          "output_type": "display_data",
          "data": {
            "image/png": "[encoded data removed]",
            "text/plain": [
              "<Figure size 576x396 with 1 Axes>"
            ]
          },
          "metadata": {
            "tags": []
          }
        }
      ]
    },
    {
      "cell_type": "markdown",
      "metadata": {
        "id": "DGup-7_Jb4gs",
        "colab_type": "text"
      },
      "source": [
        "The close match between the empirical and theoretical values gives confidence that our interpretation is correct: for large N, the arrival times we simulated above are well-described by a Poisson process, which implies exponentially-distributed arrival intervals.\n",
        "\n",
        "That means we can write the probability distribution:\n",
        "$$p(T)=1τe−T/τ$$\n",
        "Plugging this into the above results, we find that the average waiting time experienced by a person is\n",
        "$$E[W]=∫∞0T2 e−T/τ2∫∞0T e−T/τ=2τ32(τ2)=τ$$\n",
        "For bus arrivals consistent with a Poisson process, the expected wait time for a passenger is identical to the average interval between arrivals.\n",
        "\n",
        "A complementary way to reason about this is this: a Poisson process is a memoryless process, meaning that the history of events has no bearing on the expected time to the next event. So when you arrive at the bus stop, the average waiting time until the next bus is always the same: in our case, it is 10 minutes, and this is regardless of how long it has been since the previous bus! Along the same lines, it does not matter how long you have been waiting already: the expected time to the next arrival is always exactly 10 minutes: for a Poisson process, you get no \"credit\" for time spent waiting.\n",
        "\n"
      ]
    },
    {
      "cell_type": "code",
      "metadata": {
        "id": "AiFbLT1spUzB",
        "colab_type": "code",
        "colab": {}
      },
      "source": [
        "URL = 'https://gist.githubusercontent.com/jakevdp/82409002fcc5142a2add0168c274a869/raw/1bbabf78333306dbc45b9f33662500957b2b6dc3/arrival_times.csv'"
      ],
      "execution_count": 0,
      "outputs": []
    },
    {
      "cell_type": "code",
      "metadata": {
        "id": "hn0Pu1RGpUnx",
        "colab_type": "code",
        "outputId": "49537608-8e7f-48a5-c7aa-eda73a77af3a",
        "colab": {
          "base_uri": "https://localhost:8080/",
          "height": 34
        }
      },
      "source": [
        "from urllib.request import urlretrieve\n",
        "urlretrieve(URL, 'arrival_times.csv')"
      ],
      "execution_count": 0,
      "outputs": [
        {
          "output_type": "execute_result",
          "data": {
            "text/plain": [
              "('arrival_times.csv', <http.client.HTTPMessage at 0x7eff79027cc0>)"
            ]
          },
          "metadata": {
            "tags": []
          },
          "execution_count": 32
        }
      ]
    },
    {
      "cell_type": "markdown",
      "metadata": {
        "id": "MypHgmlDcjos",
        "colab_type": "text"
      },
      "source": [
        "To determine whether the waiting time paradox describes reality, we can dig into some data, available for download here: [arrival_times.csv](https://gist.githubusercontent.com/jakevdp/82409002fcc5142a2add0168c274a869/raw/1bbabf78333306dbc45b9f33662500957b2b6dc3/arrival_times.csv) (3MB CSV file). The dataset contains scheduled and actual arrival times for Seattle's Rapid Ride lines C, D, and E at the 3rd & Pike bus stop in downtown Seattle, recorded during the second quarter of 2016 (huge thanks to Mark Hallenbeck of the Washington State Transportation Center for providing this data!)."
      ]
    },
    {
      "cell_type": "code",
      "metadata": {
        "id": "u8G_6z88pUhD",
        "colab_type": "code",
        "outputId": "4cbf91e0-3afd-47e1-d148-50db2300b7e7",
        "colab": {
          "base_uri": "https://localhost:8080/",
          "height": 394
        }
      },
      "source": [
        "df = pd.read_csv('arrival_times.csv')\n",
        "df = df.dropna(axis=0, how='any')\n",
        "df.head()"
      ],
      "execution_count": 0,
      "outputs": [
        {
          "output_type": "execute_result",
          "data": {
            "text/html": [
              "<div>\n",
              "<style scoped>\n",
              "    .dataframe tbody tr th:only-of-type {\n",
              "        vertical-align: middle;\n",
              "    }\n",
              "\n",
              "    .dataframe tbody tr th {\n",
              "        vertical-align: top;\n",
              "    }\n",
              "\n",
              "    .dataframe thead th {\n",
              "        text-align: right;\n",
              "    }\n",
              "</style>\n",
              "<table border=\"1\" class=\"dataframe\">\n",
              "  <thead>\n",
              "    <tr style=\"text-align: right;\">\n",
              "      <th></th>\n",
              "      <th>OPD_DATE</th>\n",
              "      <th>VEHICLE_ID</th>\n",
              "      <th>RTE</th>\n",
              "      <th>DIR</th>\n",
              "      <th>TRIP_ID</th>\n",
              "      <th>STOP_ID</th>\n",
              "      <th>STOP_NAME</th>\n",
              "      <th>SCH_STOP_TM</th>\n",
              "      <th>ACT_STOP_TM</th>\n",
              "    </tr>\n",
              "  </thead>\n",
              "  <tbody>\n",
              "    <tr>\n",
              "      <th>0</th>\n",
              "      <td>2016-03-26</td>\n",
              "      <td>6201</td>\n",
              "      <td>673</td>\n",
              "      <td>S</td>\n",
              "      <td>30908177</td>\n",
              "      <td>431</td>\n",
              "      <td>3RD AVE &amp; PIKE ST (431)</td>\n",
              "      <td>01:11:57</td>\n",
              "      <td>01:13:19</td>\n",
              "    </tr>\n",
              "    <tr>\n",
              "      <th>1</th>\n",
              "      <td>2016-03-26</td>\n",
              "      <td>6201</td>\n",
              "      <td>673</td>\n",
              "      <td>S</td>\n",
              "      <td>30908033</td>\n",
              "      <td>431</td>\n",
              "      <td>3RD AVE &amp; PIKE ST (431)</td>\n",
              "      <td>23:19:57</td>\n",
              "      <td>23:16:13</td>\n",
              "    </tr>\n",
              "    <tr>\n",
              "      <th>2</th>\n",
              "      <td>2016-03-26</td>\n",
              "      <td>6201</td>\n",
              "      <td>673</td>\n",
              "      <td>S</td>\n",
              "      <td>30908028</td>\n",
              "      <td>431</td>\n",
              "      <td>3RD AVE &amp; PIKE ST (431)</td>\n",
              "      <td>21:19:57</td>\n",
              "      <td>21:18:46</td>\n",
              "    </tr>\n",
              "    <tr>\n",
              "      <th>3</th>\n",
              "      <td>2016-03-26</td>\n",
              "      <td>6201</td>\n",
              "      <td>673</td>\n",
              "      <td>S</td>\n",
              "      <td>30908019</td>\n",
              "      <td>431</td>\n",
              "      <td>3RD AVE &amp; PIKE ST (431)</td>\n",
              "      <td>19:04:57</td>\n",
              "      <td>19:01:49</td>\n",
              "    </tr>\n",
              "    <tr>\n",
              "      <th>4</th>\n",
              "      <td>2016-03-26</td>\n",
              "      <td>6201</td>\n",
              "      <td>673</td>\n",
              "      <td>S</td>\n",
              "      <td>30908252</td>\n",
              "      <td>431</td>\n",
              "      <td>3RD AVE &amp; PIKE ST (431)</td>\n",
              "      <td>16:42:57</td>\n",
              "      <td>16:42:39</td>\n",
              "    </tr>\n",
              "  </tbody>\n",
              "</table>\n",
              "</div>"
            ],
            "text/plain": [
              "     OPD_DATE  VEHICLE_ID  RTE  ...                STOP_NAME  SCH_STOP_TM  ACT_STOP_TM\n",
              "0  2016-03-26        6201  673  ...  3RD AVE & PIKE ST (431)     01:11:57     01:13:19\n",
              "1  2016-03-26        6201  673  ...  3RD AVE & PIKE ST (431)     23:19:57     23:16:13\n",
              "2  2016-03-26        6201  673  ...  3RD AVE & PIKE ST (431)     21:19:57     21:18:46\n",
              "3  2016-03-26        6201  673  ...  3RD AVE & PIKE ST (431)     19:04:57     19:01:49\n",
              "4  2016-03-26        6201  673  ...  3RD AVE & PIKE ST (431)     16:42:57     16:42:39\n",
              "\n",
              "[5 rows x 9 columns]"
            ]
          },
          "metadata": {
            "tags": []
          },
          "execution_count": 33
        }
      ]
    },
    {
      "cell_type": "markdown",
      "metadata": {
        "id": "qs9ZernadFWZ",
        "colab_type": "text"
      },
      "source": [
        "The reason I sought data from Rapid Ride routes in particular is that for much of the day, the buses are scheduled at regular intervals of between 10 and 15 minutes — not to mention the fact that I'm a frequent passenger on the C-line."
      ]
    },
    {
      "cell_type": "code",
      "metadata": {
        "id": "9ziK6GlOXdE1",
        "colab_type": "code",
        "outputId": "6a3bc512-50bf-4287-831c-3cdcfe09cbcf",
        "colab": {
          "base_uri": "https://localhost:8080/",
          "height": 34
        }
      },
      "source": [
        "df.shape"
      ],
      "execution_count": 0,
      "outputs": [
        {
          "output_type": "execute_result",
          "data": {
            "text/plain": [
              "(38917, 9)"
            ]
          },
          "metadata": {
            "tags": []
          },
          "execution_count": 34
        }
      ]
    },
    {
      "cell_type": "markdown",
      "metadata": {
        "id": "dSrRbCgJdJai",
        "colab_type": "text"
      },
      "source": [
        "## Data Cleanup\n",
        "To start with, let's do a little bit of data cleanup to get it into a form that's easier to work with:"
      ]
    },
    {
      "cell_type": "code",
      "metadata": {
        "id": "IcQl42kIpUNK",
        "colab_type": "code",
        "outputId": "975f4930-d2a1-48d0-cb71-105bb1dcce13",
        "colab": {
          "base_uri": "https://localhost:8080/",
          "height": 204
        }
      },
      "source": [
        "# combine date and time into a single timestamp\n",
        "df['scheduled'] = pd.to_datetime(df['OPD_DATE'] + ' ' + df['SCH_STOP_TM'])\n",
        "df['actual'] = pd.to_datetime(df['OPD_DATE'] + ' ' + df['ACT_STOP_TM'])\n",
        "\n",
        "# if scheduled & actual span midnight, then the actual day needs to be adjusted\n",
        "minute = np.timedelta64(1, 'm')\n",
        "hour = 60 * minute\n",
        "diff_hrs = (df['actual'] - df['scheduled']) / hour\n",
        "df.loc[diff_hrs > 20, 'actual'] -= 24 * hour\n",
        "df.loc[diff_hrs < -20, 'actual'] += 24 * hour\n",
        "df['minutes_late'] = (df['actual'] - df['scheduled']) / minute\n",
        "\n",
        "# map internal route codes to external route letters\n",
        "df['route'] = df['RTE'].replace({673: 'C', 674: 'D', 675: 'E'}).astype('category')\n",
        "df['direction'] = df['DIR'].replace({'N': 'northbound', 'S': 'southbound'}).astype('category')\n",
        "\n",
        "# extract useful columns\n",
        "df = df[['route', 'direction', 'scheduled', 'actual', 'minutes_late']].copy()\n",
        "\n",
        "df.head()"
      ],
      "execution_count": 0,
      "outputs": [
        {
          "output_type": "execute_result",
          "data": {
            "text/html": [
              "<div>\n",
              "<style scoped>\n",
              "    .dataframe tbody tr th:only-of-type {\n",
              "        vertical-align: middle;\n",
              "    }\n",
              "\n",
              "    .dataframe tbody tr th {\n",
              "        vertical-align: top;\n",
              "    }\n",
              "\n",
              "    .dataframe thead th {\n",
              "        text-align: right;\n",
              "    }\n",
              "</style>\n",
              "<table border=\"1\" class=\"dataframe\">\n",
              "  <thead>\n",
              "    <tr style=\"text-align: right;\">\n",
              "      <th></th>\n",
              "      <th>route</th>\n",
              "      <th>direction</th>\n",
              "      <th>scheduled</th>\n",
              "      <th>actual</th>\n",
              "      <th>minutes_late</th>\n",
              "    </tr>\n",
              "  </thead>\n",
              "  <tbody>\n",
              "    <tr>\n",
              "      <th>0</th>\n",
              "      <td>C</td>\n",
              "      <td>southbound</td>\n",
              "      <td>2016-03-26 01:11:57</td>\n",
              "      <td>2016-03-26 01:13:19</td>\n",
              "      <td>1.366667</td>\n",
              "    </tr>\n",
              "    <tr>\n",
              "      <th>1</th>\n",
              "      <td>C</td>\n",
              "      <td>southbound</td>\n",
              "      <td>2016-03-26 23:19:57</td>\n",
              "      <td>2016-03-26 23:16:13</td>\n",
              "      <td>-3.733333</td>\n",
              "    </tr>\n",
              "    <tr>\n",
              "      <th>2</th>\n",
              "      <td>C</td>\n",
              "      <td>southbound</td>\n",
              "      <td>2016-03-26 21:19:57</td>\n",
              "      <td>2016-03-26 21:18:46</td>\n",
              "      <td>-1.183333</td>\n",
              "    </tr>\n",
              "    <tr>\n",
              "      <th>3</th>\n",
              "      <td>C</td>\n",
              "      <td>southbound</td>\n",
              "      <td>2016-03-26 19:04:57</td>\n",
              "      <td>2016-03-26 19:01:49</td>\n",
              "      <td>-3.133333</td>\n",
              "    </tr>\n",
              "    <tr>\n",
              "      <th>4</th>\n",
              "      <td>C</td>\n",
              "      <td>southbound</td>\n",
              "      <td>2016-03-26 16:42:57</td>\n",
              "      <td>2016-03-26 16:42:39</td>\n",
              "      <td>-0.300000</td>\n",
              "    </tr>\n",
              "  </tbody>\n",
              "</table>\n",
              "</div>"
            ],
            "text/plain": [
              "  route   direction           scheduled              actual  minutes_late\n",
              "0     C  southbound 2016-03-26 01:11:57 2016-03-26 01:13:19      1.366667\n",
              "1     C  southbound 2016-03-26 23:19:57 2016-03-26 23:16:13     -3.733333\n",
              "2     C  southbound 2016-03-26 21:19:57 2016-03-26 21:18:46     -1.183333\n",
              "3     C  southbound 2016-03-26 19:04:57 2016-03-26 19:01:49     -3.133333\n",
              "4     C  southbound 2016-03-26 16:42:57 2016-03-26 16:42:39     -0.300000"
            ]
          },
          "metadata": {
            "tags": []
          },
          "execution_count": 35
        }
      ]
    },
    {
      "cell_type": "markdown",
      "metadata": {
        "id": "aoubi9aDCb0R",
        "colab_type": "text"
      },
      "source": [
        "## How Late Are Buses?\n",
        "There are essentially six different datasets within this table: the northbound and southbound directions for each of the C, D, and E lines. To get a feeling for their characteristics, let's plot a histogram of the actual minus scheduled arrival times for each of these six:"
      ]
    },
    {
      "cell_type": "code",
      "metadata": {
        "id": "GL3SaSIoaORw",
        "colab_type": "code",
        "outputId": "c8d453a0-372f-4080-e284-591f29d6abfe",
        "colab": {
          "base_uri": "https://localhost:8080/",
          "height": 478
        }
      },
      "source": [
        "g = sns.FacetGrid(df, row='direction', col='route')\n",
        "g.map(plt.hist, 'minutes_late', bins=np.arange(-10, 20))\n",
        "g.set_titles('{col_name} {row_name}')\n",
        "g.set_axis_labels('minutes late', 'number of buses')"
      ],
      "execution_count": 0,
      "outputs": [
        {
          "output_type": "execute_result",
          "data": {
            "text/plain": [
              "<seaborn.axisgrid.FacetGrid at 0x7eff767c1470>"
            ]
          },
          "metadata": {
            "tags": []
          },
          "execution_count": 36
        },
        {
          "output_type": "display_data",
          "data": {
            "image/png": "[encoded data removed]",
            "text/plain": [
              "<Figure size 648x432 with 6 Axes>"
            ]
          },
          "metadata": {
            "tags": []
          }
        }
      ]
    },
    {
      "cell_type": "markdown",
      "metadata": {
        "id": "ArmtZFeVCiEO",
        "colab_type": "text"
      },
      "source": [
        "You might expect that the buses stick closer to their schedule near the beginning of each one-way trip and show more spread near the end, and this is borne out in the data: the southbound C-line and northbound D and E lines are near the beginning of their respective routes, and in the opposite direction they are near the end."
      ]
    },
    {
      "cell_type": "code",
      "metadata": {
        "id": "x8jSGmWSBfTF",
        "colab_type": "code",
        "colab": {}
      },
      "source": [
        "def compute_headway(scheduled):\n",
        "  minute = np.timedelta64(1, 'm')\n",
        "  return scheduled.sort_values().diff() / minute\n",
        "\n",
        "grouped = df.groupby(['route', 'direction'])\n",
        "df['actual_interval'] = grouped['actual'].transform(compute_headway)\n",
        "df['scheduled_interval'] = grouped['scheduled'].transform(compute_headway)"
      ],
      "execution_count": 0,
      "outputs": []
    },
    {
      "cell_type": "code",
      "metadata": {
        "id": "uPlFP7_zBfAG",
        "colab_type": "code",
        "outputId": "ff4dbccd-3225-4978-af74-379fd2c8d65d",
        "colab": {
          "base_uri": "https://localhost:8080/",
          "height": 478
        }
      },
      "source": [
        "g = sns.FacetGrid(df.dropna(), row='direction', col='route')\n",
        "g.map(plt.hist, 'actual_interval', bins=np.arange(50) + 0.5)\n",
        "g.set_titles('{col_name} {row_name}')\n",
        "g.set_axis_labels('actual interval (minutes)', 'number of buses')"
      ],
      "execution_count": 0,
      "outputs": [
        {
          "output_type": "execute_result",
          "data": {
            "text/plain": [
              "<seaborn.axisgrid.FacetGrid at 0x7eff764ba588>"
            ]
          },
          "metadata": {
            "tags": []
          },
          "execution_count": 38
        },
        {
          "output_type": "display_data",
          "data": {
            "image/png": "[encoded data removed]",
            "text/plain": [
              "<Figure size 648x432 with 6 Axes>"
            ]
          },
          "metadata": {
            "tags": []
          }
        }
      ]
    },
    {
      "cell_type": "markdown",
      "metadata": {
        "id": "0ut3xk0QFOaM",
        "colab_type": "text"
      },
      "source": [
        "It's already clear that these don't look much like the exponential distribution of our model, but that is not telling us much yet: the distributions may be affected by non-constant scheduled arrival intervals.\n",
        "\n",
        "Let's repeat the above chart, examining the scheduled rather than observed arrival intervals:"
      ]
    },
    {
      "cell_type": "code",
      "metadata": {
        "id": "xIr7Say8BeiC",
        "colab_type": "code",
        "outputId": "c25c9730-1176-4e54-8f75-2dad3093bd06",
        "colab": {
          "base_uri": "https://localhost:8080/",
          "height": 478
        }
      },
      "source": [
        "g = sns.FacetGrid(df.dropna(), row='direction', col='route')\n",
        "g.map(plt.hist, 'scheduled_interval', bins=np.arange(20) - 0.5)\n",
        "g.set_titles('{col_name} {row_name}')\n",
        "g.set_axis_labels('scheduled interval (minutes)', 'frequency')"
      ],
      "execution_count": 0,
      "outputs": [
        {
          "output_type": "execute_result",
          "data": {
            "text/plain": [
              "<seaborn.axisgrid.FacetGrid at 0x7eff7e2155f8>"
            ]
          },
          "metadata": {
            "tags": []
          },
          "execution_count": 39
        },
        {
          "output_type": "display_data",
          "data": {
            "image/png": "[encoded data removed]",
            "text/plain": [
              "<Figure size 648x432 with 6 Axes>"
            ]
          },
          "metadata": {
            "tags": []
          }
        }
      ]
    },
    {
      "cell_type": "markdown",
      "metadata": {
        "id": "BQ6dwMONGPXZ",
        "colab_type": "text"
      },
      "source": [
        "This shows that the buses come at variety of arrival intervals thorughout the week, so we cannot evaluate the accuracy of the waiting time paradox from the distributions of raw arrival times.\n",
        "\n",
        "## Constructing Uniform Schedules\n",
        "Even though the scheduled arrival intervals are not uniform, there are a few particular intervals that have a large number of arrivals: for example, there are nearly 2000 northbound E-line buses with a scheduled interval of 10 minutes. In order to explore whether the waiting time paradox applies, let's group the data by line, direction, and scheduled interval, then re-stack these similar arrivals together as if they had happened in sequence. This should maintain all the relevant characteristics of the raw data, while making it easier to directly compare with the predictions of the waiting time paradox."
      ]
    },
    {
      "cell_type": "code",
      "metadata": {
        "id": "_74iT2p_GC7w",
        "colab_type": "code",
        "outputId": "9825b1b8-3b2e-4dc6-b6b4-caef5acc35d8",
        "colab": {
          "base_uri": "https://localhost:8080/",
          "height": 224
        }
      },
      "source": [
        "def stack_sequence(data):\n",
        "  # first sort by scheduled time\n",
        "  data = data.sort_values('scheduled')\n",
        "\n",
        "  # re-stack data & recompute relevant quantities\n",
        "  data['scheduled'] = data['scheduled_interval'].cumsum()\n",
        "  data['actual'] = data['scheduled'] + data['minutes_late']\n",
        "  data['actual_interval'] = data['actual'].sort_values().diff()\n",
        "  return data\n",
        "\n",
        "subset = df[df.scheduled_interval.isin([10, 12, 15])]\n",
        "grouped = subset.groupby(['route', 'direction', 'scheduled_interval'])\n",
        "sequenced = grouped.apply(stack_sequence).reset_index(drop=True)\n",
        "\n",
        "sequenced.head()"
      ],
      "execution_count": 0,
      "outputs": [
        {
          "output_type": "execute_result",
          "data": {
            "text/html": [
              "<div>\n",
              "<style scoped>\n",
              "    .dataframe tbody tr th:only-of-type {\n",
              "        vertical-align: middle;\n",
              "    }\n",
              "\n",
              "    .dataframe tbody tr th {\n",
              "        vertical-align: top;\n",
              "    }\n",
              "\n",
              "    .dataframe thead th {\n",
              "        text-align: right;\n",
              "    }\n",
              "</style>\n",
              "<table border=\"1\" class=\"dataframe\">\n",
              "  <thead>\n",
              "    <tr style=\"text-align: right;\">\n",
              "      <th></th>\n",
              "      <th>route</th>\n",
              "      <th>direction</th>\n",
              "      <th>scheduled</th>\n",
              "      <th>actual</th>\n",
              "      <th>minutes_late</th>\n",
              "      <th>actual_interval</th>\n",
              "      <th>scheduled_interval</th>\n",
              "    </tr>\n",
              "  </thead>\n",
              "  <tbody>\n",
              "    <tr>\n",
              "      <th>0</th>\n",
              "      <td>C</td>\n",
              "      <td>northbound</td>\n",
              "      <td>10.0</td>\n",
              "      <td>12.400000</td>\n",
              "      <td>2.400000</td>\n",
              "      <td>NaN</td>\n",
              "      <td>10.0</td>\n",
              "    </tr>\n",
              "    <tr>\n",
              "      <th>1</th>\n",
              "      <td>C</td>\n",
              "      <td>northbound</td>\n",
              "      <td>20.0</td>\n",
              "      <td>27.150000</td>\n",
              "      <td>7.150000</td>\n",
              "      <td>0.183333</td>\n",
              "      <td>10.0</td>\n",
              "    </tr>\n",
              "    <tr>\n",
              "      <th>2</th>\n",
              "      <td>C</td>\n",
              "      <td>northbound</td>\n",
              "      <td>30.0</td>\n",
              "      <td>26.966667</td>\n",
              "      <td>-3.033333</td>\n",
              "      <td>14.566667</td>\n",
              "      <td>10.0</td>\n",
              "    </tr>\n",
              "    <tr>\n",
              "      <th>3</th>\n",
              "      <td>C</td>\n",
              "      <td>northbound</td>\n",
              "      <td>40.0</td>\n",
              "      <td>35.516667</td>\n",
              "      <td>-4.483333</td>\n",
              "      <td>8.366667</td>\n",
              "      <td>10.0</td>\n",
              "    </tr>\n",
              "    <tr>\n",
              "      <th>4</th>\n",
              "      <td>C</td>\n",
              "      <td>northbound</td>\n",
              "      <td>50.0</td>\n",
              "      <td>53.583333</td>\n",
              "      <td>3.583333</td>\n",
              "      <td>18.066667</td>\n",
              "      <td>10.0</td>\n",
              "    </tr>\n",
              "  </tbody>\n",
              "</table>\n",
              "</div>"
            ],
            "text/plain": [
              "  route   direction  ...  actual_interval  scheduled_interval\n",
              "0     C  northbound  ...              NaN                10.0\n",
              "1     C  northbound  ...         0.183333                10.0\n",
              "2     C  northbound  ...        14.566667                10.0\n",
              "3     C  northbound  ...         8.366667                10.0\n",
              "4     C  northbound  ...        18.066667                10.0\n",
              "\n",
              "[5 rows x 7 columns]"
            ]
          },
          "metadata": {
            "tags": []
          },
          "execution_count": 40
        }
      ]
    },
    {
      "cell_type": "markdown",
      "metadata": {
        "id": "n5g2q0VXIVA_",
        "colab_type": "text"
      },
      "source": [
        "Using this cleaned data, we can plot the distribution of \"actual\" arrival intervals for each route, direction, and arrival frequency:"
      ]
    },
    {
      "cell_type": "code",
      "metadata": {
        "id": "mKGrzVdHIM5K",
        "colab_type": "code",
        "outputId": "c87bff56-f13e-4d05-e90f-568445b8cead",
        "colab": {
          "base_uri": "https://localhost:8080/",
          "height": 974
        }
      },
      "source": [
        "for route in ['C', 'D', 'E']:\n",
        "    g = sns.FacetGrid(sequenced.query(f\"route == '{route}'\"),\n",
        "                      row=\"direction\", col=\"scheduled_interval\")\n",
        "    g.map(plt.hist, \"actual_interval\", bins=np.arange(40) + 0.5)\n",
        "    g.set_titles('{row_name} ({col_name:.0f} min)')\n",
        "    g.set_axis_labels('actual interval (min)', 'count')\n",
        "    g.fig.set_size_inches(8, 4)\n",
        "    g.fig.suptitle(f'{route} line', y=1.05, fontsize=14)"
      ],
      "execution_count": 0,
      "outputs": [
        {
          "output_type": "display_data",
          "data": {
            "image/png": "[encoded data removed]",
            "text/plain": [
              "<Figure size 576x288 with 6 Axes>"
            ]
          },
          "metadata": {
            "tags": []
          }
        },
        {
          "output_type": "display_data",
          "data": {
            "image/png": "[encoded data removed]",
            "text/plain": [
              "<Figure size 576x288 with 6 Axes>"
            ]
          },
          "metadata": {
            "tags": []
          }
        },
        {
          "output_type": "display_data",
          "data": {
            "image/png": "[encoded data removed]",
            "text/plain": [
              "<Figure size 576x288 with 6 Axes>"
            ]
          },
          "metadata": {
            "tags": []
          }
        }
      ]
    },
    {
      "cell_type": "markdown",
      "metadata": {
        "id": "zbVhdo2ZKmFM",
        "colab_type": "text"
      },
      "source": [
        "We see that for each line and schedule, the distribution of observed arrival intervals is nearly Gaussian, is peaked near the scheduled arrival interval, and has a standard deviation that is smaller near the beginning of the route (southbound for C, northbound for D/E) and larger near the end. Even without a statistical test, it's clear by eye that the actual arrival intervals are definitely not exponentially distributed, which is the basic assumption on which the waiting time paradox rests.\n",
        "\n",
        "We can make use of the wait time simulation function we used above in order to find the average wait time for each bus line, direction, and schedule:\n",
        "\n"
      ]
    },
    {
      "cell_type": "code",
      "metadata": {
        "id": "w6WbdMDrKL7s",
        "colab_type": "code",
        "outputId": "9f3554bf-c192-4d3d-f6d3-aa5d2576f27a",
        "colab": {
          "base_uri": "https://localhost:8080/",
          "height": 357
        }
      },
      "source": [
        "grouped = sequenced.groupby(['route', 'direction', 'scheduled_interval'])\n",
        "sims = grouped['actual'].apply(simulate_wait_times)\n",
        "sims.apply(lambda times: '{0:.1f} +/- {1:.1f}'.format(times.mean(), times.std()))"
      ],
      "execution_count": 0,
      "outputs": [
        {
          "output_type": "execute_result",
          "data": {
            "text/plain": [
              "route  direction   scheduled_interval\n",
              "C      northbound  10.0                  7.8 +/- 12.5\n",
              "                   12.0                   7.4 +/- 5.7\n",
              "                   15.0                   8.8 +/- 6.4\n",
              "       southbound  10.0                   6.2 +/- 6.3\n",
              "                   12.0                   6.8 +/- 5.2\n",
              "                   15.0                   8.4 +/- 7.3\n",
              "D      northbound  10.0                   6.1 +/- 7.1\n",
              "                   12.0                   6.5 +/- 4.6\n",
              "                   15.0                   7.9 +/- 5.3\n",
              "       southbound  10.0                   6.7 +/- 5.3\n",
              "                   12.0                   7.5 +/- 5.9\n",
              "                   15.0                   8.8 +/- 6.5\n",
              "E      northbound  10.0                   5.5 +/- 3.7\n",
              "                   12.0                   6.5 +/- 4.3\n",
              "                   15.0                   7.9 +/- 4.9\n",
              "       southbound  10.0                   6.8 +/- 5.6\n",
              "                   12.0                   7.3 +/- 5.2\n",
              "                   15.0                   8.7 +/- 6.0\n",
              "Name: actual, dtype: object"
            ]
          },
          "metadata": {
            "tags": []
          },
          "execution_count": 44
        }
      ]
    },
    {
      "cell_type": "markdown",
      "metadata": {
        "id": "ZZpMA1NZLtTU",
        "colab_type": "text"
      },
      "source": [
        "The average waiting times are are perhaps a minute or two longer than half the scheduled interval, but not equal to the scheduled interval as the waiting time paradox implied. In other words, the inspection paradox is confirmed, but the waiting time paradox does not appear to match reality."
      ]
    },
    {
      "cell_type": "markdown",
      "metadata": {
        "id": "usM6rmhXI65b",
        "colab_type": "text"
      },
      "source": [
        "## Conclusion\n",
        "The waiting time paradox has been an interesting launching-point for a discussion that covered simulation, probability, and comparison of statistical assumptions with reality. Although we confirmed that real-world bus lines do follow some version of the inspection paradox, the above analysis shows pretty definitively that the core assumption behind the waiting time paradox — that the arrival of buses follows the statistics of a Poisson process — is not well-founded.\n",
        "\n",
        "In retrospect, this is perhaps not all that surprising: a Poisson process is a memoryless process that assumes the probability of an arrival is entirely independent of the time since the previous arrival. In reality, a well-run bus system will have schedules deliberately structured to avoid this kind of behavior: buses don't begin their routes at random times throughout the day, but rather begin their routes on a schedule chosen to best serve the transit-riding public.\n",
        "\n",
        "The larger lesson here is that you should be careful about the assumptions you bring to any data analysis task. A Poisson process is a good description for arrival time data — sometimes. But just because one type of data sounds like another type of data, it does not mean that assumptions valid for one are necessarily valid for the other. Often assumptions that seem correct on their face can lead to conclusions that don't match reality."
      ]
    },
    {
      "cell_type": "code",
      "metadata": {
        "id": "FRIsonfOLkUC",
        "colab_type": "code",
        "colab": {}
      },
      "source": [
        ""
      ],
      "execution_count": 0,
      "outputs": []
    }
  ]
}