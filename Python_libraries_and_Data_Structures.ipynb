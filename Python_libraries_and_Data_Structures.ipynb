{
  "nbformat": 4,
  "nbformat_minor": 0,
  "metadata": {
    "colab": {
      "name": "Python libraries and Data Structures.ipynb",
      "version": "0.3.2",
      "provenance": [],
      "collapsed_sections": [],
      "include_colab_link": true
    },
    "kernelspec": {
      "name": "python3",
      "display_name": "Python 3"
    },
    "accelerator": "GPU"
  },
  "cells": [
    {
      "cell_type": "markdown",
      "metadata": {
        "id": "view-in-github",
        "colab_type": "text"
      },
      "source": [
        "<a href=\"https://colab.research.google.com/github/2series/100_Days_of_ML_Code/blob/master/Python_libraries_and_Data_Structures.ipynb\" target=\"_parent\"><img src=\"https://colab.research.google.com/assets/colab-badge.svg\" alt=\"Open In Colab\"/></a>"
      ]
    },
    {
      "metadata": {
        "id": "mcngDymsFC4f",
        "colab_type": "text"
      },
      "cell_type": "markdown",
      "source": [
        "# Data Structures and Python Libraries"
      ]
    },
    {
      "metadata": {
        "id": "ODWoDY437p6z",
        "colab_type": "text"
      },
      "cell_type": "markdown",
      "source": [
        "**Lists** – Lists are one of the most versatile data structure in Python. A list can simply be defined by writing a list of comma separated values in square brackets. Lists might contain items of different types, but usually the items all have the same type. Python lists are mutable and individual elements of a list can be changed."
      ]
    },
    {
      "metadata": {
        "id": "DnAchXIX7fOh",
        "colab_type": "code",
        "outputId": "928c00c9-7ff9-46d8-fc89-86325400bbfc",
        "colab": {
          "base_uri": "https://localhost:8080/",
          "height": 34
        }
      },
      "cell_type": "code",
      "source": [
        "# a list can be simply defined by writing comma separated values in square brackets\n",
        "squares_list = [0, 1, 4, 9, 16, 26]\n",
        "print(squares_list)"
      ],
      "execution_count": 0,
      "outputs": [
        {
          "output_type": "stream",
          "text": [
            "[0, 1, 4, 9, 16, 26]\n"
          ],
          "name": "stdout"
        }
      ]
    },
    {
      "metadata": {
        "id": "Y17mj8JE92-J",
        "colab_type": "code",
        "outputId": "b23b497f-d878-40d9-d8f8-91d697c8e02f",
        "colab": {
          "base_uri": "https://localhost:8080/",
          "height": 34
        }
      },
      "cell_type": "code",
      "source": [
        "# individual elements of a list can be accessed by writing the index number in square bracket.\n",
        "# note that the first index of a list is 0 and not 1\n",
        "# indexing returns the item\n",
        "squares_list[0]"
      ],
      "execution_count": 0,
      "outputs": [
        {
          "output_type": "execute_result",
          "data": {
            "text/plain": [
              "0"
            ]
          },
          "metadata": {
            "tags": []
          },
          "execution_count": 10
        }
      ]
    },
    {
      "metadata": {
        "id": "g-Jxu88X-yeF",
        "colab_type": "code",
        "outputId": "6c7169ea-a1d7-49a2-e4fe-efe51abd66a8",
        "colab": {
          "base_uri": "https://localhost:8080/",
          "height": 34
        }
      },
      "cell_type": "code",
      "source": [
        "# a range of script can be accessed by having first index and last index\n",
        "# slicing returns a new list\n",
        "squares_list[2:4]"
      ],
      "execution_count": 0,
      "outputs": [
        {
          "output_type": "execute_result",
          "data": {
            "text/plain": [
              "[4, 9]"
            ]
          },
          "metadata": {
            "tags": []
          },
          "execution_count": 11
        }
      ]
    },
    {
      "metadata": {
        "id": "FjWUzd9F_O5I",
        "colab_type": "code",
        "outputId": "ce3aa352-cffe-42b2-d90d-32f10bf45808",
        "colab": {
          "base_uri": "https://localhost:8080/",
          "height": 34
        }
      },
      "cell_type": "code",
      "source": [
        "# a negitive index accesses the list from end\n",
        "# should return the second last element in the list\n",
        "squares_list[-2]"
      ],
      "execution_count": 0,
      "outputs": [
        {
          "output_type": "execute_result",
          "data": {
            "text/plain": [
              "16"
            ]
          },
          "metadata": {
            "tags": []
          },
          "execution_count": 12
        }
      ]
    },
    {
      "metadata": {
        "id": "q5yl7-JD_swN",
        "colab_type": "text"
      },
      "cell_type": "markdown",
      "source": [
        "**Common methods applicable to lists include:**\n",
        "\n",
        "*   append()\n",
        "\n",
        "*   extend()\n",
        "\n",
        "*   insert()\n",
        "\n",
        "*   remove()\n",
        "\n",
        "*   pop()\n",
        "\n",
        "*   count()\n",
        "\n",
        "*   sort()\n",
        "\n",
        "*   reverse()"
      ]
    },
    {
      "metadata": {
        "id": "pOmMV9PI8bmY",
        "colab_type": "text"
      },
      "cell_type": "markdown",
      "source": [
        "**Strings **– Strings can simply be defined by use of single ( ‘ ), double ( ” ) or triple ( ”’ ) inverted commas. Strings enclosed in tripe quotes ( ”’ ) can span over multiple lines and are used frequently in docstrings (Python’s way of documenting functions). \\ is used as an escape character. Please note that Python strings are immutable, so you can not change part of strings."
      ]
    },
    {
      "metadata": {
        "id": "Zk0I2Gyd8eCk",
        "colab_type": "code",
        "outputId": "716d67b0-874b-49be-c911-4a4c228b6af3",
        "colab": {
          "base_uri": "https://localhost:8080/",
          "height": 68
        }
      },
      "cell_type": "code",
      "source": [
        "# string can be defined by using single(''), double(\"\"), or triple() quotation\n",
        "greeting = 'Hello'\n",
        "print(greeting[1])                    # return char on the index 1\n",
        "print(len(greeting))                  # print len of string\n",
        "print(greeting + ' ' + 'World')       # string concat"
      ],
      "execution_count": 0,
      "outputs": [
        {
          "output_type": "stream",
          "text": [
            "e\n",
            "5\n",
            "Hello World\n"
          ],
          "name": "stdout"
        }
      ]
    },
    {
      "metadata": {
        "id": "rq_sL6LXCX4r",
        "colab_type": "code",
        "outputId": "836ed6fe-5378-463f-bb89-3e4a4d440483",
        "colab": {
          "base_uri": "https://localhost:8080/",
          "height": 34
        }
      },
      "cell_type": "code",
      "source": [
        "stmt = r'\\n is a newline char by default.'\n",
        "print(stmt)"
      ],
      "execution_count": 0,
      "outputs": [
        {
          "output_type": "stream",
          "text": [
            "\\n is a newline char by default.\n"
          ],
          "name": "stdout"
        }
      ]
    },
    {
      "metadata": {
        "id": "bkUKyZHXC1JJ",
        "colab_type": "code",
        "outputId": "d6f1aab4-0948-4c6a-a904-134ad5004e37",
        "colab": {
          "base_uri": "https://localhost:8080/",
          "height": 164
        }
      },
      "cell_type": "code",
      "source": [
        "greeting[1:] = 'i'                    # trying to change Hey to Hi. should return error"
      ],
      "execution_count": 0,
      "outputs": [
        {
          "output_type": "error",
          "ename": "TypeError",
          "evalue": "ignored",
          "traceback": [
            "\u001b[0;31m---------------------------------------------------------------------------\u001b[0m",
            "\u001b[0;31mTypeError\u001b[0m                                 Traceback (most recent call last)",
            "\u001b[0;32m<ipython-input-15-3cee9b95c159>\u001b[0m in \u001b[0;36m<module>\u001b[0;34m()\u001b[0m\n\u001b[0;32m----> 1\u001b[0;31m \u001b[0mgreeting\u001b[0m\u001b[0;34m[\u001b[0m\u001b[0;36m1\u001b[0m\u001b[0;34m:\u001b[0m\u001b[0;34m]\u001b[0m \u001b[0;34m=\u001b[0m \u001b[0;34m'i'\u001b[0m    \u001b[0;31m# trying to change Hey to Hi. should return error\u001b[0m\u001b[0;34m\u001b[0m\u001b[0;34m\u001b[0m\u001b[0m\n\u001b[0m",
            "\u001b[0;31mTypeError\u001b[0m: 'str' object does not support item assignment"
          ]
        }
      ]
    },
    {
      "metadata": {
        "id": "S0XzDe6ODUVs",
        "colab_type": "text"
      },
      "cell_type": "markdown",
      "source": [
        "**Common str methods include...They are helpful when you need to perform data manipulations or cleaning on the text fields**\n",
        "\n",
        "*   lower()\n",
        "\n",
        "*   upper()\n",
        "\n",
        "*   strip()\n",
        "\n",
        "*   isdigit()\n",
        "\n",
        "*   isspace()\n",
        "\n",
        "*   find()\n",
        "\n",
        "*   replace()\n",
        "\n",
        "*   split()\n",
        "\n",
        "*   join()"
      ]
    },
    {
      "metadata": {
        "id": "ZlyoS6aN8dPN",
        "colab_type": "text"
      },
      "cell_type": "markdown",
      "source": [
        "**Tuples** – A tuple is represented by a number of values separated by commas. Tuples are immutable and the output is surrounded by parentheses so that nested tuples are processed correctly. Additionally, even though tuples are immutable, they can hold mutable data if needed.\n",
        "\n",
        "Since Tuples are immutable and can not change, they are faster in processing as compared to lists. Hence, if your list is unlikely to change, you should use tuples, instead of lists."
      ]
    },
    {
      "metadata": {
        "id": "zzzez8pZ8ovn",
        "colab_type": "code",
        "outputId": "e287b9a9-84f1-43db-bdfc-74b02429c909",
        "colab": {
          "base_uri": "https://localhost:8080/",
          "height": 34
        }
      },
      "cell_type": "code",
      "source": [
        "# tuple is represented by a number of values separated by commas\n",
        "tuple_example = 0, 1, 4, 9, 16, 25\n",
        "print(tuple_example)"
      ],
      "execution_count": 0,
      "outputs": [
        {
          "output_type": "stream",
          "text": [
            "(0, 1, 4, 9, 16, 25)\n"
          ],
          "name": "stdout"
        }
      ]
    },
    {
      "metadata": {
        "id": "qQ9jG_XKFan7",
        "colab_type": "code",
        "outputId": "5817a88c-0099-441b-d790-3bf5bb101ff4",
        "colab": {
          "base_uri": "https://localhost:8080/",
          "height": 34
        }
      },
      "cell_type": "code",
      "source": [
        "# single elements can be accepted in similar fashion\n",
        "tuple_example[2]"
      ],
      "execution_count": 0,
      "outputs": [
        {
          "output_type": "execute_result",
          "data": {
            "text/plain": [
              "4"
            ]
          },
          "metadata": {
            "tags": []
          },
          "execution_count": 17
        }
      ]
    },
    {
      "metadata": {
        "id": "GFUYhuVQFzp7",
        "colab_type": "code",
        "outputId": "a7018a3d-ff89-4a20-8149-29937227e1ef",
        "colab": {
          "base_uri": "https://localhost:8080/",
          "height": 164
        }
      },
      "cell_type": "code",
      "source": [
        "# tuples are immutable and thus this should result in an error\n",
        "tuple_example[2] = 6"
      ],
      "execution_count": 0,
      "outputs": [
        {
          "output_type": "error",
          "ename": "TypeError",
          "evalue": "ignored",
          "traceback": [
            "\u001b[0;31m---------------------------------------------------------------------------\u001b[0m",
            "\u001b[0;31mTypeError\u001b[0m                                 Traceback (most recent call last)",
            "\u001b[0;32m<ipython-input-18-169f1019c9f8>\u001b[0m in \u001b[0;36m<module>\u001b[0;34m()\u001b[0m\n\u001b[0;32m----> 1\u001b[0;31m \u001b[0mtuple_example\u001b[0m\u001b[0;34m[\u001b[0m\u001b[0;36m2\u001b[0m\u001b[0;34m]\u001b[0m \u001b[0;34m=\u001b[0m \u001b[0;36m6\u001b[0m\u001b[0;34m\u001b[0m\u001b[0;34m\u001b[0m\u001b[0m\n\u001b[0m",
            "\u001b[0;31mTypeError\u001b[0m: 'tuple' object does not support item assignment"
          ]
        }
      ]
    },
    {
      "metadata": {
        "id": "qBSiYFZ48pFA",
        "colab_type": "text"
      },
      "cell_type": "markdown",
      "source": [
        "**Dictionary **– Dictionary is an unordered set of key: value pairs, with the requirement that the keys are unique (within one dictionary). A pair of braces creates an empty dictionary: {}. "
      ]
    },
    {
      "metadata": {
        "id": "3PodYnPc84Z4",
        "colab_type": "code",
        "outputId": "3c547798-6e45-4614-8195-20f7752632cd",
        "colab": {
          "base_uri": "https://localhost:8080/",
          "height": 34
        }
      },
      "cell_type": "code",
      "source": [
        "extensions = {'Kunal': 9073, 'Tavish': 9128, 'Sunil': 9223, 'Nitin': 9330}\n",
        "print(extensions)"
      ],
      "execution_count": 0,
      "outputs": [
        {
          "output_type": "stream",
          "text": [
            "{'Kunal': 9073, 'Tavish': 9128, 'Sunil': 9223, 'Nitin': 9330}\n"
          ],
          "name": "stdout"
        }
      ]
    },
    {
      "metadata": {
        "id": "2O3LgD87G0_Q",
        "colab_type": "code",
        "outputId": "bc0d8b4b-d059-4359-9b99-8205be3dbf9f",
        "colab": {
          "base_uri": "https://localhost:8080/",
          "height": 34
        }
      },
      "cell_type": "code",
      "source": [
        "extensions['Mukesh'] = 9150\n",
        "print(extensions)"
      ],
      "execution_count": 0,
      "outputs": [
        {
          "output_type": "stream",
          "text": [
            "{'Kunal': 9073, 'Tavish': 9128, 'Sunil': 9223, 'Nitin': 9330, 'Mukesh': 9150}\n"
          ],
          "name": "stdout"
        }
      ]
    },
    {
      "metadata": {
        "id": "ybyp6XUBHEu6",
        "colab_type": "code",
        "outputId": "8a10526a-c30e-4fc3-8a1a-9d9da8dcab30",
        "colab": {
          "base_uri": "https://localhost:8080/",
          "height": 34
        }
      },
      "cell_type": "code",
      "source": [
        "print(extensions.keys())"
      ],
      "execution_count": 0,
      "outputs": [
        {
          "output_type": "stream",
          "text": [
            "dict_keys(['Kunal', 'Tavish', 'Sunil', 'Nitin', 'Mukesh'])\n"
          ],
          "name": "stdout"
        }
      ]
    },
    {
      "metadata": {
        "id": "lcqm-gpOB3mg",
        "colab_type": "text"
      },
      "cell_type": "markdown",
      "source": [
        "# **Python Iteration and Conditional Constructs**\n",
        "\n",
        "Python has a FOR - loop which is the most widely used mthod for iteration"
      ]
    },
    {
      "metadata": {
        "id": "NkzL5hd2BJDQ",
        "colab_type": "code",
        "outputId": "77de0f9c-6b36-4cc1-e9c0-b8ae8859a941",
        "colab": {
          "base_uri": "https://localhost:8080/",
          "height": 130
        }
      },
      "cell_type": "code",
      "source": [
        "for i in [Python Iterable]:\n",
        "  expression(i)"
      ],
      "execution_count": 0,
      "outputs": [
        {
          "output_type": "error",
          "ename": "SyntaxError",
          "evalue": "ignored",
          "traceback": [
            "\u001b[0;36m  File \u001b[0;32m\"<ipython-input-23-ea2aba3ac5e7>\"\u001b[0;36m, line \u001b[0;32m1\u001b[0m\n\u001b[0;31m    for i in [Python Iterable]:\u001b[0m\n\u001b[0m                            ^\u001b[0m\n\u001b[0;31mSyntaxError\u001b[0m\u001b[0;31m:\u001b[0m invalid syntax\n"
          ]
        }
      ]
    },
    {
      "metadata": {
        "id": "TCxy9OjQD8TF",
        "colab_type": "text"
      },
      "cell_type": "markdown",
      "source": [
        "Here “Python Iterable” can be a list, tuple or other advanced data structures which we will explore in later sections. Let’s take a look at a simple example, determining the factorial of a number."
      ]
    },
    {
      "metadata": {
        "id": "ouzpNNWSBTRg",
        "colab_type": "code",
        "outputId": "2611699d-e648-4ba6-8324-e7b0b385060a",
        "colab": {
          "base_uri": "https://localhost:8080/",
          "height": 198
        }
      },
      "cell_type": "code",
      "source": [
        "fact=1\n",
        "for i in range(1,N+1):\n",
        "  fact *=i"
      ],
      "execution_count": 0,
      "outputs": [
        {
          "output_type": "error",
          "ename": "NameError",
          "evalue": "ignored",
          "traceback": [
            "\u001b[0;31m---------------------------------------------------------------------------\u001b[0m",
            "\u001b[0;31mNameError\u001b[0m                                 Traceback (most recent call last)",
            "\u001b[0;32m<ipython-input-24-3ccd8bc2a2a5>\u001b[0m in \u001b[0;36m<module>\u001b[0;34m()\u001b[0m\n\u001b[1;32m      1\u001b[0m \u001b[0mfact\u001b[0m\u001b[0;34m=\u001b[0m\u001b[0;36m1\u001b[0m\u001b[0;34m\u001b[0m\u001b[0;34m\u001b[0m\u001b[0m\n\u001b[0;32m----> 2\u001b[0;31m \u001b[0;32mfor\u001b[0m \u001b[0mi\u001b[0m \u001b[0;32min\u001b[0m \u001b[0mrange\u001b[0m\u001b[0;34m(\u001b[0m\u001b[0;36m1\u001b[0m\u001b[0;34m,\u001b[0m\u001b[0mN\u001b[0m\u001b[0;34m+\u001b[0m\u001b[0;36m1\u001b[0m\u001b[0;34m)\u001b[0m\u001b[0;34m:\u001b[0m\u001b[0;34m\u001b[0m\u001b[0;34m\u001b[0m\u001b[0m\n\u001b[0m\u001b[1;32m      3\u001b[0m   \u001b[0mfact\u001b[0m \u001b[0;34m*=\u001b[0m\u001b[0mi\u001b[0m\u001b[0;34m\u001b[0m\u001b[0;34m\u001b[0m\u001b[0m\n",
            "\u001b[0;31mNameError\u001b[0m: name 'N' is not defined"
          ]
        }
      ]
    },
    {
      "metadata": {
        "id": "B6SHv4YGEBnN",
        "colab_type": "text"
      },
      "cell_type": "markdown",
      "source": [
        "Coming to conditional statements, these are used to execute code fragments based on a condition. The most commonly used construct is if-else, with following syntax:"
      ]
    },
    {
      "metadata": {
        "id": "M6PQZjFcDCOp",
        "colab_type": "code",
        "outputId": "ca17ee38-ebc4-4e35-8b88-62191c270531",
        "colab": {
          "base_uri": "https://localhost:8080/",
          "height": 130
        }
      },
      "cell_type": "code",
      "source": [
        "if [condition]:\n",
        "  __execution if true__\n",
        "else:\n",
        "  __execution if false__"
      ],
      "execution_count": 0,
      "outputs": [
        {
          "output_type": "error",
          "ename": "SyntaxError",
          "evalue": "ignored",
          "traceback": [
            "\u001b[0;36m  File \u001b[0;32m\"<ipython-input-25-5053fa31abde>\"\u001b[0;36m, line \u001b[0;32m2\u001b[0m\n\u001b[0;31m    __execution if true__\u001b[0m\n\u001b[0m                         ^\u001b[0m\n\u001b[0;31mSyntaxError\u001b[0m\u001b[0;31m:\u001b[0m invalid syntax\n"
          ]
        }
      ]
    },
    {
      "metadata": {
        "id": "nBTHp40BEHqk",
        "colab_type": "text"
      },
      "cell_type": "markdown",
      "source": [
        "For instance, if we want to print whether the number N is even or odd:"
      ]
    },
    {
      "metadata": {
        "id": "srmSI75yDj1h",
        "colab_type": "code",
        "outputId": "a0b3358b-affb-46fd-8c05-f204712039c9",
        "colab": {
          "base_uri": "https://localhost:8080/",
          "height": 215
        }
      },
      "cell_type": "code",
      "source": [
        "if N%2 == 0:\n",
        "  print('Even')\n",
        "else:\n",
        "  print('Odd')"
      ],
      "execution_count": 0,
      "outputs": [
        {
          "output_type": "error",
          "ename": "NameError",
          "evalue": "ignored",
          "traceback": [
            "\u001b[0;31m---------------------------------------------------------------------------\u001b[0m",
            "\u001b[0;31mNameError\u001b[0m                                 Traceback (most recent call last)",
            "\u001b[0;32m<ipython-input-26-8e8e5924a738>\u001b[0m in \u001b[0;36m<module>\u001b[0;34m()\u001b[0m\n\u001b[0;32m----> 1\u001b[0;31m \u001b[0;32mif\u001b[0m \u001b[0mN\u001b[0m\u001b[0;34m%\u001b[0m\u001b[0;36m2\u001b[0m \u001b[0;34m==\u001b[0m \u001b[0;36m0\u001b[0m\u001b[0;34m:\u001b[0m\u001b[0;34m\u001b[0m\u001b[0;34m\u001b[0m\u001b[0m\n\u001b[0m\u001b[1;32m      2\u001b[0m   \u001b[0mprint\u001b[0m\u001b[0;34m(\u001b[0m\u001b[0;34m'Even'\u001b[0m\u001b[0;34m)\u001b[0m\u001b[0;34m\u001b[0m\u001b[0;34m\u001b[0m\u001b[0m\n\u001b[1;32m      3\u001b[0m \u001b[0;32melse\u001b[0m\u001b[0;34m:\u001b[0m\u001b[0;34m\u001b[0m\u001b[0;34m\u001b[0m\u001b[0m\n\u001b[1;32m      4\u001b[0m   \u001b[0mprint\u001b[0m\u001b[0;34m(\u001b[0m\u001b[0;34m'Odd'\u001b[0m\u001b[0;34m)\u001b[0m\u001b[0;34m\u001b[0m\u001b[0;34m\u001b[0m\u001b[0m\n",
            "\u001b[0;31mNameError\u001b[0m: name 'N' is not defined"
          ]
        }
      ]
    },
    {
      "metadata": {
        "id": "Crkn9aRhEZmK",
        "colab_type": "text"
      },
      "cell_type": "markdown",
      "source": [
        "Now that you are familiar with Python fundamentals, let’s take a step further. What if you have to perform the following tasks:\n",
        "\n",
        " 1. Multiply 2 matrices\n",
        " 2. Find the root of a quadratic equation\n",
        " 3. Plot bar charts and histograms\n",
        " 4. Make statistical models\n",
        " 5. Access web-pages\n",
        "\n",
        "If you try to write code from scratch, its going to be a nightmare and you won’t stay on Python for more than 2 days! But lets not worry about that. Thankfully, there are many libraries with predefined which we can directly import into our code and make our life easy.\n",
        "\n",
        "For example, consider the factorial example we just saw. We can do that in a single step as:"
      ]
    },
    {
      "metadata": {
        "id": "XajBz1DcDuDj",
        "colab_type": "code",
        "outputId": "2f59d22f-61fd-4b93-999d-932e472f8023",
        "colab": {
          "base_uri": "https://localhost:8080/",
          "height": 164
        }
      },
      "cell_type": "code",
      "source": [
        "math.factorial(N)"
      ],
      "execution_count": 0,
      "outputs": [
        {
          "output_type": "error",
          "ename": "NameError",
          "evalue": "ignored",
          "traceback": [
            "\u001b[0;31m---------------------------------------------------------------------------\u001b[0m",
            "\u001b[0;31mNameError\u001b[0m                                 Traceback (most recent call last)",
            "\u001b[0;32m<ipython-input-27-20da9cf84217>\u001b[0m in \u001b[0;36m<module>\u001b[0;34m()\u001b[0m\n\u001b[0;32m----> 1\u001b[0;31m \u001b[0mmath\u001b[0m\u001b[0;34m.\u001b[0m\u001b[0mfactorial\u001b[0m\u001b[0;34m(\u001b[0m\u001b[0mN\u001b[0m\u001b[0;34m)\u001b[0m\u001b[0;34m\u001b[0m\u001b[0;34m\u001b[0m\u001b[0m\n\u001b[0m",
            "\u001b[0;31mNameError\u001b[0m: name 'math' is not defined"
          ]
        }
      ]
    },
    {
      "metadata": {
        "id": "5IRgcMEgE1Fu",
        "colab_type": "text"
      },
      "cell_type": "markdown",
      "source": [
        "Off-course we need to import the math library for that. Lets explore the various libraries next."
      ]
    },
    {
      "metadata": {
        "id": "xhF-greWE7kg",
        "colab_type": "text"
      },
      "cell_type": "markdown",
      "source": [
        "# Python Libraries"
      ]
    },
    {
      "metadata": {
        "id": "aGZEycJFFN2Q",
        "colab_type": "text"
      },
      "cell_type": "markdown",
      "source": [
        "Lets take one step ahead in our journey to learn Python by getting acquainted with some useful libraries. The first step is obviously to learn to import them into our environment. There are several ways of doing so in Python:"
      ]
    },
    {
      "metadata": {
        "id": "AEq3CKknEtK9",
        "colab_type": "code",
        "colab": {}
      },
      "cell_type": "code",
      "source": [
        "import math as m\n",
        "from math import *"
      ],
      "execution_count": 0,
      "outputs": []
    },
    {
      "metadata": {
        "id": "Sheq0fkGFmKj",
        "colab_type": "text"
      },
      "cell_type": "markdown",
      "source": [
        "In the first manner, we have defined an alias m to library math. We can now use various functions from math library (e.g. factorial) by referencing it using the alias m.factorial().\n",
        "\n",
        "In the second manner, you have imported the entire name space in math i.e. you can directly use factorial() without referring to math."
      ]
    },
    {
      "metadata": {
        "id": "TTbx-5KkFvrv",
        "colab_type": "text"
      },
      "cell_type": "markdown",
      "source": [
        "Following are a list of libraries, you will need for any scientific computations and data analysis:\n",
        "\n",
        "*   **NumPy** stands for Numerical Python. The most powerful feature of NumPy is n-dimensional array. This library also contains basic linear algebra functions, Fourier transforms,  advanced random number capabilities and tools for integration with other low level languages like Fortran, C and C++\n",
        "\n",
        "*   **SciPy** stands for Scientific Python. SciPy is built on NumPy. It is one of the most useful library for variety of high level science and engineering modules like discrete Fourier transform, Linear Algebra, Optimization and Sparse matrices.\n",
        "\n",
        "*   **Matplotlib** for **plotting vast variety of graphs**, starting from histograms to line plots to heat plots.. You can use Pylab feature in ipython notebook (ipython notebook –pylab = inline) to use these plotting features inline. If you ignore the inline option, then pylab converts ipython environment to an environment, very similar to Matlab. You can also use Latex commands to add math to your plot.\n",
        "\n",
        "*   **Pandas** for **structured data operations and manipulations.** It is extensively used for data munging and preparation. Pandas were added relatively recently to Python and have been instrumental in boosting Python’s usage in data scientist community.\n",
        "\n",
        "*   **Scikit Learn** for machine learning. Built on NumPy, SciPy and matplotlib, this library contains a lot of effiecient tools for machine learning and statistical modeling including classification, regression, clustering and dimensionality reduction.\n",
        "\n",
        "*   **Statsmodels** for statistical modeling. Statsmodels is a Python module that allows users to explore data, estimate statistical models, and perform statistical tests. An extensive list of descriptive statistics, statistical tests, plotting functions, and result statistics are available for different types of data and each estimator.\n",
        "\n",
        "*   **Seaborn** for **statistical data visualization**. Seaborn is a library for making attractive and informative statistical graphics in Python. It is based on matplotlib. Seaborn aims to make visualization a central part of exploring and understanding data.\n",
        "\n",
        "*   **Bokeh **for creating interactive plots, dashboards and data applications on modern web-browsers. It empowers the user to generate elegant and concise graphics in the style of D3.js. Moreover, it has the capability of high-performance interactivity over very large or streaming datasets.\n",
        "\n",
        "*   **Blaze** for **extending the capability of Numpy and Pandas to distributed and streaming datasets**. It can be used to access data from a multitude of sources including Bcolz, MongoDB, SQLAlchemy, Apache Spark, PyTables, etc. Together with **Bokeh**, Blaze can act as a very powerful tool for creating effective visualizations and dashboards on huge chunks of data.\n",
        "\n",
        "*   **Scrapy** for web crawling. It is a very useful framework for getting specific patterns of data. It has the capability to start at a website home url and then dig through web-pages within the website to gather information.\n",
        "\n",
        "*  ** SymPy** for symbolic computation. It has wide-ranging capabilities from basic symbolic arithmetic to calculus, algebra, discrete mathematics and quantum physics. Another useful feature is the capability of formatting the result of the computations as LaTeX code.\n",
        "\n",
        "*   **Requests** for **accessing the web**. It works similar to the the standard python library urllib2 but is much easier to code. You will find subtle differences with urllib2 but for beginners, Requests might be more convenient.\n",
        "\n",
        "Additional libraries, you might need:\n",
        "\n",
        "*   **os** for Operating system and file operations\n",
        "\n",
        "*   **networkx** and **igraph** for graph based data manipulations\n",
        "\n",
        "*   **regular expressions** for finding patterns in text data\n",
        "\n",
        "*   **BeautifulSoup** for **scrapping web**. It is inferior to Scrapy as it will extract information from just a single webpage in a run.\n",
        "\n",
        "Now that we are familiar with Python fundamentals and additional libraries, lets take a deep dive into problem solving through Python. Yes I mean making a predictive model! In the process, we use some powerful libraries and also come across the next level of data structures. We will take you through the 3 key phases:\n",
        "\n",
        " 1. Data Exploration – finding out more about the data we have\n",
        " 2. Data Munging – cleaning the data and playing with it to make it better suit statistical modeling\n",
        " 3. Predictive Modeling – running the actual algorithms and having fun"
      ]
    },
    {
      "metadata": {
        "id": "j-50Ph9xKeqz",
        "colab_type": "text"
      },
      "cell_type": "markdown",
      "source": [
        "# Introduction to Series and Dataframes\n",
        "\n",
        "Series can be understood as a 1 dimensional labelled / indexed array. You can access individual elements of this series through these labels.\n",
        "\n",
        "A dataframe is similar to Excel workbook – you have column names referring to columns and you have rows, which can be accessed with use of row numbers. The essential difference being that column names and row numbers are known as column and row index, in case of dataframes.\n",
        "\n",
        "Series and dataframes form the core data model for Pandas in Python. The data sets are first read into these dataframes and then various operations (e.g. group by, aggregation etc.) can be applied very easily to its columns."
      ]
    },
    {
      "metadata": {
        "id": "yb_2NajUFU5b",
        "colab_type": "code",
        "colab": {}
      },
      "cell_type": "code",
      "source": [
        ""
      ],
      "execution_count": 0,
      "outputs": []
    }
  ]
}