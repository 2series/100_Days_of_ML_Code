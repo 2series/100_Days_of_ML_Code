{
  "nbformat": 4,
  "nbformat_minor": 0,
  "metadata": {
    "colab": {
      "name": "Password Detection Strength.ipynb",
      "version": "0.3.2",
      "provenance": [],
      "collapsed_sections": [],
      "include_colab_link": true
    },
    "kernelspec": {
      "name": "python3",
      "display_name": "Python 3"
    },
    "accelerator": "GPU"
  },
  "cells": [
    {
      "cell_type": "markdown",
      "metadata": {
        "id": "view-in-github",
        "colab_type": "text"
      },
      "source": [
        "<a href=\"https://colab.research.google.com/github/2series/100_Days_of_ML_Code/blob/master/Password_Detection_Strength.ipynb\" target=\"_parent\"><img src=\"https://colab.research.google.com/assets/colab-badge.svg\" alt=\"Open In Colab\"/></a>"
      ]
    },
    {
      "metadata": {
        "id": "neLdQcs-pkzm",
        "colab_type": "code",
        "colab": {
          "base_uri": "https://localhost:8080/",
          "height": 173
        },
        "outputId": "2ea4b327-a318-4278-b60f-911966bd6400"
      },
      "cell_type": "code",
      "source": [
        "!pip install pyperclip"
      ],
      "execution_count": 2,
      "outputs": [
        {
          "output_type": "stream",
          "text": [
            "Collecting pyperclip\n",
            "  Downloading https://files.pythonhosted.org/packages/2d/0f/4eda562dffd085945d57c2d9a5da745cfb5228c02bc90f2c74bbac746243/pyperclip-1.7.0.tar.gz\n",
            "Building wheels for collected packages: pyperclip\n",
            "  Running setup.py bdist_wheel for pyperclip ... \u001b[?25l-\b \bdone\n",
            "\u001b[?25h  Stored in directory: /root/.cache/pip/wheels/92/f0/ac/2ba2972034e98971c3654ece337ac61e546bdeb34ca960dc8c\n",
            "Successfully built pyperclip\n",
            "Installing collected packages: pyperclip\n",
            "Successfully installed pyperclip-1.7.0\n"
          ],
          "name": "stdout"
        }
      ]
    },
    {
      "metadata": {
        "id": "eJS49D8nprm1",
        "colab_type": "code",
        "colab": {}
      },
      "cell_type": "code",
      "source": [
        "import pyperclip, re"
      ],
      "execution_count": 0,
      "outputs": []
    },
    {
      "metadata": {
        "id": "UEEgrvP-prfA",
        "colab_type": "code",
        "colab": {}
      },
      "cell_type": "code",
      "source": [
        "passwordRegex = re.compile(r'''(\n",
        "    ^(?=.*[A-Z].*[A-Z])                           # at least two capital letters\n",
        "    (?=.*[!@#$&*])                                # at least one of these special characters\n",
        "    (?=.*[0-9].*[0-9])                            # at least two numeric digits\n",
        "    (?=.*[a-z].*[a-z].*[a-z])                     # at least three lower case letters\n",
        "    .{10,}                                        # at least 10 total digits\n",
        "    $\n",
        "    )''', re.VERBOSE)"
      ],
      "execution_count": 0,
      "outputs": []
    },
    {
      "metadata": {
        "id": "vWv93dgXprUo",
        "colab_type": "code",
        "colab": {}
      },
      "cell_type": "code",
      "source": [
        "def userInputPasswordCheck():\n",
        "    ppass = input(\"Enter a potential password: \")\n",
        "    mo = passwordRegex.search(ppass)\n",
        "    if (not mo):\n",
        "        print(\"Not strong, bling blong\")\n",
        "        return False\n",
        "    else:\n",
        "        print(\"Long, Strong, and down to get the crypto on\")\n",
        "        return True"
      ],
      "execution_count": 0,
      "outputs": []
    },
    {
      "metadata": {
        "id": "QDZf0V2XqPXe",
        "colab_type": "code",
        "colab": {
          "base_uri": "https://localhost:8080/",
          "height": 68
        },
        "outputId": "d08d213a-0c58-45df-e2a3-4c5d8fc3fe07"
      },
      "cell_type": "code",
      "source": [
        "userInputPasswordCheck()"
      ],
      "execution_count": 11,
      "outputs": [
        {
          "output_type": "stream",
          "text": [
            "Enter a potential password: 786Even#^\n",
            "Not strong, bling blong\n"
          ],
          "name": "stdout"
        },
        {
          "output_type": "execute_result",
          "data": {
            "text/plain": [
              "False"
            ]
          },
          "metadata": {
            "tags": []
          },
          "execution_count": 11
        }
      ]
    }
  ]
}