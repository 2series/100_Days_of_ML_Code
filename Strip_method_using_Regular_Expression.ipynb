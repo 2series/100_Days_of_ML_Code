{
  "nbformat": 4,
  "nbformat_minor": 0,
  "metadata": {
    "colab": {
      "name": "Strip method using Regular Expression.ipynb",
      "version": "0.3.2",
      "provenance": [],
      "collapsed_sections": [],
      "include_colab_link": true
    },
    "kernelspec": {
      "name": "python3",
      "display_name": "Python 3"
    },
    "accelerator": "GPU"
  },
  "cells": [
    {
      "cell_type": "markdown",
      "metadata": {
        "id": "view-in-github",
        "colab_type": "text"
      },
      "source": [
        "<a href=\"https://colab.research.google.com/github/2series/100_Days_of_ML_Code/blob/master/Strip_method_using_Regular_Expression.ipynb\" target=\"_parent\"><img src=\"https://colab.research.google.com/assets/colab-badge.svg\" alt=\"Open In Colab\"/></a>"
      ]
    },
    {
      "metadata": {
        "id": "ZbSOo5uau9yY",
        "colab_type": "code",
        "colab": {}
      },
      "cell_type": "code",
      "source": [
        "import re"
      ],
      "execution_count": 0,
      "outputs": []
    },
    {
      "metadata": {
        "id": "beFvw32xvKwd",
        "colab_type": "code",
        "colab": {
          "base_uri": "https://localhost:8080/",
          "height": 51
        },
        "outputId": "c0e8951a-af45-4b08-b16d-ec6ed3720d5d"
      },
      "cell_type": "code",
      "source": [
        "string = input(\"Enter a string to strip: \")\n",
        "bad_chars = input(\"Enter the characters you want to be striped: \")"
      ],
      "execution_count": 2,
      "outputs": [
        {
          "output_type": "stream",
          "text": [
            "Enter a string to strip: we are going forward\n",
            "Enter the characters you want to be striped: are\n"
          ],
          "name": "stdout"
        }
      ]
    },
    {
      "metadata": {
        "id": "jWbUKxzHvVde",
        "colab_type": "code",
        "colab": {}
      },
      "cell_type": "code",
      "source": [
        "def regex_strip(string, bad_chars):\n",
        "    \"\"\"\n",
        "    Replicates the usage of strip() utilizing regex.\n",
        "    \n",
        "    If no other arguments are passed other than the string to strip,\n",
        "    then whitespace characters will be removed from the beginning\n",
        "    and end of the string. Otherwise, the characters specified\n",
        "    in the second argument to the function will be removed from the string.\n",
        "    \"\"\"\n",
        "    strip_regex = re.compile('[%s]' % bad_chars)\n",
        "    return strip_regex.sub('', string)"
      ],
      "execution_count": 0,
      "outputs": []
    },
    {
      "metadata": {
        "id": "BANh4PSvvaQv",
        "colab_type": "code",
        "colab": {
          "base_uri": "https://localhost:8080/",
          "height": 34
        },
        "outputId": "d7ef485f-308a-443d-a9b5-aadca419ab78"
      },
      "cell_type": "code",
      "source": [
        "try:\n",
        "    print(regex_strip(string, bad_chars))\n",
        "except TypeError:\n",
        "    print(regex_strip(string, ' '))"
      ],
      "execution_count": 4,
      "outputs": [
        {
          "output_type": "stream",
          "text": [
            "w  going fowd\n"
          ],
          "name": "stdout"
        }
      ]
    }
  ]
}